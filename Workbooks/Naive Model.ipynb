{
 "cells": [
  {
   "cell_type": "code",
   "execution_count": 1,
   "id": "d0f5caeb",
   "metadata": {},
   "outputs": [],
   "source": [
    "# !pip install seaborn\n",
    "# !pip install keras\n",
    "# !pip install tensorflow\n",
    "# !pip install xgboost\n"
   ]
  },
  {
   "cell_type": "code",
   "execution_count": 2,
   "id": "bd9fa235",
   "metadata": {},
   "outputs": [],
   "source": [
    "import yfinance as yf\n",
    "import pandas as pd\n",
    "from datetime import datetime, timedelta\n",
    "import pandas as pd\n",
    "import matplotlib.pyplot as plt\n",
    "import numpy as np\n",
    "import ta\n",
    "from ta.volatility import AverageTrueRange\n",
    "# import pandas_ta as ta\n",
    "from statsmodels.tsa.stattools import adfuller\n",
    "from statsmodels.graphics.tsaplots import plot_acf, plot_pacf\n",
    "from statsmodels.tsa.arima.model import ARIMA\n",
    "from sklearn.metrics import mean_squared_error, mean_absolute_error, mean_absolute_percentage_error\n",
    "from statsmodels.tsa.stattools import adfuller\n",
    "from statsmodels.tsa.seasonal import seasonal_decompose\n",
    "from pylab import rcParams\n",
    "import requests\n",
    "import json\n",
    "from sklearn.model_selection import TimeSeriesSplit\n",
    "from sklearn.preprocessing import MinMaxScaler\n",
    "import seaborn as sns\n",
    "from xgboost import XGBRegressor\n",
    "from sklearn.feature_selection import RFE\n",
    "from sklearn.linear_model import LinearRegression\n",
    "import xgboost\n",
    "from sklearn.feature_selection import RFECV\n",
    "from sklearn.model_selection import GridSearchCV\n",
    "from sklearn.preprocessing import MinMaxScaler\n",
    "from scipy import stats\n",
    "from sklearn.model_selection import TimeSeriesSplit\n",
    "from keras.models import Sequential\n",
    "from keras.layers import LSTM, Dense, Dropout, AdditiveAttention, Permute, Reshape, Multiply\n",
    "import tensorflow as tf\n",
    "from tensorflow.keras.layers import Dense, LSTM, Permute, Reshape, Multiply, Flatten, Input\n",
    "from tensorflow.keras.layers import AdditiveAttention # Make sure this is correctly imported\n",
    "from tensorflow.keras.models import Model\n",
    "from keras.layers import BatchNormalization\n",
    "from keras.callbacks import EarlyStopping\n",
    "from sklearn.metrics import mean_squared_error, mean_absolute_error, mean_absolute_percentage_error, r2_score\n",
    "import pandas as pd\n",
    "import mplfinance as mpf\n",
    "import matplotlib.dates as mpl_dates\n",
    "import matplotlib.pyplot as plt\n",
    "from pmdarima import auto_arima\n"
   ]
  },
  {
   "cell_type": "code",
   "execution_count": 3,
   "id": "52554ba4",
   "metadata": {},
   "outputs": [
    {
     "name": "stdout",
     "output_type": "stream",
     "text": [
      "                                 Open        High         Low       Close  \\\n",
      "Datetime                                                                    \n",
      "2023-06-27 09:30:00-04:00  331.859985  334.114410  331.119995  332.000000   \n",
      "2023-06-27 10:30:00-04:00  331.989990  332.107300  329.299988  331.873413   \n",
      "2023-06-27 11:30:00-04:00  331.920013  332.839996  331.269989  331.970001   \n",
      "2023-06-27 12:30:00-04:00  331.970001  333.510010  331.700012  333.312897   \n",
      "2023-06-27 13:30:00-04:00  333.320007  335.815002  333.320007  335.480011   \n",
      "\n",
      "                            Volume  Dividends  Stock Splits  \n",
      "Datetime                                                     \n",
      "2023-06-27 09:30:00-04:00  4718321        0.0           0.0  \n",
      "2023-06-27 10:30:00-04:00  2911379        0.0           0.0  \n",
      "2023-06-27 11:30:00-04:00  1904459        0.0           0.0  \n",
      "2023-06-27 12:30:00-04:00  2752173        0.0           0.0  \n",
      "2023-06-27 13:30:00-04:00  2018662        0.0           0.0  \n"
     ]
    },
    {
     "data": {
      "text/plain": [
       "(3487, 7)"
      ]
     },
     "execution_count": 3,
     "metadata": {},
     "output_type": "execute_result"
    }
   ],
   "source": [
    "msft = yf.Ticker(\"MSFT\")\n",
    "msft_df = msft.history(\n",
    "    period=\"max\",\n",
    "    interval=\"1h\", \n",
    ")\n",
    "print(msft_df.head())\n",
    "msft_df.shape"
   ]
  },
  {
   "cell_type": "markdown",
   "id": "90a9087f",
   "metadata": {},
   "source": [
    "# Preprocessing"
   ]
  },
  {
   "cell_type": "markdown",
   "id": "607049c1",
   "metadata": {},
   "source": [
    "## Handling NaNs"
   ]
  },
  {
   "cell_type": "code",
   "execution_count": 4,
   "id": "d7472088",
   "metadata": {},
   "outputs": [
    {
     "data": {
      "text/plain": [
       "0"
      ]
     },
     "execution_count": 4,
     "metadata": {},
     "output_type": "execute_result"
    }
   ],
   "source": [
    "msft_df.isnull().sum().sum()"
   ]
  },
  {
   "cell_type": "markdown",
   "id": "8d7b2879",
   "metadata": {},
   "source": [
    "## Handling Outliers"
   ]
  },
  {
   "cell_type": "code",
   "execution_count": 5,
   "id": "f46ccf5b",
   "metadata": {},
   "outputs": [
    {
     "name": "stdout",
     "output_type": "stream",
     "text": [
      "The Amount of Outliers Removed: 93\n"
     ]
    }
   ],
   "source": [
    "Q1 = msft_df.quantile(0.25)\n",
    "Q3 = msft_df.quantile(0.75)\n",
    "IQR = Q3 - Q1\n",
    "\n",
    "df_no_outliers = msft_df[~((msft_df < (Q1 - 3 * IQR)) | (msft_df > (Q3 + 3 * IQR))).any(axis=1)]\n",
    "print(f\"The Amount of Outliers Removed: {msft_df.shape[0] - df_no_outliers.shape[0]}\")"
   ]
  },
  {
   "cell_type": "markdown",
   "id": "421ba255",
   "metadata": {},
   "source": [
    "## Handling Duplicates"
   ]
  },
  {
   "cell_type": "code",
   "execution_count": 6,
   "id": "5f1b8f1a",
   "metadata": {},
   "outputs": [
    {
     "data": {
      "text/plain": [
       "0"
      ]
     },
     "execution_count": 6,
     "metadata": {},
     "output_type": "execute_result"
    }
   ],
   "source": [
    "msft_df[msft_df.duplicated()]\n",
    "msft_df.duplicated().sum()"
   ]
  },
  {
   "cell_type": "markdown",
   "id": "a668630f",
   "metadata": {},
   "source": [
    "## Feature Engineering"
   ]
  },
  {
   "cell_type": "markdown",
   "id": "bbd1cf15",
   "metadata": {},
   "source": [
    "### Lagged Prices"
   ]
  },
  {
   "cell_type": "code",
   "execution_count": 7,
   "id": "4595fdee",
   "metadata": {},
   "outputs": [],
   "source": [
    "for col in ['Open', 'High', 'Low', 'Close', 'Volume']:\n",
    "    lag_periods = [1, 2, 3, 4, 5, 6] # within 1 day range\n",
    "    for lag in lag_periods:\n",
    "        msft_df[f'{col}_price_lag_{lag}H'] = msft_df[col].shift(lag)"
   ]
  },
  {
   "cell_type": "markdown",
   "id": "5f1703de",
   "metadata": {},
   "source": [
    "### Lagged Returns"
   ]
  },
  {
   "cell_type": "markdown",
   "id": "97cebd7e",
   "metadata": {},
   "source": [
    "#### Hourly"
   ]
  },
  {
   "cell_type": "code",
   "execution_count": 8,
   "id": "d0b2c099",
   "metadata": {},
   "outputs": [],
   "source": [
    "msft_df['Hourly_return'] = msft_df['Close'].pct_change(periods=1)\n",
    "lag_returns_hourly = [1, 2, 3, 4, 5, 6] # range within 1 day\n",
    "for lag in lag_returns_hourly:\n",
    "    msft_df[f'Hourly_return_lag_{lag}H'] = msft_df['Hourly_return'].shift(lag)"
   ]
  },
  {
   "cell_type": "markdown",
   "id": "6ba36f97",
   "metadata": {},
   "source": [
    "#### Daily"
   ]
  },
  {
   "cell_type": "code",
   "execution_count": 9,
   "id": "b790f586",
   "metadata": {},
   "outputs": [],
   "source": [
    "msft_df['Daily_return'] = msft_df['Close'].pct_change(periods=7)\n",
    "lag_returns_daily = [7,14,21,28] # 1-4 day range\n",
    "for lag in lag_returns_daily:\n",
    "    msft_df[f'Daily_return_lag_{lag}H'] = msft_df['Daily_return'].shift(lag)"
   ]
  },
  {
   "cell_type": "markdown",
   "id": "45ef06fe",
   "metadata": {},
   "source": [
    "#### Weekly"
   ]
  },
  {
   "cell_type": "code",
   "execution_count": 10,
   "id": "11cc9602",
   "metadata": {},
   "outputs": [],
   "source": [
    "msft_df['Weekly_return'] = msft_df['Close'].pct_change(periods=35)\n",
    "lag_returns_weekly = [35] # range within 2 weeks\n",
    "for lag in lag_returns_weekly:\n",
    "    msft_df[f'weekly_return_lag_{lag}H'] = msft_df['Weekly_return'].shift(lag)"
   ]
  },
  {
   "cell_type": "markdown",
   "id": "ab57c5ed",
   "metadata": {},
   "source": [
    "### Moving Averages"
   ]
  },
  {
   "cell_type": "markdown",
   "id": "c10c3da1",
   "metadata": {},
   "source": [
    "#### Simple"
   ]
  },
  {
   "cell_type": "code",
   "execution_count": 11,
   "id": "3435e956",
   "metadata": {},
   "outputs": [],
   "source": [
    "sma_windows = [5, 7, 10, 21, 28, 35]\n",
    "for window in sma_windows:\n",
    "    msft_df[f'SMA_{window}H'] = msft_df['Close'].rolling(window=window).mean()"
   ]
  },
  {
   "cell_type": "markdown",
   "id": "97e42cba",
   "metadata": {},
   "source": [
    "#### Exponential"
   ]
  },
  {
   "cell_type": "code",
   "execution_count": 12,
   "id": "0e9050a1",
   "metadata": {},
   "outputs": [],
   "source": [
    "ema_windows = [5, 7, 10, 21, 28, 35]\n",
    "for window in ema_windows:\n",
    "    msft_df[f'EMA_{window}H'] = msft_df['Close'].ewm(span=window, adjust=False).mean()"
   ]
  },
  {
   "cell_type": "markdown",
   "id": "80d5b00a",
   "metadata": {},
   "source": [
    "#### Logarithmic Simple"
   ]
  },
  {
   "cell_type": "markdown",
   "id": "20112387",
   "metadata": {},
   "source": [
    "I created these wild fixing the stationarity"
   ]
  },
  {
   "cell_type": "code",
   "execution_count": 13,
   "id": "a88aaad9",
   "metadata": {},
   "outputs": [],
   "source": [
    "msft_df['Log_Close'] = np.log(msft_df['Close'])\n",
    "msft_df['Rolling_Log_Avg'] = msft_df['Log_Close'].rolling(7).mean()\n",
    "msft_df['Rolling_Log_Std'] = msft_df['Log_Close'].rolling(7).std()"
   ]
  },
  {
   "cell_type": "markdown",
   "id": "e3621730",
   "metadata": {},
   "source": [
    "### Volatility"
   ]
  },
  {
   "cell_type": "markdown",
   "id": "8c720fa8",
   "metadata": {},
   "source": [
    "#### Standard Deviation"
   ]
  },
  {
   "cell_type": "code",
   "execution_count": 14,
   "id": "8d7b0f38",
   "metadata": {},
   "outputs": [],
   "source": [
    "volatility_window = [3, 7, 14, 21, 28, 35]\n",
    "\n",
    "for window in volatility_window:\n",
    "    msft_df[f'Volatility_StdDEV_{window}H'] = msft_df['Hourly_return'].rolling(window=window).std()"
   ]
  },
  {
   "cell_type": "markdown",
   "id": "00e76a73",
   "metadata": {},
   "source": [
    "### Technical Indicators"
   ]
  },
  {
   "cell_type": "markdown",
   "id": "90763195",
   "metadata": {},
   "source": [
    "#### Average True Range (Volatility)"
   ]
  },
  {
   "cell_type": "code",
   "execution_count": 15,
   "id": "225c00d3",
   "metadata": {},
   "outputs": [],
   "source": [
    "atr_periods = [7, 14, 21, 28, 35]\n",
    "\n",
    "for period in atr_periods:\n",
    "    atr = AverageTrueRange(\n",
    "        high=msft_df['High'],\n",
    "        low=msft_df['Low'],\n",
    "        close=msft_df['Close'].shift(1),\n",
    "        window=period,\n",
    "        fillna=False\n",
    "    )\n",
    "    msft_df[f'ATR_{period}H'] = atr.average_true_range()"
   ]
  },
  {
   "cell_type": "markdown",
   "id": "91e39880",
   "metadata": {},
   "source": [
    "#### RSI (Momentum Indicator)"
   ]
  },
  {
   "cell_type": "code",
   "execution_count": 16,
   "id": "0be358e2",
   "metadata": {},
   "outputs": [],
   "source": [
    "from ta.momentum import RSIIndicator\n",
    "\n",
    "rsi_indicator = RSIIndicator(close=msft_df['Close'], window=14)\n",
    "\n",
    "\n",
    "msft_df['RSI_14'] = rsi_indicator.rsi()\n",
    "\n",
    "msft_df['RSI_Overbought'] = (msft_df['RSI_14'] > 70).astype(int)\n",
    "msft_df['RSI_Oversold'] = (msft_df['RSI_14'] < 30).astype(int)"
   ]
  },
  {
   "cell_type": "markdown",
   "id": "14d47bba",
   "metadata": {},
   "source": [
    "#### MACD (Momentum Indicator)"
   ]
  },
  {
   "cell_type": "code",
   "execution_count": 17,
   "id": "c830866d",
   "metadata": {},
   "outputs": [],
   "source": [
    "from ta.trend import MACD\n",
    "\n",
    "macd_indicator = MACD(\n",
    "    close=msft_df['Close'],\n",
    "    window_slow=26,\n",
    "    window_fast=12,\n",
    "    window_sign=9,\n",
    "    fillna=False\n",
    ")\n",
    "\n",
    "msft_df['MACD'] = macd_indicator.macd()\n",
    "msft_df['MACD_Signal'] = macd_indicator.macd_signal()\n",
    "msft_df['MACD_Histogram'] = macd_indicator.macd_diff()\n",
    "\n",
    "msft_df['MACD_Prev'] = msft_df['MACD'].shift(1)\n",
    "msft_df['MACD_Signal_Prev'] = msft_df['MACD_Signal'].shift(1)\n",
    "msft_df['MACD_Cross_Up'] = ((msft_df['MACD'] > msft_df['MACD_Signal']) & (msft_df['MACD_Prev'] <= msft_df['MACD_Signal_Prev'])).astype(int)\n",
    "msft_df['MACD_Cross_Down'] = ((msft_df['MACD'] < msft_df['MACD_Signal']) & (msft_df['MACD_Prev'] >= msft_df['MACD_Signal_Prev'])).astype(int)"
   ]
  },
  {
   "cell_type": "markdown",
   "id": "f86af217",
   "metadata": {},
   "source": [
    "#### Bollinger Bands (Volatility Indicator)"
   ]
  },
  {
   "cell_type": "code",
   "execution_count": 18,
   "id": "050f44c7",
   "metadata": {},
   "outputs": [],
   "source": [
    "from ta.volatility import BollingerBands\n",
    "\n",
    "\n",
    "bb_indicator = BollingerBands(\n",
    "    close=msft_df['Close'],\n",
    "    window=2,         \n",
    "    window_dev=2,     \n",
    "    fillna=False\n",
    ")\n",
    "\n",
    "msft_df['Bollinger_Lower'] = bb_indicator.bollinger_lband()\n",
    "msft_df['Bollinger_Middle'] = bb_indicator.bollinger_mavg()\n",
    "msft_df['Bollinger_Upper'] = bb_indicator.bollinger_hband()\n",
    "msft_df['Bollinger_Bandwidth_Raw'] = bb_indicator.bollinger_wband()\n",
    "msft_df['Bollinger_PercentageB'] = bb_indicator.bollinger_pband()\n",
    "\n",
    "msft_df['Bollinger_Bandwidth'] = msft_df['Bollinger_Bandwidth_Raw'] / 100\n",
    "msft_df['Price_Above_Upper_BB'] = (msft_df['Close'] > msft_df['Bollinger_Upper']).astype(int)\n",
    "msft_df['Price_Below_Lower_BB'] = (msft_df['Close'] < msft_df['Bollinger_Lower']).astype(int)"
   ]
  },
  {
   "cell_type": "markdown",
   "id": "3e41ce74",
   "metadata": {},
   "source": [
    "#### Stochastic Oscillator (Momentum Indicator)"
   ]
  },
  {
   "cell_type": "code",
   "execution_count": 19,
   "id": "b3fbce6e",
   "metadata": {},
   "outputs": [],
   "source": [
    "from ta.momentum import StochasticOscillator\n",
    "\n",
    "# Create the Stochastic Oscillator object\n",
    "stoch = StochasticOscillator(\n",
    "    high=msft_df['High'],\n",
    "    low=msft_df['Low'],\n",
    "    close=msft_df['Close'],\n",
    "    window=14,      \n",
    "    smooth_window=3, \n",
    "    fillna=False\n",
    ")\n",
    "\n",
    "msft_df['%K'] = stoch.stoch()\n",
    "\n",
    "msft_df['%D'] = stoch.stoch_signal()"
   ]
  },
  {
   "cell_type": "markdown",
   "id": "da3b4ac8",
   "metadata": {},
   "source": [
    "#### ADX (Trend/Momentum Indicator)"
   ]
  },
  {
   "cell_type": "code",
   "execution_count": 20,
   "id": "8b3f6cb3",
   "metadata": {},
   "outputs": [],
   "source": [
    "from ta.trend import ADXIndicator\n",
    "\n",
    "\n",
    "adx = ADXIndicator(\n",
    "    high=msft_df['High'],\n",
    "    low=msft_df['Low'],\n",
    "    close=msft_df['Close'],\n",
    "    window=14,\n",
    "    fillna=False\n",
    ")\n",
    "\n",
    "\n",
    "msft_df['ADX_14'] = adx.adx()\n",
    "msft_df['Positive_DI'] = adx.adx_pos()\n",
    "msft_df['Negative_DI'] = adx.adx_neg()\n",
    "\n",
    "\n",
    "msft_df['Trend_Strong_ADX'] = (msft_df['ADX_14'] > 25).astype(int)\n"
   ]
  },
  {
   "cell_type": "markdown",
   "id": "2aedb497",
   "metadata": {},
   "source": [
    "### Time Stamps"
   ]
  },
  {
   "cell_type": "code",
   "execution_count": 21,
   "id": "8570efc8",
   "metadata": {},
   "outputs": [
    {
     "name": "stderr",
     "output_type": "stream",
     "text": [
      "C:\\Users\\billy\\AppData\\Local\\Temp\\ipykernel_45496\\2403176649.py:1: PerformanceWarning: DataFrame is highly fragmented.  This is usually the result of calling `frame.insert` many times, which has poor performance.  Consider joining all columns at once using pd.concat(axis=1) instead. To get a de-fragmented frame, use `newframe = frame.copy()`\n",
      "  msft_df['Hour'] = msft_df.index.hour\n",
      "C:\\Users\\billy\\AppData\\Local\\Temp\\ipykernel_45496\\2403176649.py:2: PerformanceWarning: DataFrame is highly fragmented.  This is usually the result of calling `frame.insert` many times, which has poor performance.  Consider joining all columns at once using pd.concat(axis=1) instead. To get a de-fragmented frame, use `newframe = frame.copy()`\n",
      "  msft_df['Day_of_Week'] = msft_df.index.dayofweek\n",
      "C:\\Users\\billy\\AppData\\Local\\Temp\\ipykernel_45496\\2403176649.py:3: PerformanceWarning: DataFrame is highly fragmented.  This is usually the result of calling `frame.insert` many times, which has poor performance.  Consider joining all columns at once using pd.concat(axis=1) instead. To get a de-fragmented frame, use `newframe = frame.copy()`\n",
      "  msft_df['Day_of_Month'] = msft_df.index.day\n",
      "C:\\Users\\billy\\AppData\\Local\\Temp\\ipykernel_45496\\2403176649.py:4: PerformanceWarning: DataFrame is highly fragmented.  This is usually the result of calling `frame.insert` many times, which has poor performance.  Consider joining all columns at once using pd.concat(axis=1) instead. To get a de-fragmented frame, use `newframe = frame.copy()`\n",
      "  msft_df['Month'] = msft_df.index.month\n",
      "C:\\Users\\billy\\AppData\\Local\\Temp\\ipykernel_45496\\2403176649.py:5: PerformanceWarning: DataFrame is highly fragmented.  This is usually the result of calling `frame.insert` many times, which has poor performance.  Consider joining all columns at once using pd.concat(axis=1) instead. To get a de-fragmented frame, use `newframe = frame.copy()`\n",
      "  msft_df['Year'] = msft_df.index.year\n",
      "C:\\Users\\billy\\AppData\\Local\\Temp\\ipykernel_45496\\2403176649.py:6: PerformanceWarning: DataFrame is highly fragmented.  This is usually the result of calling `frame.insert` many times, which has poor performance.  Consider joining all columns at once using pd.concat(axis=1) instead. To get a de-fragmented frame, use `newframe = frame.copy()`\n",
      "  msft_df['Week_of_Year'] = msft_df.index.isocalendar().week.astype(int)\n"
     ]
    }
   ],
   "source": [
    "msft_df['Hour'] = msft_df.index.hour\n",
    "msft_df['Day_of_Week'] = msft_df.index.dayofweek\n",
    "msft_df['Day_of_Month'] = msft_df.index.day\n",
    "msft_df['Month'] = msft_df.index.month\n",
    "msft_df['Year'] = msft_df.index.year\n",
    "msft_df['Week_of_Year'] = msft_df.index.isocalendar().week.astype(int)"
   ]
  },
  {
   "cell_type": "code",
   "execution_count": 22,
   "id": "27effe23",
   "metadata": {},
   "outputs": [
    {
     "name": "stderr",
     "output_type": "stream",
     "text": [
      "C:\\Users\\billy\\AppData\\Local\\Temp\\ipykernel_45496\\2951078873.py:1: PerformanceWarning: DataFrame is highly fragmented.  This is usually the result of calling `frame.insert` many times, which has poor performance.  Consider joining all columns at once using pd.concat(axis=1) instead. To get a de-fragmented frame, use `newframe = frame.copy()`\n",
      "  msft_df['Hour_sin'] = np.sin(2 * np.pi * msft_df['Hour'] / 24)\n",
      "C:\\Users\\billy\\AppData\\Local\\Temp\\ipykernel_45496\\2951078873.py:2: PerformanceWarning: DataFrame is highly fragmented.  This is usually the result of calling `frame.insert` many times, which has poor performance.  Consider joining all columns at once using pd.concat(axis=1) instead. To get a de-fragmented frame, use `newframe = frame.copy()`\n",
      "  msft_df['Hour_cos'] = np.cos(2 * np.pi * msft_df['Hour'] / 24)\n",
      "C:\\Users\\billy\\AppData\\Local\\Temp\\ipykernel_45496\\2951078873.py:3: PerformanceWarning: DataFrame is highly fragmented.  This is usually the result of calling `frame.insert` many times, which has poor performance.  Consider joining all columns at once using pd.concat(axis=1) instead. To get a de-fragmented frame, use `newframe = frame.copy()`\n",
      "  msft_df['Day_of_Week_sin'] = np.sin(2 * np.pi * msft_df['Day_of_Week'] / 7)\n",
      "C:\\Users\\billy\\AppData\\Local\\Temp\\ipykernel_45496\\2951078873.py:4: PerformanceWarning: DataFrame is highly fragmented.  This is usually the result of calling `frame.insert` many times, which has poor performance.  Consider joining all columns at once using pd.concat(axis=1) instead. To get a de-fragmented frame, use `newframe = frame.copy()`\n",
      "  msft_df['Day_of_Week_cos'] = np.cos(2 * np.pi * msft_df['Day_of_Week'] / 7)\n"
     ]
    }
   ],
   "source": [
    "msft_df['Hour_sin'] = np.sin(2 * np.pi * msft_df['Hour'] / 24)\n",
    "msft_df['Hour_cos'] = np.cos(2 * np.pi * msft_df['Hour'] / 24)\n",
    "msft_df['Day_of_Week_sin'] = np.sin(2 * np.pi * msft_df['Day_of_Week'] / 7)\n",
    "msft_df['Day_of_Week_cos'] = np.cos(2 * np.pi * msft_df['Day_of_Week'] / 7)\n",
    "msft_df = pd.get_dummies(msft_df, columns=['Day_of_Week'], prefix='Day', drop_first=False)\n",
    "msft_df = pd.get_dummies(msft_df, columns=['Month'], prefix='Month', drop_first=False)"
   ]
  },
  {
   "cell_type": "markdown",
   "id": "55e35673",
   "metadata": {},
   "source": [
    "### Volume Based"
   ]
  },
  {
   "cell_type": "markdown",
   "id": "999e070e",
   "metadata": {},
   "source": [
    "#### Moving Average"
   ]
  },
  {
   "cell_type": "code",
   "execution_count": 23,
   "id": "581dcfa0",
   "metadata": {},
   "outputs": [],
   "source": [
    "for window in [7, 14, 21, 28, 35]:\n",
    "    msft_df[f'Volume_SMA_{window}H'] = msft_df['Volume'].rolling(window=window).mean()\n",
    "msft_df['Volume_Change'] = msft_df['Volume'].pct_change()"
   ]
  },
  {
   "cell_type": "markdown",
   "id": "949bab06",
   "metadata": {},
   "source": [
    "#### On-Balanced Volume (Momentum Indicator)"
   ]
  },
  {
   "cell_type": "code",
   "execution_count": 24,
   "id": "a15c7c3c",
   "metadata": {},
   "outputs": [],
   "source": [
    "from ta.volume import OnBalanceVolumeIndicator\n",
    "\n",
    "# Create the OBV indicator object\n",
    "obv_indicator = OnBalanceVolumeIndicator(\n",
    "    close=msft_df['Close'],\n",
    "    volume=msft_df['Volume'],\n",
    "    fillna=False\n",
    ")\n",
    "\n",
    "# Calculate OBV and its 9-period EMA\n",
    "msft_df['OBV'] = obv_indicator.on_balance_volume()\n",
    "msft_df['OBV_EMA_9H'] = msft_df['OBV'].ewm(span=9, adjust=False).mean()"
   ]
  },
  {
   "cell_type": "markdown",
   "id": "0f48def8",
   "metadata": {},
   "source": [
    "### Price Action Patterns"
   ]
  },
  {
   "cell_type": "code",
   "execution_count": 25,
   "id": "fa2a3b51",
   "metadata": {},
   "outputs": [],
   "source": [
    "msft_df['High_Low_Range'] = msft_df['High'] - msft_df['Low']\n",
    "msft_df['Open_Close_Range'] = msft_df['Close'] - msft_df['Open']\n",
    "msft_df['High_Low_Range_Pct'] = (msft_df['High'] - msft_df['Low']) / msft_df['Close'] * 100\n",
    "msft_df['Open_Close_Range_Pct'] = (msft_df['Close'] -  msft_df['Open']) / msft_df['Open'] * 100"
   ]
  },
  {
   "cell_type": "markdown",
   "id": "b37b69e6",
   "metadata": {},
   "source": [
    "### Other"
   ]
  },
  {
   "cell_type": "code",
   "execution_count": 26,
   "id": "01fb134d",
   "metadata": {},
   "outputs": [],
   "source": [
    "msft_df['RSI_x_Volume'] = msft_df['RSI_14'] * msft_df['Volume']"
   ]
  },
  {
   "cell_type": "markdown",
   "id": "eaae1e92",
   "metadata": {},
   "source": [
    "### Imputation"
   ]
  },
  {
   "cell_type": "code",
   "execution_count": 27,
   "id": "d3906191",
   "metadata": {},
   "outputs": [
    {
     "name": "stdout",
     "output_type": "stream",
     "text": [
      "amount of nans before accounting for largest window size: 878\n"
     ]
    }
   ],
   "source": [
    "print(\"amount of nans before accounting for largest window size:\", msft_df.isna().sum().sum())"
   ]
  },
  {
   "cell_type": "code",
   "execution_count": 28,
   "id": "c1268aba",
   "metadata": {},
   "outputs": [
    {
     "name": "stdout",
     "output_type": "stream",
     "text": [
      "amount of nans after accounting for largest window size: 38\n"
     ]
    }
   ],
   "source": [
    "msft_df = msft_df.iloc[35:]\n",
    "print(\"amount of nans after accounting for largest window size:\", msft_df.isna().sum().sum())"
   ]
  },
  {
   "cell_type": "code",
   "execution_count": 29,
   "id": "fac79216",
   "metadata": {},
   "outputs": [
    {
     "name": "stdout",
     "output_type": "stream",
     "text": [
      "weekly_return_lag_35H    float64\n",
      "Bollinger_PercentageB    float64\n",
      "dtype: object\n"
     ]
    }
   ],
   "source": [
    "print(msft_df.dtypes[msft_df.isna().any()])"
   ]
  },
  {
   "cell_type": "code",
   "execution_count": 30,
   "id": "aa114728",
   "metadata": {},
   "outputs": [
    {
     "name": "stdout",
     "output_type": "stream",
     "text": [
      "Bollinger_PercentageB NaN count: 3\n"
     ]
    }
   ],
   "source": [
    "print(f\"Bollinger_PercentageB NaN count:\", msft_df['Bollinger_PercentageB'].isna().sum().sum())\n",
    "# We can fill these NaNs with imputation function."
   ]
  },
  {
   "cell_type": "code",
   "execution_count": 31,
   "id": "8e52f832",
   "metadata": {},
   "outputs": [
    {
     "name": "stdout",
     "output_type": "stream",
     "text": [
      "weekly_return_lag_35H NaN count: 35\n"
     ]
    }
   ],
   "source": [
    "print(f\"weekly_return_lag_35H NaN count:\", msft_df['weekly_return_lag_35H'].isna().sum())"
   ]
  },
  {
   "cell_type": "code",
   "execution_count": 32,
   "id": "897a9c21",
   "metadata": {},
   "outputs": [
    {
     "name": "stdout",
     "output_type": "stream",
     "text": [
      "Datapoints lost by dropping 35 rows: 4,865\n",
      "Datapoints lost by dropping the column: 3,452\n"
     ]
    }
   ],
   "source": [
    "rows_to_drop = msft_df['weekly_return_lag_35H'].isna().sum()\n",
    "total_columns = msft_df.shape[1]\n",
    "datapoints_lost_rows = rows_to_drop * total_columns\n",
    "print(f\"Datapoints lost by dropping {rows_to_drop} rows: {datapoints_lost_rows:,}\")\n",
    "\n",
    "rows_total = msft_df.shape[0]\n",
    "datapoints_lost_column = rows_total\n",
    "print(f\"Datapoints lost by dropping the column: {datapoints_lost_column:,}\")\n",
    "# Because of this point discrepancy we drop the column weekly_return_lag_35H"
   ]
  },
  {
   "cell_type": "code",
   "execution_count": 33,
   "id": "c75b10fd",
   "metadata": {},
   "outputs": [
    {
     "name": "stdout",
     "output_type": "stream",
     "text": [
      "Amount of NaNs after dropping the column: 3\n"
     ]
    }
   ],
   "source": [
    "msft_df.drop(columns=['weekly_return_lag_35H'], inplace=True)\n",
    "print(f\"Amount of NaNs after dropping the column:\", msft_df.isna().sum().sum())"
   ]
  },
  {
   "cell_type": "code",
   "execution_count": 34,
   "id": "c5de58a0",
   "metadata": {},
   "outputs": [],
   "source": [
    "def impute_features(df):\n",
    "    for col in df.columns:\n",
    "        col_lower = col.lower()\n",
    "\n",
    "        # columns that are not features\n",
    "        if col_lower in ['Close']:\n",
    "            continue\n",
    "\n",
    "        # Rolling Averages, Price Lags, Return Lags, Volume-related, Log features\n",
    "        if any(key in col_lower for key in [\"price_lag\", \"hourly_return_lag\", \"daily_return_lag\", \n",
    "                        \"weekly_return_lag_\", \"sma\", \"ema\", \"volume\", \"rolling_log_avg\", \"rolling_log_std\", \"volatility\"]):\n",
    "            df[col] = df[col].ffill()\n",
    "\n",
    "        # Technical Indicators\n",
    "        elif any(key in col_lower for key in [\"atr\", \"rsi\", \"macd\", \"bollinger\", \"upper_bb\", \"lower_bb\", \"adx\", \"di\", \"%d\", \"%k\", \"obv\"]):\n",
    "            df[col] = df[col].fillna(df[col].expanding().median())\n",
    "\n",
    "        # Price Features\n",
    "        elif any(key in col_lower for key in [\"low_range\", \"close_range\", \"range_pct\", \"rsi_x_volume\"]):\n",
    "            df[col] = df[col].interpolate(method='linear')\n",
    "\n",
    "        else:\n",
    "            df[col] = df[col].interpolate(method='linear').ffill().bfill()\n",
    "\n",
    "        \n",
    "    return df"
   ]
  },
  {
   "cell_type": "code",
   "execution_count": 35,
   "id": "b8eae402",
   "metadata": {},
   "outputs": [
    {
     "name": "stdout",
     "output_type": "stream",
     "text": [
      "amount of nans after accounting for imputing: 0\n"
     ]
    }
   ],
   "source": [
    "impute_features(msft_df)\n",
    "print(\"amount of nans after accounting for imputing:\", msft_df.isna().sum().sum())"
   ]
  },
  {
   "cell_type": "markdown",
   "id": "44609323",
   "metadata": {},
   "source": [
    "### Scaling"
   ]
  },
  {
   "cell_type": "code",
   "execution_count": 36,
   "id": "a05b9d53",
   "metadata": {},
   "outputs": [
    {
     "data": {
      "text/html": [
       "<div>\n",
       "<style scoped>\n",
       "    .dataframe tbody tr th:only-of-type {\n",
       "        vertical-align: middle;\n",
       "    }\n",
       "\n",
       "    .dataframe tbody tr th {\n",
       "        vertical-align: top;\n",
       "    }\n",
       "\n",
       "    .dataframe thead th {\n",
       "        text-align: right;\n",
       "    }\n",
       "</style>\n",
       "<table border=\"1\" class=\"dataframe\">\n",
       "  <thead>\n",
       "    <tr style=\"text-align: right;\">\n",
       "      <th></th>\n",
       "      <th>Open</th>\n",
       "      <th>High</th>\n",
       "      <th>Low</th>\n",
       "      <th>Close</th>\n",
       "      <th>Volume</th>\n",
       "      <th>Dividends</th>\n",
       "      <th>Stock Splits</th>\n",
       "      <th>Open_price_lag_1H</th>\n",
       "      <th>Open_price_lag_2H</th>\n",
       "      <th>Open_price_lag_3H</th>\n",
       "      <th>...</th>\n",
       "      <th>Volume_SMA_28H</th>\n",
       "      <th>Volume_SMA_35H</th>\n",
       "      <th>Volume_Change</th>\n",
       "      <th>OBV</th>\n",
       "      <th>OBV_EMA_9H</th>\n",
       "      <th>High_Low_Range</th>\n",
       "      <th>Open_Close_Range</th>\n",
       "      <th>High_Low_Range_Pct</th>\n",
       "      <th>Open_Close_Range_Pct</th>\n",
       "      <th>RSI_x_Volume</th>\n",
       "    </tr>\n",
       "    <tr>\n",
       "      <th>Datetime</th>\n",
       "      <th></th>\n",
       "      <th></th>\n",
       "      <th></th>\n",
       "      <th></th>\n",
       "      <th></th>\n",
       "      <th></th>\n",
       "      <th></th>\n",
       "      <th></th>\n",
       "      <th></th>\n",
       "      <th></th>\n",
       "      <th></th>\n",
       "      <th></th>\n",
       "      <th></th>\n",
       "      <th></th>\n",
       "      <th></th>\n",
       "      <th></th>\n",
       "      <th></th>\n",
       "      <th></th>\n",
       "      <th></th>\n",
       "      <th></th>\n",
       "      <th></th>\n",
       "    </tr>\n",
       "  </thead>\n",
       "  <tbody>\n",
       "    <tr>\n",
       "      <th>2023-07-05 13:30:00-04:00</th>\n",
       "      <td>338.549988</td>\n",
       "      <td>338.799988</td>\n",
       "      <td>337.640015</td>\n",
       "      <td>338.029999</td>\n",
       "      <td>1375275</td>\n",
       "      <td>0.0</td>\n",
       "      <td>0.0</td>\n",
       "      <td>339.140015</td>\n",
       "      <td>338.730011</td>\n",
       "      <td>340.440002</td>\n",
       "      <td>...</td>\n",
       "      <td>2.322095e+06</td>\n",
       "      <td>2.371685e+06</td>\n",
       "      <td>0.191958</td>\n",
       "      <td>3335607</td>\n",
       "      <td>5.724248e+06</td>\n",
       "      <td>1.159973</td>\n",
       "      <td>-0.519989</td>\n",
       "      <td>0.343157</td>\n",
       "      <td>-0.153593</td>\n",
       "      <td>7.089970e+07</td>\n",
       "    </tr>\n",
       "    <tr>\n",
       "      <th>2023-07-05 14:30:00-04:00</th>\n",
       "      <td>338.059998</td>\n",
       "      <td>338.750000</td>\n",
       "      <td>338.000000</td>\n",
       "      <td>338.369995</td>\n",
       "      <td>1284704</td>\n",
       "      <td>0.0</td>\n",
       "      <td>0.0</td>\n",
       "      <td>338.549988</td>\n",
       "      <td>339.140015</td>\n",
       "      <td>338.730011</td>\n",
       "      <td>...</td>\n",
       "      <td>2.279116e+06</td>\n",
       "      <td>2.325209e+06</td>\n",
       "      <td>-0.065857</td>\n",
       "      <td>4620311</td>\n",
       "      <td>5.503460e+06</td>\n",
       "      <td>0.750000</td>\n",
       "      <td>0.309998</td>\n",
       "      <td>0.221651</td>\n",
       "      <td>0.091699</td>\n",
       "      <td>6.771939e+07</td>\n",
       "    </tr>\n",
       "    <tr>\n",
       "      <th>2023-07-05 15:30:00-04:00</th>\n",
       "      <td>338.399994</td>\n",
       "      <td>338.670013</td>\n",
       "      <td>337.799988</td>\n",
       "      <td>338.160004</td>\n",
       "      <td>1754385</td>\n",
       "      <td>0.0</td>\n",
       "      <td>0.0</td>\n",
       "      <td>338.059998</td>\n",
       "      <td>338.549988</td>\n",
       "      <td>339.140015</td>\n",
       "      <td>...</td>\n",
       "      <td>2.282647e+06</td>\n",
       "      <td>2.320921e+06</td>\n",
       "      <td>0.365595</td>\n",
       "      <td>2865926</td>\n",
       "      <td>4.975954e+06</td>\n",
       "      <td>0.870026</td>\n",
       "      <td>-0.239990</td>\n",
       "      <td>0.257282</td>\n",
       "      <td>-0.070919</td>\n",
       "      <td>9.102884e+07</td>\n",
       "    </tr>\n",
       "    <tr>\n",
       "      <th>2023-07-06 09:30:00-04:00</th>\n",
       "      <td>337.299988</td>\n",
       "      <td>340.649994</td>\n",
       "      <td>335.500000</td>\n",
       "      <td>340.609711</td>\n",
       "      <td>8464457</td>\n",
       "      <td>0.0</td>\n",
       "      <td>0.0</td>\n",
       "      <td>338.399994</td>\n",
       "      <td>338.059998</td>\n",
       "      <td>338.549988</td>\n",
       "      <td>...</td>\n",
       "      <td>2.504760e+06</td>\n",
       "      <td>2.484129e+06</td>\n",
       "      <td>3.824743</td>\n",
       "      <td>11330383</td>\n",
       "      <td>6.246839e+06</td>\n",
       "      <td>5.149994</td>\n",
       "      <td>3.309723</td>\n",
       "      <td>1.511993</td>\n",
       "      <td>0.981240</td>\n",
       "      <td>5.061498e+08</td>\n",
       "    </tr>\n",
       "    <tr>\n",
       "      <th>2023-07-06 10:30:00-04:00</th>\n",
       "      <td>340.579987</td>\n",
       "      <td>341.119995</td>\n",
       "      <td>338.089996</td>\n",
       "      <td>338.700012</td>\n",
       "      <td>3748565</td>\n",
       "      <td>0.0</td>\n",
       "      <td>0.0</td>\n",
       "      <td>337.299988</td>\n",
       "      <td>338.399994</td>\n",
       "      <td>338.059998</td>\n",
       "      <td>...</td>\n",
       "      <td>2.571333e+06</td>\n",
       "      <td>2.533555e+06</td>\n",
       "      <td>-0.557141</td>\n",
       "      <td>7581818</td>\n",
       "      <td>6.513835e+06</td>\n",
       "      <td>3.029999</td>\n",
       "      <td>-1.879974</td>\n",
       "      <td>0.894597</td>\n",
       "      <td>-0.551992</td>\n",
       "      <td>1.969658e+08</td>\n",
       "    </tr>\n",
       "    <tr>\n",
       "      <th>...</th>\n",
       "      <td>...</td>\n",
       "      <td>...</td>\n",
       "      <td>...</td>\n",
       "      <td>...</td>\n",
       "      <td>...</td>\n",
       "      <td>...</td>\n",
       "      <td>...</td>\n",
       "      <td>...</td>\n",
       "      <td>...</td>\n",
       "      <td>...</td>\n",
       "      <td>...</td>\n",
       "      <td>...</td>\n",
       "      <td>...</td>\n",
       "      <td>...</td>\n",
       "      <td>...</td>\n",
       "      <td>...</td>\n",
       "      <td>...</td>\n",
       "      <td>...</td>\n",
       "      <td>...</td>\n",
       "      <td>...</td>\n",
       "      <td>...</td>\n",
       "    </tr>\n",
       "    <tr>\n",
       "      <th>2025-06-25 11:30:00-04:00</th>\n",
       "      <td>492.570007</td>\n",
       "      <td>492.709991</td>\n",
       "      <td>491.149994</td>\n",
       "      <td>491.614990</td>\n",
       "      <td>1207466</td>\n",
       "      <td>0.0</td>\n",
       "      <td>0.0</td>\n",
       "      <td>493.619995</td>\n",
       "      <td>491.609985</td>\n",
       "      <td>490.820007</td>\n",
       "      <td>...</td>\n",
       "      <td>2.595252e+06</td>\n",
       "      <td>2.371831e+06</td>\n",
       "      <td>-0.267709</td>\n",
       "      <td>238538099</td>\n",
       "      <td>2.391876e+08</td>\n",
       "      <td>1.559998</td>\n",
       "      <td>-0.955017</td>\n",
       "      <td>0.317321</td>\n",
       "      <td>-0.193885</td>\n",
       "      <td>8.225291e+07</td>\n",
       "    </tr>\n",
       "    <tr>\n",
       "      <th>2025-06-25 12:30:00-04:00</th>\n",
       "      <td>491.630005</td>\n",
       "      <td>491.659912</td>\n",
       "      <td>490.109985</td>\n",
       "      <td>490.640015</td>\n",
       "      <td>1174224</td>\n",
       "      <td>0.0</td>\n",
       "      <td>0.0</td>\n",
       "      <td>492.570007</td>\n",
       "      <td>493.619995</td>\n",
       "      <td>491.609985</td>\n",
       "      <td>...</td>\n",
       "      <td>2.608010e+06</td>\n",
       "      <td>2.373816e+06</td>\n",
       "      <td>-0.027530</td>\n",
       "      <td>237363875</td>\n",
       "      <td>2.388228e+08</td>\n",
       "      <td>1.549927</td>\n",
       "      <td>-0.989990</td>\n",
       "      <td>0.315899</td>\n",
       "      <td>-0.201369</td>\n",
       "      <td>7.529843e+07</td>\n",
       "    </tr>\n",
       "    <tr>\n",
       "      <th>2025-06-25 13:30:00-04:00</th>\n",
       "      <td>490.609985</td>\n",
       "      <td>490.799988</td>\n",
       "      <td>489.390015</td>\n",
       "      <td>490.479797</td>\n",
       "      <td>1147401</td>\n",
       "      <td>0.0</td>\n",
       "      <td>0.0</td>\n",
       "      <td>491.630005</td>\n",
       "      <td>492.570007</td>\n",
       "      <td>493.619995</td>\n",
       "      <td>...</td>\n",
       "      <td>2.600699e+06</td>\n",
       "      <td>2.371716e+06</td>\n",
       "      <td>-0.022843</td>\n",
       "      <td>236216474</td>\n",
       "      <td>2.383016e+08</td>\n",
       "      <td>1.409973</td>\n",
       "      <td>-0.130188</td>\n",
       "      <td>0.287468</td>\n",
       "      <td>-0.026536</td>\n",
       "      <td>7.282273e+07</td>\n",
       "    </tr>\n",
       "    <tr>\n",
       "      <th>2025-06-25 14:30:00-04:00</th>\n",
       "      <td>490.480011</td>\n",
       "      <td>491.589996</td>\n",
       "      <td>490.089996</td>\n",
       "      <td>491.160004</td>\n",
       "      <td>1691434</td>\n",
       "      <td>0.0</td>\n",
       "      <td>0.0</td>\n",
       "      <td>490.609985</td>\n",
       "      <td>491.630005</td>\n",
       "      <td>492.570007</td>\n",
       "      <td>...</td>\n",
       "      <td>2.600774e+06</td>\n",
       "      <td>2.390053e+06</td>\n",
       "      <td>0.474144</td>\n",
       "      <td>237907908</td>\n",
       "      <td>2.382228e+08</td>\n",
       "      <td>1.500000</td>\n",
       "      <td>0.679993</td>\n",
       "      <td>0.305399</td>\n",
       "      <td>0.138638</td>\n",
       "      <td>1.101225e+08</td>\n",
       "    </tr>\n",
       "    <tr>\n",
       "      <th>2025-06-25 15:30:00-04:00</th>\n",
       "      <td>491.130005</td>\n",
       "      <td>492.440002</td>\n",
       "      <td>490.950012</td>\n",
       "      <td>492.440002</td>\n",
       "      <td>2775326</td>\n",
       "      <td>0.0</td>\n",
       "      <td>0.0</td>\n",
       "      <td>490.480011</td>\n",
       "      <td>490.609985</td>\n",
       "      <td>491.630005</td>\n",
       "      <td>...</td>\n",
       "      <td>2.593389e+06</td>\n",
       "      <td>2.411694e+06</td>\n",
       "      <td>0.640812</td>\n",
       "      <td>240683234</td>\n",
       "      <td>2.387149e+08</td>\n",
       "      <td>1.489990</td>\n",
       "      <td>1.309998</td>\n",
       "      <td>0.302573</td>\n",
       "      <td>0.266731</td>\n",
       "      <td>1.887588e+08</td>\n",
       "    </tr>\n",
       "  </tbody>\n",
       "</table>\n",
       "<p>3452 rows × 138 columns</p>\n",
       "</div>"
      ],
      "text/plain": [
       "                                 Open        High         Low       Close  \\\n",
       "Datetime                                                                    \n",
       "2023-07-05 13:30:00-04:00  338.549988  338.799988  337.640015  338.029999   \n",
       "2023-07-05 14:30:00-04:00  338.059998  338.750000  338.000000  338.369995   \n",
       "2023-07-05 15:30:00-04:00  338.399994  338.670013  337.799988  338.160004   \n",
       "2023-07-06 09:30:00-04:00  337.299988  340.649994  335.500000  340.609711   \n",
       "2023-07-06 10:30:00-04:00  340.579987  341.119995  338.089996  338.700012   \n",
       "...                               ...         ...         ...         ...   \n",
       "2025-06-25 11:30:00-04:00  492.570007  492.709991  491.149994  491.614990   \n",
       "2025-06-25 12:30:00-04:00  491.630005  491.659912  490.109985  490.640015   \n",
       "2025-06-25 13:30:00-04:00  490.609985  490.799988  489.390015  490.479797   \n",
       "2025-06-25 14:30:00-04:00  490.480011  491.589996  490.089996  491.160004   \n",
       "2025-06-25 15:30:00-04:00  491.130005  492.440002  490.950012  492.440002   \n",
       "\n",
       "                            Volume  Dividends  Stock Splits  \\\n",
       "Datetime                                                      \n",
       "2023-07-05 13:30:00-04:00  1375275        0.0           0.0   \n",
       "2023-07-05 14:30:00-04:00  1284704        0.0           0.0   \n",
       "2023-07-05 15:30:00-04:00  1754385        0.0           0.0   \n",
       "2023-07-06 09:30:00-04:00  8464457        0.0           0.0   \n",
       "2023-07-06 10:30:00-04:00  3748565        0.0           0.0   \n",
       "...                            ...        ...           ...   \n",
       "2025-06-25 11:30:00-04:00  1207466        0.0           0.0   \n",
       "2025-06-25 12:30:00-04:00  1174224        0.0           0.0   \n",
       "2025-06-25 13:30:00-04:00  1147401        0.0           0.0   \n",
       "2025-06-25 14:30:00-04:00  1691434        0.0           0.0   \n",
       "2025-06-25 15:30:00-04:00  2775326        0.0           0.0   \n",
       "\n",
       "                           Open_price_lag_1H  Open_price_lag_2H  \\\n",
       "Datetime                                                          \n",
       "2023-07-05 13:30:00-04:00         339.140015         338.730011   \n",
       "2023-07-05 14:30:00-04:00         338.549988         339.140015   \n",
       "2023-07-05 15:30:00-04:00         338.059998         338.549988   \n",
       "2023-07-06 09:30:00-04:00         338.399994         338.059998   \n",
       "2023-07-06 10:30:00-04:00         337.299988         338.399994   \n",
       "...                                      ...                ...   \n",
       "2025-06-25 11:30:00-04:00         493.619995         491.609985   \n",
       "2025-06-25 12:30:00-04:00         492.570007         493.619995   \n",
       "2025-06-25 13:30:00-04:00         491.630005         492.570007   \n",
       "2025-06-25 14:30:00-04:00         490.609985         491.630005   \n",
       "2025-06-25 15:30:00-04:00         490.480011         490.609985   \n",
       "\n",
       "                           Open_price_lag_3H  ...  Volume_SMA_28H  \\\n",
       "Datetime                                      ...                   \n",
       "2023-07-05 13:30:00-04:00         340.440002  ...    2.322095e+06   \n",
       "2023-07-05 14:30:00-04:00         338.730011  ...    2.279116e+06   \n",
       "2023-07-05 15:30:00-04:00         339.140015  ...    2.282647e+06   \n",
       "2023-07-06 09:30:00-04:00         338.549988  ...    2.504760e+06   \n",
       "2023-07-06 10:30:00-04:00         338.059998  ...    2.571333e+06   \n",
       "...                                      ...  ...             ...   \n",
       "2025-06-25 11:30:00-04:00         490.820007  ...    2.595252e+06   \n",
       "2025-06-25 12:30:00-04:00         491.609985  ...    2.608010e+06   \n",
       "2025-06-25 13:30:00-04:00         493.619995  ...    2.600699e+06   \n",
       "2025-06-25 14:30:00-04:00         492.570007  ...    2.600774e+06   \n",
       "2025-06-25 15:30:00-04:00         491.630005  ...    2.593389e+06   \n",
       "\n",
       "                           Volume_SMA_35H  Volume_Change        OBV  \\\n",
       "Datetime                                                              \n",
       "2023-07-05 13:30:00-04:00    2.371685e+06       0.191958    3335607   \n",
       "2023-07-05 14:30:00-04:00    2.325209e+06      -0.065857    4620311   \n",
       "2023-07-05 15:30:00-04:00    2.320921e+06       0.365595    2865926   \n",
       "2023-07-06 09:30:00-04:00    2.484129e+06       3.824743   11330383   \n",
       "2023-07-06 10:30:00-04:00    2.533555e+06      -0.557141    7581818   \n",
       "...                                   ...            ...        ...   \n",
       "2025-06-25 11:30:00-04:00    2.371831e+06      -0.267709  238538099   \n",
       "2025-06-25 12:30:00-04:00    2.373816e+06      -0.027530  237363875   \n",
       "2025-06-25 13:30:00-04:00    2.371716e+06      -0.022843  236216474   \n",
       "2025-06-25 14:30:00-04:00    2.390053e+06       0.474144  237907908   \n",
       "2025-06-25 15:30:00-04:00    2.411694e+06       0.640812  240683234   \n",
       "\n",
       "                             OBV_EMA_9H  High_Low_Range  Open_Close_Range  \\\n",
       "Datetime                                                                    \n",
       "2023-07-05 13:30:00-04:00  5.724248e+06        1.159973         -0.519989   \n",
       "2023-07-05 14:30:00-04:00  5.503460e+06        0.750000          0.309998   \n",
       "2023-07-05 15:30:00-04:00  4.975954e+06        0.870026         -0.239990   \n",
       "2023-07-06 09:30:00-04:00  6.246839e+06        5.149994          3.309723   \n",
       "2023-07-06 10:30:00-04:00  6.513835e+06        3.029999         -1.879974   \n",
       "...                                 ...             ...               ...   \n",
       "2025-06-25 11:30:00-04:00  2.391876e+08        1.559998         -0.955017   \n",
       "2025-06-25 12:30:00-04:00  2.388228e+08        1.549927         -0.989990   \n",
       "2025-06-25 13:30:00-04:00  2.383016e+08        1.409973         -0.130188   \n",
       "2025-06-25 14:30:00-04:00  2.382228e+08        1.500000          0.679993   \n",
       "2025-06-25 15:30:00-04:00  2.387149e+08        1.489990          1.309998   \n",
       "\n",
       "                           High_Low_Range_Pct  Open_Close_Range_Pct  \\\n",
       "Datetime                                                              \n",
       "2023-07-05 13:30:00-04:00            0.343157             -0.153593   \n",
       "2023-07-05 14:30:00-04:00            0.221651              0.091699   \n",
       "2023-07-05 15:30:00-04:00            0.257282             -0.070919   \n",
       "2023-07-06 09:30:00-04:00            1.511993              0.981240   \n",
       "2023-07-06 10:30:00-04:00            0.894597             -0.551992   \n",
       "...                                       ...                   ...   \n",
       "2025-06-25 11:30:00-04:00            0.317321             -0.193885   \n",
       "2025-06-25 12:30:00-04:00            0.315899             -0.201369   \n",
       "2025-06-25 13:30:00-04:00            0.287468             -0.026536   \n",
       "2025-06-25 14:30:00-04:00            0.305399              0.138638   \n",
       "2025-06-25 15:30:00-04:00            0.302573              0.266731   \n",
       "\n",
       "                           RSI_x_Volume  \n",
       "Datetime                                 \n",
       "2023-07-05 13:30:00-04:00  7.089970e+07  \n",
       "2023-07-05 14:30:00-04:00  6.771939e+07  \n",
       "2023-07-05 15:30:00-04:00  9.102884e+07  \n",
       "2023-07-06 09:30:00-04:00  5.061498e+08  \n",
       "2023-07-06 10:30:00-04:00  1.969658e+08  \n",
       "...                                 ...  \n",
       "2025-06-25 11:30:00-04:00  8.225291e+07  \n",
       "2025-06-25 12:30:00-04:00  7.529843e+07  \n",
       "2025-06-25 13:30:00-04:00  7.282273e+07  \n",
       "2025-06-25 14:30:00-04:00  1.101225e+08  \n",
       "2025-06-25 15:30:00-04:00  1.887588e+08  \n",
       "\n",
       "[3452 rows x 138 columns]"
      ]
     },
     "execution_count": 36,
     "metadata": {},
     "output_type": "execute_result"
    }
   ],
   "source": [
    "msft_df.replace([np.inf, -np.inf], np.nan, inplace=True)\n",
    "impute_features(msft_df)"
   ]
  },
  {
   "cell_type": "markdown",
   "id": "11487ecd",
   "metadata": {},
   "source": [
    "# Naive Model"
   ]
  },
  {
   "cell_type": "markdown",
   "id": "8d1f976d",
   "metadata": {},
   "source": [
    "Scaling reduces accuracy - so we don't use it. "
   ]
  },
  {
   "cell_type": "code",
   "execution_count": null,
   "id": "6f73b035",
   "metadata": {},
   "outputs": [],
   "source": [
    "# X_scaler = MinMaxScaler(feature_range=(0, 1))\n",
    "# y_scaler = MinMaxScaler(feature_range=(0, 1))\n",
    "\n",
    "# X_scaled = X_scaler.fit_transform(X)\n",
    "# y_scaled = y_scaler.fit_transform(y.values.reshape(-1, 1))"
   ]
  },
  {
   "cell_type": "code",
   "execution_count": 49,
   "id": "5b5ce1af",
   "metadata": {},
   "outputs": [],
   "source": [
    "X = msft_df.drop(['Rolling_Log_Avg'], axis=1)\n",
    "y = msft_df['Rolling_Log_Avg']"
   ]
  },
  {
   "cell_type": "code",
   "execution_count": 50,
   "id": "e93a2ecc",
   "metadata": {},
   "outputs": [
    {
     "name": "stdout",
     "output_type": "stream",
     "text": [
      "Actual Vs Predicted: 3.2090515708281337e-06\n"
     ]
    }
   ],
   "source": [
    "tscv = TimeSeriesSplit(n_splits=100)\n",
    "\n",
    "actual_values = []\n",
    "naive_predictions = []\n",
    "\n",
    "for i, (train_idx, test_idx) in enumerate(tscv.split(msft_df)):\n",
    "    # print(\"fold:\", i)\n",
    "    # print(\"Train dates:\", msft_df.index[train_idx][[0, -1]])\n",
    "    # print(\"Test dates:\", msft_df.index[test_idx][[0, -1]])\n",
    "    y_train, y_test = y.iloc[train_idx], y.iloc[test_idx]\n",
    "\n",
    "    last_known = y_train.iloc[-1]\n",
    "    next_actual = y_test.iloc[0]\n",
    "    \n",
    "    actual_values.append(last_known)\n",
    "    naive_predictions.append(next_actual)\n",
    "print(\"Actual Vs Predicted:\", mean_squared_error(actual_values, naive_predictions))\n"
   ]
  },
  {
   "cell_type": "code",
   "execution_count": 51,
   "id": "c30d9c68",
   "metadata": {},
   "outputs": [
    {
     "data": {
      "text/html": [
       "<div>\n",
       "<style scoped>\n",
       "    .dataframe tbody tr th:only-of-type {\n",
       "        vertical-align: middle;\n",
       "    }\n",
       "\n",
       "    .dataframe tbody tr th {\n",
       "        vertical-align: top;\n",
       "    }\n",
       "\n",
       "    .dataframe thead th {\n",
       "        text-align: right;\n",
       "    }\n",
       "</style>\n",
       "<table border=\"1\" class=\"dataframe\">\n",
       "  <thead>\n",
       "    <tr style=\"text-align: right;\">\n",
       "      <th></th>\n",
       "      <th>Actual_vs_Predicted</th>\n",
       "    </tr>\n",
       "  </thead>\n",
       "  <tbody>\n",
       "    <tr>\n",
       "      <th>0</th>\n",
       "      <td>0.000003</td>\n",
       "    </tr>\n",
       "  </tbody>\n",
       "</table>\n",
       "</div>"
      ],
      "text/plain": [
       "   Actual_vs_Predicted\n",
       "0             0.000003"
      ]
     },
     "execution_count": 51,
     "metadata": {},
     "output_type": "execute_result"
    }
   ],
   "source": [
    "results_df = pd.DataFrame({\n",
    "    \"Actual_vs_Predicted\": [mean_squared_error(actual_values, naive_predictions)]\n",
    "})\n",
    "results_df"
   ]
  },
  {
   "cell_type": "code",
   "execution_count": null,
   "id": "c4969c20",
   "metadata": {},
   "outputs": [],
   "source": []
  }
 ],
 "metadata": {
  "kernelspec": {
   "display_name": "stock_predictions",
   "language": "python",
   "name": "python3"
  },
  "language_info": {
   "codemirror_mode": {
    "name": "ipython",
    "version": 3
   },
   "file_extension": ".py",
   "mimetype": "text/x-python",
   "name": "python",
   "nbconvert_exporter": "python",
   "pygments_lexer": "ipython3",
   "version": "3.12.11"
  }
 },
 "nbformat": 4,
 "nbformat_minor": 5
}
