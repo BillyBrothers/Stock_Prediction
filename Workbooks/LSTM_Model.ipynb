{
 "cells": [
  {
   "cell_type": "code",
   "execution_count": 1,
   "id": "d7a264ec",
   "metadata": {},
   "outputs": [],
   "source": [
    "# !pip install mplfinance -qqq"
   ]
  },
  {
   "cell_type": "code",
   "execution_count": 1,
   "id": "108b55ac",
   "metadata": {},
   "outputs": [],
   "source": [
    "import yfinance as yf\n",
    "import pandas as pd\n",
    "from datetime import datetime, timedelta\n",
    "import matplotlib.pyplot as plt\n",
    "import numpy as np\n",
    "import ta\n",
    "from ta.volatility import AverageTrueRange\n",
    "from statsmodels.tsa.stattools import adfuller\n",
    "from statsmodels.graphics.tsaplots import plot_acf, plot_pacf\n",
    "from statsmodels.tsa.arima.model import ARIMA\n",
    "from sklearn.metrics import mean_squared_error, mean_absolute_error, mean_absolute_percentage_error\n",
    "from statsmodels.tsa.stattools import adfuller\n",
    "from statsmodels.tsa.seasonal import seasonal_decompose\n",
    "from pylab import rcParams\n",
    "import requests\n",
    "import json\n",
    "from sklearn.model_selection import TimeSeriesSplit\n",
    "from sklearn.preprocessing import MinMaxScaler\n",
    "import seaborn as sns\n",
    "from xgboost import XGBRegressor\n",
    "from sklearn.feature_selection import RFE\n",
    "from sklearn.linear_model import LinearRegression\n",
    "import xgboost\n",
    "from sklearn.feature_selection import RFECV\n",
    "from sklearn.model_selection import GridSearchCV\n",
    "from sklearn.preprocessing import MinMaxScaler\n",
    "from scipy import stats\n",
    "from sklearn.model_selection import TimeSeriesSplit\n",
    "from keras.models import Sequential\n",
    "from keras.layers import LSTM, Dense, Dropout, AdditiveAttention, Permute, Reshape, Multiply\n",
    "import tensorflow as tf\n",
    "from tensorflow.keras.layers import Dense, LSTM, Permute, Reshape, Multiply, Flatten, Input\n",
    "from tensorflow.keras.layers import AdditiveAttention # Make sure this is correctly imported\n",
    "from tensorflow.keras.models import Model\n",
    "from keras.layers import BatchNormalization\n",
    "from keras.callbacks import EarlyStopping\n",
    "from sklearn.metrics import mean_squared_error, mean_absolute_error, mean_absolute_percentage_error, r2_score\n",
    "import mplfinance as mpf\n",
    "import matplotlib.dates as mpl_dates\n"
   ]
  },
  {
   "cell_type": "code",
   "execution_count": 2,
   "id": "276806ea",
   "metadata": {},
   "outputs": [
    {
     "name": "stdout",
     "output_type": "stream",
     "text": [
      "2.19.0\n"
     ]
    }
   ],
   "source": [
    "print(tf.__version__)"
   ]
  },
  {
   "cell_type": "code",
   "execution_count": 3,
   "id": "350c4fad",
   "metadata": {},
   "outputs": [
    {
     "name": "stdout",
     "output_type": "stream",
     "text": [
      "                                 Open        High         Low       Close  \\\n",
      "Datetime                                                                    \n",
      "2023-06-27 09:30:00-04:00  331.859985  334.114410  331.119995  332.000000   \n",
      "2023-06-27 10:30:00-04:00  331.989990  332.107300  329.299988  331.873413   \n",
      "2023-06-27 11:30:00-04:00  331.920013  332.839996  331.269989  331.970001   \n",
      "2023-06-27 12:30:00-04:00  331.970001  333.510010  331.700012  333.312897   \n",
      "2023-06-27 13:30:00-04:00  333.320007  335.815002  333.320007  335.480011   \n",
      "\n",
      "                            Volume  Dividends  Stock Splits  \n",
      "Datetime                                                     \n",
      "2023-06-27 09:30:00-04:00  4718321        0.0           0.0  \n",
      "2023-06-27 10:30:00-04:00  2911379        0.0           0.0  \n",
      "2023-06-27 11:30:00-04:00  1904459        0.0           0.0  \n",
      "2023-06-27 12:30:00-04:00  2752173        0.0           0.0  \n",
      "2023-06-27 13:30:00-04:00  2018662        0.0           0.0  \n"
     ]
    },
    {
     "data": {
      "text/plain": [
       "(3487, 7)"
      ]
     },
     "execution_count": 3,
     "metadata": {},
     "output_type": "execute_result"
    }
   ],
   "source": [
    "msft = yf.Ticker(\"MSFT\")\n",
    "msft_df = msft.history(\n",
    "    period=\"max\",\n",
    "    interval=\"1h\", \n",
    ")\n",
    "print(msft_df.head())\n",
    "msft_df.shape"
   ]
  },
  {
   "cell_type": "markdown",
   "id": "13739f12",
   "metadata": {},
   "source": [
    "# Preprocessing"
   ]
  },
  {
   "cell_type": "markdown",
   "id": "4d3f34fb",
   "metadata": {},
   "source": [
    "## Handling NaNs"
   ]
  },
  {
   "cell_type": "code",
   "execution_count": 4,
   "id": "aee6b16a",
   "metadata": {},
   "outputs": [
    {
     "data": {
      "text/plain": [
       "0"
      ]
     },
     "execution_count": 4,
     "metadata": {},
     "output_type": "execute_result"
    }
   ],
   "source": [
    "msft_df.isnull().sum().sum()"
   ]
  },
  {
   "cell_type": "markdown",
   "id": "4b82fc10",
   "metadata": {},
   "source": [
    "## Handling Outliers"
   ]
  },
  {
   "cell_type": "code",
   "execution_count": 5,
   "id": "b3164a18",
   "metadata": {},
   "outputs": [
    {
     "name": "stdout",
     "output_type": "stream",
     "text": [
      "The Amount of Outliers Removed: 93\n"
     ]
    }
   ],
   "source": [
    "Q1 = msft_df.quantile(0.25)\n",
    "Q3 = msft_df.quantile(0.75)\n",
    "IQR = Q3 - Q1\n",
    "\n",
    "df_no_outliers = msft_df[~((msft_df < (Q1 - 3 * IQR)) | (msft_df > (Q3 + 3 * IQR))).any(axis=1)]\n",
    "print(f\"The Amount of Outliers Removed: {msft_df.shape[0] - df_no_outliers.shape[0]}\")"
   ]
  },
  {
   "cell_type": "markdown",
   "id": "2ce7bb69",
   "metadata": {},
   "source": [
    "## Handling Duplicates"
   ]
  },
  {
   "cell_type": "code",
   "execution_count": 6,
   "id": "0975d4f6",
   "metadata": {},
   "outputs": [
    {
     "data": {
      "text/plain": [
       "0"
      ]
     },
     "execution_count": 6,
     "metadata": {},
     "output_type": "execute_result"
    }
   ],
   "source": [
    "msft_df.duplicated().sum()"
   ]
  },
  {
   "cell_type": "markdown",
   "id": "3b8499b3",
   "metadata": {},
   "source": [
    "## Feature Engineering"
   ]
  },
  {
   "cell_type": "markdown",
   "id": "89b3b17b",
   "metadata": {},
   "source": [
    "### Lagged Prices"
   ]
  },
  {
   "cell_type": "code",
   "execution_count": 7,
   "id": "40109e4d",
   "metadata": {},
   "outputs": [],
   "source": [
    "for col in ['Open', 'High', 'Low', 'Close', 'Volume']:\n",
    "    lag_periods = [1, 2, 3, 4, 5, 6] # within 1 day range\n",
    "    for lag in lag_periods:\n",
    "        msft_df[f'{col}_price_lag_{lag}H'] = msft_df[col].shift(lag)"
   ]
  },
  {
   "cell_type": "markdown",
   "id": "c016e6f8",
   "metadata": {},
   "source": [
    "### Lagged Returns"
   ]
  },
  {
   "cell_type": "markdown",
   "id": "c3695a7f",
   "metadata": {},
   "source": [
    "#### Hourly"
   ]
  },
  {
   "cell_type": "code",
   "execution_count": 8,
   "id": "f3f3583e",
   "metadata": {},
   "outputs": [],
   "source": [
    "msft_df['Hourly_return'] = msft_df['Close'].pct_change(periods=1)\n",
    "lag_returns_hourly = [1, 2, 3, 4, 5, 6] # range within 1 day\n",
    "for lag in lag_returns_hourly:\n",
    "    msft_df[f'Hourly_return_lag_{lag}H'] = msft_df['Hourly_return'].shift(lag)"
   ]
  },
  {
   "cell_type": "markdown",
   "id": "a9bd1f64",
   "metadata": {},
   "source": [
    "#### Daily"
   ]
  },
  {
   "cell_type": "code",
   "execution_count": 9,
   "id": "3c07beaa",
   "metadata": {},
   "outputs": [],
   "source": [
    "msft_df['Daily_return'] = msft_df['Close'].pct_change(periods=7)\n",
    "lag_returns_daily = [7,14,21,28] # 1-4 day range\n",
    "for lag in lag_returns_daily:\n",
    "    msft_df[f'Daily_return_lag_{lag}H'] = msft_df['Daily_return'].shift(lag)"
   ]
  },
  {
   "cell_type": "markdown",
   "id": "23d70848",
   "metadata": {},
   "source": [
    "#### Weekly"
   ]
  },
  {
   "cell_type": "markdown",
   "id": "21c9459f",
   "metadata": {},
   "source": [
    "Generates too many NaN values."
   ]
  },
  {
   "cell_type": "code",
   "execution_count": 10,
   "id": "c0cfaaa5",
   "metadata": {},
   "outputs": [],
   "source": [
    "msft_df['Weekly_return'] = msft_df['Close'].pct_change(periods=35)\n",
    "lag_returns_weekly = [35] # range within 2 weeks\n",
    "for lag in lag_returns_weekly:\n",
    "    msft_df[f'weekly_return_lag_{lag}H'] = msft_df['Weekly_return'].shift(lag)"
   ]
  },
  {
   "cell_type": "markdown",
   "id": "c5ce8de0",
   "metadata": {},
   "source": [
    "### Moving Averages"
   ]
  },
  {
   "cell_type": "markdown",
   "id": "bb96fee1",
   "metadata": {},
   "source": [
    "#### Simple"
   ]
  },
  {
   "cell_type": "code",
   "execution_count": 11,
   "id": "b9f7194b",
   "metadata": {},
   "outputs": [],
   "source": [
    "sma_windows = [5, 7, 10, 21, 28, 35]\n",
    "for window in sma_windows:\n",
    "    msft_df[f'SMA_{window}H'] = msft_df['Close'].rolling(window=window).mean()"
   ]
  },
  {
   "cell_type": "markdown",
   "id": "15afa488",
   "metadata": {},
   "source": [
    "#### Exponential"
   ]
  },
  {
   "cell_type": "code",
   "execution_count": 12,
   "id": "6d673ce8",
   "metadata": {},
   "outputs": [],
   "source": [
    "ema_windows = [5, 7, 10, 21, 28, 35]\n",
    "for window in ema_windows:\n",
    "    msft_df[f'EMA_{window}H'] = msft_df['Close'].ewm(span=window, adjust=False).mean()"
   ]
  },
  {
   "cell_type": "markdown",
   "id": "6ddbdddc",
   "metadata": {},
   "source": [
    "### Logarithmic Simple "
   ]
  },
  {
   "cell_type": "code",
   "execution_count": 13,
   "id": "971c6f82",
   "metadata": {},
   "outputs": [],
   "source": [
    "msft_df['Log_Close'] = np.log(msft_df['Close'])\n",
    "msft_df['Rolling_Log_Avg'] = msft_df['Log_Close'].rolling(7).mean()\n",
    "msft_df['Rolling_Log_Std'] = msft_df['Log_Close'].rolling(7).std()"
   ]
  },
  {
   "cell_type": "markdown",
   "id": "4cbd95f7",
   "metadata": {},
   "source": [
    "### Volatility"
   ]
  },
  {
   "cell_type": "markdown",
   "id": "de62b23a",
   "metadata": {},
   "source": [
    "#### Standard Deviation"
   ]
  },
  {
   "cell_type": "markdown",
   "id": "c6368cab",
   "metadata": {},
   "source": [
    "Use returns rather than raw price for STD due to returns having stationarity."
   ]
  },
  {
   "cell_type": "code",
   "execution_count": 14,
   "id": "73677640",
   "metadata": {},
   "outputs": [],
   "source": [
    "volatility_window = [3, 7, 14, 21, 28, 35]\n",
    "\n",
    "for window in volatility_window:\n",
    "    msft_df[f'Volatility_StdDEV_{window}H'] = msft_df['Hourly_return'].rolling(window=window).std()"
   ]
  },
  {
   "cell_type": "markdown",
   "id": "aed37d30",
   "metadata": {},
   "source": [
    "### Technical Indicators"
   ]
  },
  {
   "cell_type": "markdown",
   "id": "536cc5cc",
   "metadata": {},
   "source": [
    "#### Average True Range (Volatility)"
   ]
  },
  {
   "cell_type": "code",
   "execution_count": 15,
   "id": "4a49bda6",
   "metadata": {},
   "outputs": [],
   "source": [
    "atr_periods = [7, 14, 21, 28, 35]\n",
    "\n",
    "for period in atr_periods:\n",
    "    atr = AverageTrueRange(\n",
    "        high=msft_df['High'],\n",
    "        low=msft_df['Low'],\n",
    "        close=msft_df['Close'].shift(1),\n",
    "        window=period,\n",
    "        fillna=False\n",
    "    )\n",
    "    msft_df[f'ATR_{period}H'] = atr.average_true_range()"
   ]
  },
  {
   "cell_type": "markdown",
   "id": "7c0995f7",
   "metadata": {},
   "source": [
    "#### RSI (Momentum Indicator)"
   ]
  },
  {
   "cell_type": "code",
   "execution_count": 16,
   "id": "42438a06",
   "metadata": {},
   "outputs": [],
   "source": [
    "from ta.momentum import RSIIndicator\n",
    "\n",
    "rsi_indicator = RSIIndicator(close=msft_df['Close'], window=14)\n",
    "\n",
    "\n",
    "msft_df['RSI_14'] = rsi_indicator.rsi()\n",
    "\n",
    "msft_df['RSI_Overbought'] = (msft_df['RSI_14'] > 70).astype(int)\n",
    "msft_df['RSI_Oversold'] = (msft_df['RSI_14'] < 30).astype(int)"
   ]
  },
  {
   "cell_type": "markdown",
   "id": "b1b52772",
   "metadata": {},
   "source": [
    "#### MACD (Momentum Indicator)"
   ]
  },
  {
   "cell_type": "code",
   "execution_count": null,
   "id": "07cdb5a5",
   "metadata": {},
   "outputs": [],
   "source": [
    "from ta.trend import MACD\n",
    "\n",
    "macd_indicator = MACD(\n",
    "    close=msft_df['Close'],\n",
    "    window_slow=26,\n",
    "    window_fast=12,\n",
    "    window_sign=9,\n",
    "    fillna=False\n",
    ")\n",
    "\n",
    "msft_df['MACD'] = macd_indicator.macd()\n",
    "msft_df['MACD_Signal'] = macd_indicator.macd_signal()\n",
    "msft_df['MACD_Histogram'] = macd_indicator.macd_diff()\n",
    "\n",
    "msft_df['MACD_Prev'] = msft_df['MACD'].shift(1)\n",
    "msft_df['MACD_Signal_Prev'] = msft_df['MACD_Signal'].shift(1)\n",
    "msft_df['MACD_Cross_Up'] = ((msft_df['MACD'] > msft_df['MACD_Signal']) & (msft_df['MACD_Prev'] <= msft_df['MACD_Signal_Prev'])).astype(int)\n",
    "msft_df['MACD_Cross_Down'] = ((msft_df['MACD'] < msft_df['MACD_Signal']) & (msft_df['MACD_Prev'] >= msft_df['MACD_Signal_Prev'])).astype(int)"
   ]
  },
  {
   "cell_type": "markdown",
   "id": "2cf5f96e",
   "metadata": {},
   "source": [
    "#### Bollinger Bands (Volatility Indicator)"
   ]
  },
  {
   "cell_type": "code",
   "execution_count": 18,
   "id": "91095030",
   "metadata": {},
   "outputs": [],
   "source": [
    "from ta.volatility import BollingerBands\n",
    "\n",
    "\n",
    "bb_indicator = BollingerBands(\n",
    "    close=msft_df['Close'],\n",
    "    window=2,         \n",
    "    window_dev=2,     \n",
    "    fillna=False\n",
    ")\n",
    "\n",
    "msft_df['Bollinger_Lower'] = bb_indicator.bollinger_lband()\n",
    "msft_df['Bollinger_Middle'] = bb_indicator.bollinger_mavg()\n",
    "msft_df['Bollinger_Upper'] = bb_indicator.bollinger_hband()\n",
    "msft_df['Bollinger_Bandwidth_Raw'] = bb_indicator.bollinger_wband()\n",
    "msft_df['Bollinger_PercentageB'] = bb_indicator.bollinger_pband()\n",
    "\n",
    "msft_df['Bollinger_Bandwidth'] = msft_df['Bollinger_Bandwidth_Raw'] / 100\n",
    "msft_df['Price_Above_Upper_BB'] = (msft_df['Close'] > msft_df['Bollinger_Upper']).astype(int)\n",
    "msft_df['Price_Below_Lower_BB'] = (msft_df['Close'] < msft_df['Bollinger_Lower']).astype(int)"
   ]
  },
  {
   "cell_type": "markdown",
   "id": "e2cef7ea",
   "metadata": {},
   "source": [
    "#### Stochastic Oscillator (Momentum Indicator)"
   ]
  },
  {
   "cell_type": "code",
   "execution_count": 19,
   "id": "90987ec6",
   "metadata": {},
   "outputs": [],
   "source": [
    "from ta.momentum import StochasticOscillator\n",
    "\n",
    "# Create the Stochastic Oscillator object\n",
    "stoch = StochasticOscillator(\n",
    "    high=msft_df['High'],\n",
    "    low=msft_df['Low'],\n",
    "    close=msft_df['Close'],\n",
    "    window=14,      \n",
    "    smooth_window=3, \n",
    "    fillna=False\n",
    ")\n",
    "\n",
    "msft_df['%K'] = stoch.stoch()\n",
    "\n",
    "msft_df['%D'] = stoch.stoch_signal()"
   ]
  },
  {
   "cell_type": "markdown",
   "id": "6584b8f9",
   "metadata": {},
   "source": [
    "#### ADX (Trend/Momentum Indicator)"
   ]
  },
  {
   "cell_type": "code",
   "execution_count": 20,
   "id": "b1f5f288",
   "metadata": {},
   "outputs": [],
   "source": [
    "from ta.trend import ADXIndicator\n",
    "\n",
    "\n",
    "adx = ADXIndicator(\n",
    "    high=msft_df['High'],\n",
    "    low=msft_df['Low'],\n",
    "    close=msft_df['Close'],\n",
    "    window=14,\n",
    "    fillna=False\n",
    ")\n",
    "\n",
    "\n",
    "msft_df['ADX_14'] = adx.adx()\n",
    "msft_df['Positive_DI'] = adx.adx_pos()\n",
    "msft_df['Negative_DI'] = adx.adx_neg()\n",
    "\n",
    "\n",
    "msft_df['Trend_Strong_ADX'] = (msft_df['ADX_14'] > 25).astype(int)\n"
   ]
  },
  {
   "cell_type": "markdown",
   "id": "d003f8cc",
   "metadata": {},
   "source": [
    "### Time Stamps"
   ]
  },
  {
   "cell_type": "code",
   "execution_count": 21,
   "id": "12f1bfb6",
   "metadata": {},
   "outputs": [
    {
     "name": "stderr",
     "output_type": "stream",
     "text": [
      "C:\\Users\\billy\\AppData\\Local\\Temp\\ipykernel_54204\\2403176649.py:1: PerformanceWarning: DataFrame is highly fragmented.  This is usually the result of calling `frame.insert` many times, which has poor performance.  Consider joining all columns at once using pd.concat(axis=1) instead. To get a de-fragmented frame, use `newframe = frame.copy()`\n",
      "  msft_df['Hour'] = msft_df.index.hour\n",
      "C:\\Users\\billy\\AppData\\Local\\Temp\\ipykernel_54204\\2403176649.py:2: PerformanceWarning: DataFrame is highly fragmented.  This is usually the result of calling `frame.insert` many times, which has poor performance.  Consider joining all columns at once using pd.concat(axis=1) instead. To get a de-fragmented frame, use `newframe = frame.copy()`\n",
      "  msft_df['Day_of_Week'] = msft_df.index.dayofweek\n",
      "C:\\Users\\billy\\AppData\\Local\\Temp\\ipykernel_54204\\2403176649.py:3: PerformanceWarning: DataFrame is highly fragmented.  This is usually the result of calling `frame.insert` many times, which has poor performance.  Consider joining all columns at once using pd.concat(axis=1) instead. To get a de-fragmented frame, use `newframe = frame.copy()`\n",
      "  msft_df['Day_of_Month'] = msft_df.index.day\n",
      "C:\\Users\\billy\\AppData\\Local\\Temp\\ipykernel_54204\\2403176649.py:4: PerformanceWarning: DataFrame is highly fragmented.  This is usually the result of calling `frame.insert` many times, which has poor performance.  Consider joining all columns at once using pd.concat(axis=1) instead. To get a de-fragmented frame, use `newframe = frame.copy()`\n",
      "  msft_df['Month'] = msft_df.index.month\n",
      "C:\\Users\\billy\\AppData\\Local\\Temp\\ipykernel_54204\\2403176649.py:5: PerformanceWarning: DataFrame is highly fragmented.  This is usually the result of calling `frame.insert` many times, which has poor performance.  Consider joining all columns at once using pd.concat(axis=1) instead. To get a de-fragmented frame, use `newframe = frame.copy()`\n",
      "  msft_df['Year'] = msft_df.index.year\n",
      "C:\\Users\\billy\\AppData\\Local\\Temp\\ipykernel_54204\\2403176649.py:6: PerformanceWarning: DataFrame is highly fragmented.  This is usually the result of calling `frame.insert` many times, which has poor performance.  Consider joining all columns at once using pd.concat(axis=1) instead. To get a de-fragmented frame, use `newframe = frame.copy()`\n",
      "  msft_df['Week_of_Year'] = msft_df.index.isocalendar().week.astype(int)\n"
     ]
    }
   ],
   "source": [
    "msft_df['Hour'] = msft_df.index.hour\n",
    "msft_df['Day_of_Week'] = msft_df.index.dayofweek\n",
    "msft_df['Day_of_Month'] = msft_df.index.day\n",
    "msft_df['Month'] = msft_df.index.month\n",
    "msft_df['Year'] = msft_df.index.year\n",
    "msft_df['Week_of_Year'] = msft_df.index.isocalendar().week.astype(int)"
   ]
  },
  {
   "cell_type": "markdown",
   "id": "4689f856",
   "metadata": {},
   "source": [
    "Converting hourly and weekly data to sin, cosine. One Hot Encoding categorical data."
   ]
  },
  {
   "cell_type": "code",
   "execution_count": null,
   "id": "6accc61d",
   "metadata": {},
   "outputs": [
    {
     "name": "stderr",
     "output_type": "stream",
     "text": [
      "C:\\Users\\billy\\AppData\\Local\\Temp\\ipykernel_54204\\2951078873.py:1: PerformanceWarning: DataFrame is highly fragmented.  This is usually the result of calling `frame.insert` many times, which has poor performance.  Consider joining all columns at once using pd.concat(axis=1) instead. To get a de-fragmented frame, use `newframe = frame.copy()`\n",
      "  msft_df['Hour_sin'] = np.sin(2 * np.pi * msft_df['Hour'] / 24)\n",
      "C:\\Users\\billy\\AppData\\Local\\Temp\\ipykernel_54204\\2951078873.py:2: PerformanceWarning: DataFrame is highly fragmented.  This is usually the result of calling `frame.insert` many times, which has poor performance.  Consider joining all columns at once using pd.concat(axis=1) instead. To get a de-fragmented frame, use `newframe = frame.copy()`\n",
      "  msft_df['Hour_cos'] = np.cos(2 * np.pi * msft_df['Hour'] / 24)\n",
      "C:\\Users\\billy\\AppData\\Local\\Temp\\ipykernel_54204\\2951078873.py:3: PerformanceWarning: DataFrame is highly fragmented.  This is usually the result of calling `frame.insert` many times, which has poor performance.  Consider joining all columns at once using pd.concat(axis=1) instead. To get a de-fragmented frame, use `newframe = frame.copy()`\n",
      "  msft_df['Day_of_Week_sin'] = np.sin(2 * np.pi * msft_df['Day_of_Week'] / 7)\n",
      "C:\\Users\\billy\\AppData\\Local\\Temp\\ipykernel_54204\\2951078873.py:4: PerformanceWarning: DataFrame is highly fragmented.  This is usually the result of calling `frame.insert` many times, which has poor performance.  Consider joining all columns at once using pd.concat(axis=1) instead. To get a de-fragmented frame, use `newframe = frame.copy()`\n",
      "  msft_df['Day_of_Week_cos'] = np.cos(2 * np.pi * msft_df['Day_of_Week'] / 7)\n"
     ]
    }
   ],
   "source": [
    "msft_df['Hour_sin'] = np.sin(2 * np.pi * msft_df['Hour'] / 24)\n",
    "msft_df['Hour_cos'] = np.cos(2 * np.pi * msft_df['Hour'] / 24)\n",
    "msft_df['Day_of_Week_sin'] = np.sin(2 * np.pi * msft_df['Day_of_Week'] / 7)\n",
    "msft_df['Day_of_Week_cos'] = np.cos(2 * np.pi * msft_df['Day_of_Week'] / 7)\n",
    "msft_df = pd.get_dummies(msft_df, columns=['Day_of_Week'], prefix='Day', drop_first=False)\n",
    "msft_df = pd.get_dummies(msft_df, columns=['Month'], prefix='Month', drop_first=False)"
   ]
  },
  {
   "cell_type": "markdown",
   "id": "a7530769",
   "metadata": {},
   "source": [
    "### Volume Based"
   ]
  },
  {
   "cell_type": "markdown",
   "id": "aa8a9302",
   "metadata": {},
   "source": [
    "#### Moving Average"
   ]
  },
  {
   "cell_type": "code",
   "execution_count": 23,
   "id": "24d9801f",
   "metadata": {},
   "outputs": [],
   "source": [
    "for window in [7, 14, 21, 28, 35]:\n",
    "    msft_df[f'Volume_SMA_{window}H'] = msft_df['Volume'].rolling(window=window).mean()\n",
    "msft_df['Volume_Change'] = msft_df['Volume'].pct_change()"
   ]
  },
  {
   "cell_type": "markdown",
   "id": "f0826cca",
   "metadata": {},
   "source": [
    "#### On-Balanced Volume (Momentum Indicator)"
   ]
  },
  {
   "cell_type": "code",
   "execution_count": 24,
   "id": "83b1e368",
   "metadata": {},
   "outputs": [],
   "source": [
    "from ta.volume import OnBalanceVolumeIndicator\n",
    "\n",
    "# Create the OBV indicator object\n",
    "obv_indicator = OnBalanceVolumeIndicator(\n",
    "    close=msft_df['Close'],\n",
    "    volume=msft_df['Volume'],\n",
    "    fillna=False\n",
    ")\n",
    "\n",
    "# Calculate OBV and its 9-period EMA\n",
    "msft_df['OBV'] = obv_indicator.on_balance_volume()\n",
    "msft_df['OBV_EMA_9H'] = msft_df['OBV'].ewm(span=9, adjust=False).mean()"
   ]
  },
  {
   "cell_type": "markdown",
   "id": "a505b70f",
   "metadata": {},
   "source": [
    "#### Price Action Patterns"
   ]
  },
  {
   "cell_type": "code",
   "execution_count": 25,
   "id": "eb4ec3be",
   "metadata": {},
   "outputs": [],
   "source": [
    "msft_df['High_Low_Range'] = msft_df['High'] - msft_df['Low']\n",
    "msft_df['Open_Close_Range'] = msft_df['Close'] - msft_df['Open']\n",
    "msft_df['High_Low_Range_Pct'] = (msft_df['High'] - msft_df['Low']) / msft_df['Close'] * 100\n",
    "msft_df['Open_Close_Range_Pct'] = (msft_df['Close'] -  msft_df['Open']) / msft_df['Open'] * 100"
   ]
  },
  {
   "cell_type": "markdown",
   "id": "1cb4373e",
   "metadata": {},
   "source": [
    "### Other"
   ]
  },
  {
   "cell_type": "code",
   "execution_count": 26,
   "id": "e82d09c8",
   "metadata": {},
   "outputs": [],
   "source": [
    "msft_df['RSI_x_Volume'] = msft_df['RSI_14'] * msft_df['Volume']"
   ]
  },
  {
   "cell_type": "markdown",
   "id": "30b14aa1",
   "metadata": {},
   "source": [
    "### Imputation"
   ]
  },
  {
   "cell_type": "code",
   "execution_count": 27,
   "id": "9402bea1",
   "metadata": {},
   "outputs": [
    {
     "name": "stdout",
     "output_type": "stream",
     "text": [
      "amount of nans before accounting for largest window size: 878\n"
     ]
    }
   ],
   "source": [
    "print(\"amount of nans before accounting for largest window size:\", msft_df.isna().sum().sum())"
   ]
  },
  {
   "cell_type": "code",
   "execution_count": 28,
   "id": "96a4cc70",
   "metadata": {},
   "outputs": [
    {
     "name": "stdout",
     "output_type": "stream",
     "text": [
      "amount of nans after accounting for largest window size: 38\n"
     ]
    }
   ],
   "source": [
    "msft_df = msft_df.iloc[35:]\n",
    "print(\"amount of nans after accounting for largest window size:\", msft_df.isna().sum().sum())"
   ]
  },
  {
   "cell_type": "code",
   "execution_count": 29,
   "id": "31321a77",
   "metadata": {},
   "outputs": [
    {
     "name": "stdout",
     "output_type": "stream",
     "text": [
      "weekly_return_lag_35H    float64\n",
      "Bollinger_PercentageB    float64\n",
      "dtype: object\n"
     ]
    }
   ],
   "source": [
    "print(msft_df.dtypes[msft_df.isna().any()])"
   ]
  },
  {
   "cell_type": "code",
   "execution_count": 30,
   "id": "58332b6f",
   "metadata": {},
   "outputs": [
    {
     "name": "stdout",
     "output_type": "stream",
     "text": [
      "Bollinger_PercentageB NaN count: 3\n"
     ]
    }
   ],
   "source": [
    "#msft_df[msft_df['Bollinger_PercentageB'].isna()]\n",
    "print(f\"Bollinger_PercentageB NaN count:\", msft_df['Bollinger_PercentageB'].isna().sum().sum())\n",
    "# We can fill these NaNs with imputation function."
   ]
  },
  {
   "cell_type": "code",
   "execution_count": 31,
   "id": "fe88a580",
   "metadata": {},
   "outputs": [
    {
     "name": "stdout",
     "output_type": "stream",
     "text": [
      "weekly_return_lag_35H NaN count: 35\n"
     ]
    }
   ],
   "source": [
    "print(f\"weekly_return_lag_35H NaN count:\", msft_df['weekly_return_lag_35H'].isna().sum())\n",
    "# we cannot fill these values with imputation function, since they are NaN's and their type if best filled with\n",
    "# forward fill, but their beginning values are NaN's, so forward fill doesn't work."
   ]
  },
  {
   "cell_type": "code",
   "execution_count": 32,
   "id": "3ad0aab0",
   "metadata": {},
   "outputs": [
    {
     "name": "stdout",
     "output_type": "stream",
     "text": [
      "Datapoints lost by dropping 35 rows: 4,865\n",
      "Datapoints lost by dropping the column: 3,452\n"
     ]
    }
   ],
   "source": [
    "rows_to_drop = msft_df['weekly_return_lag_35H'].isna().sum()\n",
    "total_columns = msft_df.shape[1]\n",
    "datapoints_lost_rows = rows_to_drop * total_columns\n",
    "print(f\"Datapoints lost by dropping {rows_to_drop} rows: {datapoints_lost_rows:,}\")\n",
    "\n",
    "rows_total = msft_df.shape[0]\n",
    "datapoints_lost_column = rows_total\n",
    "print(f\"Datapoints lost by dropping the column: {datapoints_lost_column:,}\")\n",
    "# Because of this point discrepancy we drop the column weekly_return_lag_35H"
   ]
  },
  {
   "cell_type": "code",
   "execution_count": 33,
   "id": "0eb37f3a",
   "metadata": {},
   "outputs": [
    {
     "name": "stdout",
     "output_type": "stream",
     "text": [
      "Amount of NaNs after dropping the column: 3\n"
     ]
    }
   ],
   "source": [
    "msft_df.drop(columns=['weekly_return_lag_35H'], inplace=True)\n",
    "print(f\"Amount of NaNs after dropping the column:\", msft_df.isna().sum().sum())"
   ]
  },
  {
   "cell_type": "markdown",
   "id": "6ec08ad1",
   "metadata": {},
   "source": [
    "- Why ffill? These features are inherently backward-looking and computed from previous data. If a value is missing, the last valid one is usually the best proxy.\n",
    "    - Advantage: Less noise than forward fill or mean imputation, and more robust to outliers than expanding mean.\n",
    "- Why expanding median? Technical indicators are statistical constructs; using a growing median helps smooth extreme values while gradually building signal integrity over time.\n",
    "- Why linear interpolation? Prices and returns change gradually and are often assumed to follow continuous trends. Linear interpolation estimates these points realistically without dragging forward stale data.\n",
    "    -  Especially good for: Return features derived from price differences, where forward-filling would misrepresent rate of change"
   ]
  },
  {
   "cell_type": "code",
   "execution_count": 34,
   "id": "7c651e41",
   "metadata": {},
   "outputs": [],
   "source": [
    "def impute_features(df):\n",
    "    for col in df.columns:\n",
    "        col_lower = col.lower()\n",
    "\n",
    "        # columns that are not features\n",
    "        if col_lower in ['Close']:\n",
    "            continue\n",
    "\n",
    "        # Rolling Averages, Price Lags, Return Lags, Volume-related, Log features\n",
    "        if any(key in col_lower for key in [\"price_lag\", \"hourly_return_lag\", \"daily_return_lag\", \n",
    "                        \"weekly_return_lag_\", \"sma\", \"ema\", \"volume\", \"rolling_log_avg\", \"rolling_log_std\", \"volatility\"]):\n",
    "            df[col] = df[col].ffill()\n",
    "\n",
    "        # Technical Indicators\n",
    "        elif any(key in col_lower for key in [\"atr\", \"rsi\", \"macd\", \"bollinger\", \"upper_bb\", \"lower_bb\", \"adx\", \"di\", \"%d\", \"%k\", \"obv\"]):\n",
    "            df[col] = df[col].fillna(df[col].expanding().median())\n",
    "\n",
    "        # Price Features\n",
    "        elif any(key in col_lower for key in [\"low_range\", \"close_range\", \"range_pct\", \"rsi_x_volume\"]):\n",
    "            df[col] = df[col].interpolate(method='linear')\n",
    "\n",
    "        else:\n",
    "            df[col] = df[col].interpolate(method='linear').ffill().bfill()\n",
    "\n",
    "        \n",
    "    return df"
   ]
  },
  {
   "cell_type": "code",
   "execution_count": 35,
   "id": "a705d97e",
   "metadata": {},
   "outputs": [
    {
     "name": "stdout",
     "output_type": "stream",
     "text": [
      "amount of nans after accounting for imputing: 0\n"
     ]
    }
   ],
   "source": [
    "impute_features(msft_df)\n",
    "print(\"amount of nans after accounting for imputing:\", msft_df.isna().sum().sum())"
   ]
  },
  {
   "cell_type": "markdown",
   "id": "4f41ec47",
   "metadata": {},
   "source": [
    "### Scaling"
   ]
  },
  {
   "cell_type": "code",
   "execution_count": 36,
   "id": "f8f45d3c",
   "metadata": {},
   "outputs": [],
   "source": [
    "# # inf = msft_df.isin(['inf', '-inf'])\n",
    "# # print(\"Total infinity values\", inf.values.sum())\n",
    "# # inf[inf.any(axis=1)]\n",
    "# plt.figure(figsize=(16, 8))\n",
    "# sns.heatmap(inf, cmap=\"autumn\", cbar=False, yticklabels=False)\n",
    "# plt.title(\"🔍 Heatmap of Infinity Values in msft_df\")\n",
    "# plt.xlabel(\"Features\")\n",
    "# plt.ylabel(\"Timestamps\")\n",
    "# plt.tight_layout()\n",
    "# plt.show()"
   ]
  },
  {
   "cell_type": "code",
   "execution_count": 37,
   "id": "eb3a1768",
   "metadata": {},
   "outputs": [
    {
     "data": {
      "text/html": [
       "<div>\n",
       "<style scoped>\n",
       "    .dataframe tbody tr th:only-of-type {\n",
       "        vertical-align: middle;\n",
       "    }\n",
       "\n",
       "    .dataframe tbody tr th {\n",
       "        vertical-align: top;\n",
       "    }\n",
       "\n",
       "    .dataframe thead th {\n",
       "        text-align: right;\n",
       "    }\n",
       "</style>\n",
       "<table border=\"1\" class=\"dataframe\">\n",
       "  <thead>\n",
       "    <tr style=\"text-align: right;\">\n",
       "      <th></th>\n",
       "      <th>Open</th>\n",
       "      <th>High</th>\n",
       "      <th>Low</th>\n",
       "      <th>Close</th>\n",
       "      <th>Volume</th>\n",
       "      <th>Dividends</th>\n",
       "      <th>Stock Splits</th>\n",
       "      <th>Open_price_lag_1H</th>\n",
       "      <th>Open_price_lag_2H</th>\n",
       "      <th>Open_price_lag_3H</th>\n",
       "      <th>...</th>\n",
       "      <th>Volume_SMA_28H</th>\n",
       "      <th>Volume_SMA_35H</th>\n",
       "      <th>Volume_Change</th>\n",
       "      <th>OBV</th>\n",
       "      <th>OBV_EMA_9H</th>\n",
       "      <th>High_Low_Range</th>\n",
       "      <th>Open_Close_Range</th>\n",
       "      <th>High_Low_Range_Pct</th>\n",
       "      <th>Open_Close_Range_Pct</th>\n",
       "      <th>RSI_x_Volume</th>\n",
       "    </tr>\n",
       "    <tr>\n",
       "      <th>Datetime</th>\n",
       "      <th></th>\n",
       "      <th></th>\n",
       "      <th></th>\n",
       "      <th></th>\n",
       "      <th></th>\n",
       "      <th></th>\n",
       "      <th></th>\n",
       "      <th></th>\n",
       "      <th></th>\n",
       "      <th></th>\n",
       "      <th></th>\n",
       "      <th></th>\n",
       "      <th></th>\n",
       "      <th></th>\n",
       "      <th></th>\n",
       "      <th></th>\n",
       "      <th></th>\n",
       "      <th></th>\n",
       "      <th></th>\n",
       "      <th></th>\n",
       "      <th></th>\n",
       "    </tr>\n",
       "  </thead>\n",
       "  <tbody>\n",
       "    <tr>\n",
       "      <th>2023-07-05 13:30:00-04:00</th>\n",
       "      <td>338.549988</td>\n",
       "      <td>338.799988</td>\n",
       "      <td>337.640015</td>\n",
       "      <td>338.029999</td>\n",
       "      <td>1375275</td>\n",
       "      <td>0.0</td>\n",
       "      <td>0.0</td>\n",
       "      <td>339.140015</td>\n",
       "      <td>338.730011</td>\n",
       "      <td>340.440002</td>\n",
       "      <td>...</td>\n",
       "      <td>2.322095e+06</td>\n",
       "      <td>2.371685e+06</td>\n",
       "      <td>0.191958</td>\n",
       "      <td>3335607</td>\n",
       "      <td>5.724248e+06</td>\n",
       "      <td>1.159973</td>\n",
       "      <td>-0.519989</td>\n",
       "      <td>0.343157</td>\n",
       "      <td>-0.153593</td>\n",
       "      <td>7.089970e+07</td>\n",
       "    </tr>\n",
       "    <tr>\n",
       "      <th>2023-07-05 14:30:00-04:00</th>\n",
       "      <td>338.059998</td>\n",
       "      <td>338.750000</td>\n",
       "      <td>338.000000</td>\n",
       "      <td>338.369995</td>\n",
       "      <td>1284704</td>\n",
       "      <td>0.0</td>\n",
       "      <td>0.0</td>\n",
       "      <td>338.549988</td>\n",
       "      <td>339.140015</td>\n",
       "      <td>338.730011</td>\n",
       "      <td>...</td>\n",
       "      <td>2.279116e+06</td>\n",
       "      <td>2.325209e+06</td>\n",
       "      <td>-0.065857</td>\n",
       "      <td>4620311</td>\n",
       "      <td>5.503460e+06</td>\n",
       "      <td>0.750000</td>\n",
       "      <td>0.309998</td>\n",
       "      <td>0.221651</td>\n",
       "      <td>0.091699</td>\n",
       "      <td>6.771939e+07</td>\n",
       "    </tr>\n",
       "    <tr>\n",
       "      <th>2023-07-05 15:30:00-04:00</th>\n",
       "      <td>338.399994</td>\n",
       "      <td>338.670013</td>\n",
       "      <td>337.799988</td>\n",
       "      <td>338.160004</td>\n",
       "      <td>1754385</td>\n",
       "      <td>0.0</td>\n",
       "      <td>0.0</td>\n",
       "      <td>338.059998</td>\n",
       "      <td>338.549988</td>\n",
       "      <td>339.140015</td>\n",
       "      <td>...</td>\n",
       "      <td>2.282647e+06</td>\n",
       "      <td>2.320921e+06</td>\n",
       "      <td>0.365595</td>\n",
       "      <td>2865926</td>\n",
       "      <td>4.975954e+06</td>\n",
       "      <td>0.870026</td>\n",
       "      <td>-0.239990</td>\n",
       "      <td>0.257282</td>\n",
       "      <td>-0.070919</td>\n",
       "      <td>9.102884e+07</td>\n",
       "    </tr>\n",
       "    <tr>\n",
       "      <th>2023-07-06 09:30:00-04:00</th>\n",
       "      <td>337.299988</td>\n",
       "      <td>340.649994</td>\n",
       "      <td>335.500000</td>\n",
       "      <td>340.609711</td>\n",
       "      <td>8464457</td>\n",
       "      <td>0.0</td>\n",
       "      <td>0.0</td>\n",
       "      <td>338.399994</td>\n",
       "      <td>338.059998</td>\n",
       "      <td>338.549988</td>\n",
       "      <td>...</td>\n",
       "      <td>2.504760e+06</td>\n",
       "      <td>2.484129e+06</td>\n",
       "      <td>3.824743</td>\n",
       "      <td>11330383</td>\n",
       "      <td>6.246839e+06</td>\n",
       "      <td>5.149994</td>\n",
       "      <td>3.309723</td>\n",
       "      <td>1.511993</td>\n",
       "      <td>0.981240</td>\n",
       "      <td>5.061498e+08</td>\n",
       "    </tr>\n",
       "    <tr>\n",
       "      <th>2023-07-06 10:30:00-04:00</th>\n",
       "      <td>340.579987</td>\n",
       "      <td>341.119995</td>\n",
       "      <td>338.089996</td>\n",
       "      <td>338.700012</td>\n",
       "      <td>3748565</td>\n",
       "      <td>0.0</td>\n",
       "      <td>0.0</td>\n",
       "      <td>337.299988</td>\n",
       "      <td>338.399994</td>\n",
       "      <td>338.059998</td>\n",
       "      <td>...</td>\n",
       "      <td>2.571333e+06</td>\n",
       "      <td>2.533555e+06</td>\n",
       "      <td>-0.557141</td>\n",
       "      <td>7581818</td>\n",
       "      <td>6.513835e+06</td>\n",
       "      <td>3.029999</td>\n",
       "      <td>-1.879974</td>\n",
       "      <td>0.894597</td>\n",
       "      <td>-0.551992</td>\n",
       "      <td>1.969658e+08</td>\n",
       "    </tr>\n",
       "    <tr>\n",
       "      <th>...</th>\n",
       "      <td>...</td>\n",
       "      <td>...</td>\n",
       "      <td>...</td>\n",
       "      <td>...</td>\n",
       "      <td>...</td>\n",
       "      <td>...</td>\n",
       "      <td>...</td>\n",
       "      <td>...</td>\n",
       "      <td>...</td>\n",
       "      <td>...</td>\n",
       "      <td>...</td>\n",
       "      <td>...</td>\n",
       "      <td>...</td>\n",
       "      <td>...</td>\n",
       "      <td>...</td>\n",
       "      <td>...</td>\n",
       "      <td>...</td>\n",
       "      <td>...</td>\n",
       "      <td>...</td>\n",
       "      <td>...</td>\n",
       "      <td>...</td>\n",
       "    </tr>\n",
       "    <tr>\n",
       "      <th>2025-06-25 11:30:00-04:00</th>\n",
       "      <td>492.570007</td>\n",
       "      <td>492.709991</td>\n",
       "      <td>491.149994</td>\n",
       "      <td>491.614990</td>\n",
       "      <td>1207466</td>\n",
       "      <td>0.0</td>\n",
       "      <td>0.0</td>\n",
       "      <td>493.619995</td>\n",
       "      <td>491.609985</td>\n",
       "      <td>490.820007</td>\n",
       "      <td>...</td>\n",
       "      <td>2.595252e+06</td>\n",
       "      <td>2.371831e+06</td>\n",
       "      <td>-0.267709</td>\n",
       "      <td>238538099</td>\n",
       "      <td>2.391876e+08</td>\n",
       "      <td>1.559998</td>\n",
       "      <td>-0.955017</td>\n",
       "      <td>0.317321</td>\n",
       "      <td>-0.193885</td>\n",
       "      <td>8.225291e+07</td>\n",
       "    </tr>\n",
       "    <tr>\n",
       "      <th>2025-06-25 12:30:00-04:00</th>\n",
       "      <td>491.630005</td>\n",
       "      <td>491.659912</td>\n",
       "      <td>490.109985</td>\n",
       "      <td>490.640015</td>\n",
       "      <td>1174224</td>\n",
       "      <td>0.0</td>\n",
       "      <td>0.0</td>\n",
       "      <td>492.570007</td>\n",
       "      <td>493.619995</td>\n",
       "      <td>491.609985</td>\n",
       "      <td>...</td>\n",
       "      <td>2.608010e+06</td>\n",
       "      <td>2.373816e+06</td>\n",
       "      <td>-0.027530</td>\n",
       "      <td>237363875</td>\n",
       "      <td>2.388228e+08</td>\n",
       "      <td>1.549927</td>\n",
       "      <td>-0.989990</td>\n",
       "      <td>0.315899</td>\n",
       "      <td>-0.201369</td>\n",
       "      <td>7.529843e+07</td>\n",
       "    </tr>\n",
       "    <tr>\n",
       "      <th>2025-06-25 13:30:00-04:00</th>\n",
       "      <td>490.609985</td>\n",
       "      <td>490.799988</td>\n",
       "      <td>489.390015</td>\n",
       "      <td>490.479797</td>\n",
       "      <td>1147401</td>\n",
       "      <td>0.0</td>\n",
       "      <td>0.0</td>\n",
       "      <td>491.630005</td>\n",
       "      <td>492.570007</td>\n",
       "      <td>493.619995</td>\n",
       "      <td>...</td>\n",
       "      <td>2.600699e+06</td>\n",
       "      <td>2.371716e+06</td>\n",
       "      <td>-0.022843</td>\n",
       "      <td>236216474</td>\n",
       "      <td>2.383016e+08</td>\n",
       "      <td>1.409973</td>\n",
       "      <td>-0.130188</td>\n",
       "      <td>0.287468</td>\n",
       "      <td>-0.026536</td>\n",
       "      <td>7.282273e+07</td>\n",
       "    </tr>\n",
       "    <tr>\n",
       "      <th>2025-06-25 14:30:00-04:00</th>\n",
       "      <td>490.480011</td>\n",
       "      <td>491.589996</td>\n",
       "      <td>490.089996</td>\n",
       "      <td>491.160004</td>\n",
       "      <td>1691434</td>\n",
       "      <td>0.0</td>\n",
       "      <td>0.0</td>\n",
       "      <td>490.609985</td>\n",
       "      <td>491.630005</td>\n",
       "      <td>492.570007</td>\n",
       "      <td>...</td>\n",
       "      <td>2.600774e+06</td>\n",
       "      <td>2.390053e+06</td>\n",
       "      <td>0.474144</td>\n",
       "      <td>237907908</td>\n",
       "      <td>2.382228e+08</td>\n",
       "      <td>1.500000</td>\n",
       "      <td>0.679993</td>\n",
       "      <td>0.305399</td>\n",
       "      <td>0.138638</td>\n",
       "      <td>1.101225e+08</td>\n",
       "    </tr>\n",
       "    <tr>\n",
       "      <th>2025-06-25 15:30:00-04:00</th>\n",
       "      <td>491.130005</td>\n",
       "      <td>492.440002</td>\n",
       "      <td>490.950012</td>\n",
       "      <td>492.440002</td>\n",
       "      <td>2775326</td>\n",
       "      <td>0.0</td>\n",
       "      <td>0.0</td>\n",
       "      <td>490.480011</td>\n",
       "      <td>490.609985</td>\n",
       "      <td>491.630005</td>\n",
       "      <td>...</td>\n",
       "      <td>2.593389e+06</td>\n",
       "      <td>2.411694e+06</td>\n",
       "      <td>0.640812</td>\n",
       "      <td>240683234</td>\n",
       "      <td>2.387149e+08</td>\n",
       "      <td>1.489990</td>\n",
       "      <td>1.309998</td>\n",
       "      <td>0.302573</td>\n",
       "      <td>0.266731</td>\n",
       "      <td>1.887588e+08</td>\n",
       "    </tr>\n",
       "  </tbody>\n",
       "</table>\n",
       "<p>3452 rows × 138 columns</p>\n",
       "</div>"
      ],
      "text/plain": [
       "                                 Open        High         Low       Close  \\\n",
       "Datetime                                                                    \n",
       "2023-07-05 13:30:00-04:00  338.549988  338.799988  337.640015  338.029999   \n",
       "2023-07-05 14:30:00-04:00  338.059998  338.750000  338.000000  338.369995   \n",
       "2023-07-05 15:30:00-04:00  338.399994  338.670013  337.799988  338.160004   \n",
       "2023-07-06 09:30:00-04:00  337.299988  340.649994  335.500000  340.609711   \n",
       "2023-07-06 10:30:00-04:00  340.579987  341.119995  338.089996  338.700012   \n",
       "...                               ...         ...         ...         ...   \n",
       "2025-06-25 11:30:00-04:00  492.570007  492.709991  491.149994  491.614990   \n",
       "2025-06-25 12:30:00-04:00  491.630005  491.659912  490.109985  490.640015   \n",
       "2025-06-25 13:30:00-04:00  490.609985  490.799988  489.390015  490.479797   \n",
       "2025-06-25 14:30:00-04:00  490.480011  491.589996  490.089996  491.160004   \n",
       "2025-06-25 15:30:00-04:00  491.130005  492.440002  490.950012  492.440002   \n",
       "\n",
       "                            Volume  Dividends  Stock Splits  \\\n",
       "Datetime                                                      \n",
       "2023-07-05 13:30:00-04:00  1375275        0.0           0.0   \n",
       "2023-07-05 14:30:00-04:00  1284704        0.0           0.0   \n",
       "2023-07-05 15:30:00-04:00  1754385        0.0           0.0   \n",
       "2023-07-06 09:30:00-04:00  8464457        0.0           0.0   \n",
       "2023-07-06 10:30:00-04:00  3748565        0.0           0.0   \n",
       "...                            ...        ...           ...   \n",
       "2025-06-25 11:30:00-04:00  1207466        0.0           0.0   \n",
       "2025-06-25 12:30:00-04:00  1174224        0.0           0.0   \n",
       "2025-06-25 13:30:00-04:00  1147401        0.0           0.0   \n",
       "2025-06-25 14:30:00-04:00  1691434        0.0           0.0   \n",
       "2025-06-25 15:30:00-04:00  2775326        0.0           0.0   \n",
       "\n",
       "                           Open_price_lag_1H  Open_price_lag_2H  \\\n",
       "Datetime                                                          \n",
       "2023-07-05 13:30:00-04:00         339.140015         338.730011   \n",
       "2023-07-05 14:30:00-04:00         338.549988         339.140015   \n",
       "2023-07-05 15:30:00-04:00         338.059998         338.549988   \n",
       "2023-07-06 09:30:00-04:00         338.399994         338.059998   \n",
       "2023-07-06 10:30:00-04:00         337.299988         338.399994   \n",
       "...                                      ...                ...   \n",
       "2025-06-25 11:30:00-04:00         493.619995         491.609985   \n",
       "2025-06-25 12:30:00-04:00         492.570007         493.619995   \n",
       "2025-06-25 13:30:00-04:00         491.630005         492.570007   \n",
       "2025-06-25 14:30:00-04:00         490.609985         491.630005   \n",
       "2025-06-25 15:30:00-04:00         490.480011         490.609985   \n",
       "\n",
       "                           Open_price_lag_3H  ...  Volume_SMA_28H  \\\n",
       "Datetime                                      ...                   \n",
       "2023-07-05 13:30:00-04:00         340.440002  ...    2.322095e+06   \n",
       "2023-07-05 14:30:00-04:00         338.730011  ...    2.279116e+06   \n",
       "2023-07-05 15:30:00-04:00         339.140015  ...    2.282647e+06   \n",
       "2023-07-06 09:30:00-04:00         338.549988  ...    2.504760e+06   \n",
       "2023-07-06 10:30:00-04:00         338.059998  ...    2.571333e+06   \n",
       "...                                      ...  ...             ...   \n",
       "2025-06-25 11:30:00-04:00         490.820007  ...    2.595252e+06   \n",
       "2025-06-25 12:30:00-04:00         491.609985  ...    2.608010e+06   \n",
       "2025-06-25 13:30:00-04:00         493.619995  ...    2.600699e+06   \n",
       "2025-06-25 14:30:00-04:00         492.570007  ...    2.600774e+06   \n",
       "2025-06-25 15:30:00-04:00         491.630005  ...    2.593389e+06   \n",
       "\n",
       "                           Volume_SMA_35H  Volume_Change        OBV  \\\n",
       "Datetime                                                              \n",
       "2023-07-05 13:30:00-04:00    2.371685e+06       0.191958    3335607   \n",
       "2023-07-05 14:30:00-04:00    2.325209e+06      -0.065857    4620311   \n",
       "2023-07-05 15:30:00-04:00    2.320921e+06       0.365595    2865926   \n",
       "2023-07-06 09:30:00-04:00    2.484129e+06       3.824743   11330383   \n",
       "2023-07-06 10:30:00-04:00    2.533555e+06      -0.557141    7581818   \n",
       "...                                   ...            ...        ...   \n",
       "2025-06-25 11:30:00-04:00    2.371831e+06      -0.267709  238538099   \n",
       "2025-06-25 12:30:00-04:00    2.373816e+06      -0.027530  237363875   \n",
       "2025-06-25 13:30:00-04:00    2.371716e+06      -0.022843  236216474   \n",
       "2025-06-25 14:30:00-04:00    2.390053e+06       0.474144  237907908   \n",
       "2025-06-25 15:30:00-04:00    2.411694e+06       0.640812  240683234   \n",
       "\n",
       "                             OBV_EMA_9H  High_Low_Range  Open_Close_Range  \\\n",
       "Datetime                                                                    \n",
       "2023-07-05 13:30:00-04:00  5.724248e+06        1.159973         -0.519989   \n",
       "2023-07-05 14:30:00-04:00  5.503460e+06        0.750000          0.309998   \n",
       "2023-07-05 15:30:00-04:00  4.975954e+06        0.870026         -0.239990   \n",
       "2023-07-06 09:30:00-04:00  6.246839e+06        5.149994          3.309723   \n",
       "2023-07-06 10:30:00-04:00  6.513835e+06        3.029999         -1.879974   \n",
       "...                                 ...             ...               ...   \n",
       "2025-06-25 11:30:00-04:00  2.391876e+08        1.559998         -0.955017   \n",
       "2025-06-25 12:30:00-04:00  2.388228e+08        1.549927         -0.989990   \n",
       "2025-06-25 13:30:00-04:00  2.383016e+08        1.409973         -0.130188   \n",
       "2025-06-25 14:30:00-04:00  2.382228e+08        1.500000          0.679993   \n",
       "2025-06-25 15:30:00-04:00  2.387149e+08        1.489990          1.309998   \n",
       "\n",
       "                           High_Low_Range_Pct  Open_Close_Range_Pct  \\\n",
       "Datetime                                                              \n",
       "2023-07-05 13:30:00-04:00            0.343157             -0.153593   \n",
       "2023-07-05 14:30:00-04:00            0.221651              0.091699   \n",
       "2023-07-05 15:30:00-04:00            0.257282             -0.070919   \n",
       "2023-07-06 09:30:00-04:00            1.511993              0.981240   \n",
       "2023-07-06 10:30:00-04:00            0.894597             -0.551992   \n",
       "...                                       ...                   ...   \n",
       "2025-06-25 11:30:00-04:00            0.317321             -0.193885   \n",
       "2025-06-25 12:30:00-04:00            0.315899             -0.201369   \n",
       "2025-06-25 13:30:00-04:00            0.287468             -0.026536   \n",
       "2025-06-25 14:30:00-04:00            0.305399              0.138638   \n",
       "2025-06-25 15:30:00-04:00            0.302573              0.266731   \n",
       "\n",
       "                           RSI_x_Volume  \n",
       "Datetime                                 \n",
       "2023-07-05 13:30:00-04:00  7.089970e+07  \n",
       "2023-07-05 14:30:00-04:00  6.771939e+07  \n",
       "2023-07-05 15:30:00-04:00  9.102884e+07  \n",
       "2023-07-06 09:30:00-04:00  5.061498e+08  \n",
       "2023-07-06 10:30:00-04:00  1.969658e+08  \n",
       "...                                 ...  \n",
       "2025-06-25 11:30:00-04:00  8.225291e+07  \n",
       "2025-06-25 12:30:00-04:00  7.529843e+07  \n",
       "2025-06-25 13:30:00-04:00  7.282273e+07  \n",
       "2025-06-25 14:30:00-04:00  1.101225e+08  \n",
       "2025-06-25 15:30:00-04:00  1.887588e+08  \n",
       "\n",
       "[3452 rows x 138 columns]"
      ]
     },
     "execution_count": 37,
     "metadata": {},
     "output_type": "execute_result"
    }
   ],
   "source": [
    "msft_df.replace([np.inf, -np.inf], np.nan, inplace=True)\n",
    "impute_features(msft_df)"
   ]
  },
  {
   "cell_type": "code",
   "execution_count": 38,
   "id": "5516836b",
   "metadata": {},
   "outputs": [],
   "source": [
    "X = msft_df.drop(columns=['Close'])\n",
    "y = msft_df['Close']\n",
    "\n",
    "X_scaler = MinMaxScaler(feature_range=(0, 1))\n",
    "y_scaler = MinMaxScaler(feature_range=(0, 1))\n",
    "\n",
    "X_scaled = X_scaler.fit_transform(X)\n",
    "y_scaled = y_scaler.fit_transform(y.values.reshape(-1, 1))"
   ]
  },
  {
   "cell_type": "markdown",
   "id": "a9d95bfb",
   "metadata": {},
   "source": [
    "## Sequence"
   ]
  },
  {
   "cell_type": "code",
   "execution_count": 39,
   "id": "7ad8476b",
   "metadata": {},
   "outputs": [],
   "source": [
    "# 35 hours of data for each sequence\n",
    "# This means each sequence will contain 35 hours of features to predict the next hour's price\n",
    "\n",
    "def create_sequences(X, y, window_size):\n",
    "    Xs, ys = [], []\n",
    "    for i in range(window_size, len(X), 1):\n",
    "        current_X_sequence = X[i-window_size:i]\n",
    "        current_y_value = y[i]\n",
    "\n",
    "        Xs.append(current_X_sequence)\n",
    "        ys.append(current_y_value)\n",
    "    return np.array(Xs), np.array(ys)\n",
    "    \n",
    "        \n",
    "# I am converting to 3d (for x only - y will be 2 dimensional) for my LSTM model. The shape will return the count of \n",
    "# 2d arrays in the list (# of sequences), rows of each 2d array (window size), \n",
    "# and columns of each 2d array (number of features)\n",
    "# I've added a depth dimension. Think of a spreadsheet(2d table of rows and columns),\n",
    "# and put these spreadsheets into a binder, the binder now has a depth dimension (number of spreadsheets).\n",
    "    \n",
    "window_size = 35\n",
    "X_seq, y_seq = create_sequences(X_scaled, y_scaled, window_size)"
   ]
  },
  {
   "cell_type": "code",
   "execution_count": 40,
   "id": "beb8b99c",
   "metadata": {},
   "outputs": [
    {
     "name": "stdout",
     "output_type": "stream",
     "text": [
      "(3452, 137)\n",
      "(3452, 1)\n",
      "(3417, 35, 137)\n",
      "(3417, 1)\n"
     ]
    }
   ],
   "source": [
    "# the 35 lost values are the values in the first window - \n",
    "# because they don't have preceding values to create a sequence they're lost.\n",
    "print(X_scaled.shape)\n",
    "print(y_scaled.shape)\n",
    "print(X_seq.shape)\n",
    "print(y_seq.shape)"
   ]
  },
  {
   "cell_type": "markdown",
   "id": "0bbfe587",
   "metadata": {},
   "source": [
    "## TimeSeriesSplit (Training Data)"
   ]
  },
  {
   "cell_type": "code",
   "execution_count": null,
   "id": "1d4fee00",
   "metadata": {},
   "outputs": [],
   "source": [
    "tscv = TimeSeriesSplit(n_splits=100)\n",
    "early_stopping = EarlyStopping(monitor='val_loss', patience=10)\n",
    "\n",
    "actual_values = []\n",
    "predicted_values = []\n",
    "\n",
    "for i, (train_idx, test_idx) in enumerate(tscv.split(X_seq)): \n",
    "    print(\"fold:\", i)\n",
    "    print(\"Train dates (approx):\", msft_df.index[train_idx + window_size -1][[0, -1]]) \n",
    "    print(\"Test dates (approx):\", msft_df.index[test_idx + window_size -1][[0, -1]])\n",
    "\n",
    "    X_train, X_test = X_seq[train_idx], X_seq[test_idx]\n",
    "    y_train, y_test = y_seq[train_idx], y_seq[test_idx]\n",
    "\n",
    "    model = Sequential()\n",
    "    model.add(LSTM(units=50, return_sequences=True, input_shape=(X_train.shape[1], X_train.shape[2])))\n",
    "    model.add(LSTM(units=50, return_sequences=False))\n",
    "    model.add(Dropout(0.2)) # optimizing the model\n",
    "    model.add(BatchNormalization()) # optimizing the model\n",
    "    model.add(Dense(units=1)) \n",
    "    model.compile(optimizer='adam', loss='mean_squared_error')\n",
    "    lstm_fit= model.fit(X_train, y_train, epochs=100, batch_size=25, validation_split=0.2, callbacks=[early_stopping])\n",
    "    y_pred = model.predict(X_test[:1])\n",
    "    actual_values.append(y_test[0])\n",
    "    predicted_values.append(y_pred[0][0])\n"
   ]
  },
  {
   "cell_type": "code",
   "execution_count": 51,
   "id": "1f52e388",
   "metadata": {},
   "outputs": [
    {
     "data": {
      "text/plain": [
       "array([[[0.89713594, 0.89321154, 0.89507616, ..., 0.03278912,\n",
       "         0.26737393, 0.04100668],\n",
       "        [0.89345335, 0.89441108, 0.89933868, ..., 0.01646425,\n",
       "         0.29846153, 0.03231384],\n",
       "        [0.89623573, 0.89217558, 0.88256194, ..., 0.09438685,\n",
       "         0.21440079, 0.03461188],\n",
       "        ...,\n",
       "        [0.91265679, 0.91343989, 0.91742709, ..., 0.02140904,\n",
       "         0.29703857, 0.05307589],\n",
       "        [0.91478453, 0.91327632, 0.9017432 , ..., 0.10323932,\n",
       "         0.29535011, 0.07123462],\n",
       "        [0.91685766, 0.9178836 , 0.91731786, ..., 0.04539087,\n",
       "         0.29701989, 0.03610069]]])"
      ]
     },
     "execution_count": 51,
     "metadata": {},
     "output_type": "execute_result"
    }
   ],
   "source": [
    "X_test[:1]"
   ]
  },
  {
   "cell_type": "code",
   "execution_count": 48,
   "id": "17d33e33",
   "metadata": {},
   "outputs": [
    {
     "name": "stdout",
     "output_type": "stream",
     "text": [
      "\u001b[1m2/2\u001b[0m \u001b[32m━━━━━━━━━━━━━━━━━━━━\u001b[0m\u001b[37m\u001b[0m \u001b[1m0s\u001b[0m 102ms/step - loss: 0.0016\n",
      "   Actual_vs_Predicted\n",
      "0             0.001609\n"
     ]
    }
   ],
   "source": [
    "results_df = pd.DataFrame({\n",
    "    \"Actual_vs_Predicted\": [model.evaluate(X_test, y_test)],\n",
    "})\n",
    "print(results_df)"
   ]
  },
  {
   "cell_type": "markdown",
   "id": "114f7095",
   "metadata": {},
   "source": [
    "## Performance Eval"
   ]
  },
  {
   "cell_type": "code",
   "execution_count": null,
   "id": "08b29332",
   "metadata": {},
   "outputs": [],
   "source": [
    "mae = mean_absolute_error(y_test, predicted_values)"
   ]
  },
  {
   "cell_type": "code",
   "execution_count": null,
   "id": "216ee8f6",
   "metadata": {},
   "outputs": [],
   "source": [
    "rmse = np.sqrt(mean_squared_error(y_test, predicted_values))"
   ]
  },
  {
   "cell_type": "code",
   "execution_count": null,
   "id": "234b380c",
   "metadata": {},
   "outputs": [],
   "source": [
    "mape = mean_absolute_percentage_error(y_test, predicted_values)"
   ]
  },
  {
   "cell_type": "code",
   "execution_count": null,
   "id": "d0594da4",
   "metadata": {},
   "outputs": [],
   "source": [
    "r2 = r2_score(y_test, predicted_values)"
   ]
  },
  {
   "cell_type": "code",
   "execution_count": null,
   "id": "a8643e17",
   "metadata": {},
   "outputs": [
    {
     "name": "stdout",
     "output_type": "stream",
     "text": [
      "Mean Squared Error: 0.0015568201197311282\n",
      "Mean Absolute Error:  0.022865026347151627\n",
      "Root Mean Square Error:  0.02787688690895426\n",
      "Mean Absolute Percentage Error: 0.02464321330576453\n",
      "R-squared: 0.20303920902721284\n"
     ]
    }
   ],
   "source": [
    "print(\"Mean Squared Error:\", test_loss)\n",
    "print(\"Mean Absolute Error: \", mae)\n",
    "print(\"Root Mean Square Error: \", rmse)\n",
    "print(\"Mean Absolute Percentage Error:\", mape)\n",
    "print(\"R-squared:\", r2)"
   ]
  },
  {
   "cell_type": "markdown",
   "id": "5402d429",
   "metadata": {},
   "source": [
    "### Generating Predictions"
   ]
  },
  {
   "cell_type": "code",
   "execution_count": null,
   "id": "439ef6c6",
   "metadata": {},
   "outputs": [],
   "source": [
    "# last_week_df = msft_df[-29:] # I'm using the last week of data to predict the next hour"
   ]
  },
  {
   "cell_type": "code",
   "execution_count": null,
   "id": "54f27320",
   "metadata": {},
   "outputs": [
    {
     "data": {
      "text/plain": [
       "(29, 137)"
      ]
     },
     "execution_count": 77,
     "metadata": {},
     "output_type": "execute_result"
    }
   ],
   "source": [
    "# last_week_features = last_week_df.drop(columns=['Close'])\n",
    "# last_week_features.shape"
   ]
  },
  {
   "cell_type": "code",
   "execution_count": null,
   "id": "7830c567",
   "metadata": {},
   "outputs": [],
   "source": [
    "# last_week_X_scaled = X_scaler.transform(last_week_features)"
   ]
  },
  {
   "cell_type": "code",
   "execution_count": null,
   "id": "b3328c1e",
   "metadata": {},
   "outputs": [],
   "source": [
    "# last_week_X_scaled = last_X_scaled.reshape(1, 29, -1)"
   ]
  },
  {
   "cell_type": "code",
   "execution_count": null,
   "id": "52f3c2f8",
   "metadata": {},
   "outputs": [
    {
     "name": "stdout",
     "output_type": "stream",
     "text": [
      "\u001b[1m1/1\u001b[0m \u001b[32m━━━━━━━━━━━━━━━━━━━━\u001b[0m\u001b[37m\u001b[0m \u001b[1m0s\u001b[0m 161ms/step\n"
     ]
    }
   ],
   "source": [
    "# y_pred = model.predict(last_week_X_scaled)\n",
    "# last_y_pred = y_pred[:, -1, :]"
   ]
  },
  {
   "cell_type": "code",
   "execution_count": null,
   "id": "bad32358",
   "metadata": {},
   "outputs": [
    {
     "data": {
      "text/plain": [
       "491.9395"
      ]
     },
     "execution_count": 121,
     "metadata": {},
     "output_type": "execute_result"
    }
   ],
   "source": [
    "# predicted_close = y_scaler.inverse_transform(last_y_pred)[0][0]\n",
    "# predicted_close"
   ]
  },
  {
   "cell_type": "markdown",
   "id": "8de2886e",
   "metadata": {},
   "source": [
    "<!-- ### Visualizing Predictions -->"
   ]
  },
  {
   "cell_type": "code",
   "execution_count": null,
   "id": "2a239881",
   "metadata": {},
   "outputs": [
    {
     "data": {
      "text/plain": [
       "Timestamp('2025-06-25 12:30:00-0400', tz='America/New_York')"
      ]
     },
     "execution_count": 99,
     "metadata": {},
     "output_type": "execute_result"
    }
   ],
   "source": [
    "# most_recent_date = last_week_df.index[-1]\n",
    "# most_recent_date"
   ]
  },
  {
   "cell_type": "code",
   "execution_count": null,
   "id": "5b4e7eb3",
   "metadata": {},
   "outputs": [
    {
     "data": {
      "text/plain": [
       "Timestamp('2025-06-25 13:30:00-0400', tz='America/New_York')"
      ]
     },
     "execution_count": 104,
     "metadata": {},
     "output_type": "execute_result"
    }
   ],
   "source": [
    "# next_hour = most_recent_date + pd.Timedelta(hours=1)\n",
    "# next_hour"
   ]
  },
  {
   "cell_type": "code",
   "execution_count": null,
   "id": "e55ece41",
   "metadata": {},
   "outputs": [
    {
     "data": {
      "text/plain": [
       "DatetimeIndex(['2025-06-25 13:30:00-04:00'], dtype='datetime64[ns, America/New_York]', freq='h')"
      ]
     },
     "execution_count": 107,
     "metadata": {},
     "output_type": "execute_result"
    }
   ],
   "source": [
    "# prediction_dates = pd.date_range(start=next_hour, periods=1, freq='h')\n",
    "# prediction_dates"
   ]
  },
  {
   "cell_type": "code",
   "execution_count": null,
   "id": "dae51585",
   "metadata": {},
   "outputs": [
    {
     "data": {
      "text/html": [
       "<div>\n",
       "<style scoped>\n",
       "    .dataframe tbody tr th:only-of-type {\n",
       "        vertical-align: middle;\n",
       "    }\n",
       "\n",
       "    .dataframe tbody tr th {\n",
       "        vertical-align: top;\n",
       "    }\n",
       "\n",
       "    .dataframe thead th {\n",
       "        text-align: right;\n",
       "    }\n",
       "</style>\n",
       "<table border=\"1\" class=\"dataframe\">\n",
       "  <thead>\n",
       "    <tr style=\"text-align: right;\">\n",
       "      <th></th>\n",
       "      <th>Close</th>\n",
       "    </tr>\n",
       "  </thead>\n",
       "  <tbody>\n",
       "    <tr>\n",
       "      <th>2025-06-25 13:30:00-04:00</th>\n",
       "      <td>491.939514</td>\n",
       "    </tr>\n",
       "  </tbody>\n",
       "</table>\n",
       "</div>"
      ],
      "text/plain": [
       "                                Close\n",
       "2025-06-25 13:30:00-04:00  491.939514"
      ]
     },
     "execution_count": 120,
     "metadata": {},
     "output_type": "execute_result"
    }
   ],
   "source": [
    "# prediction_df = pd.DataFrame(index=prediction_dates, data=predicted_close, columns=['Close'])\n",
    "# predicted_close"
   ]
  },
  {
   "cell_type": "code",
   "execution_count": null,
   "id": "79dd43ab",
   "metadata": {},
   "outputs": [
    {
     "data": {
      "text/plain": [
       "Open                         491.630005\n",
       "High                         491.659912\n",
       "Low                          490.109985\n",
       "Close                        490.329987\n",
       "Volume                           753982\n",
       "                             ...       \n",
       "High_Low_Range                 1.549927\n",
       "Open_Close_Range              -1.300018\n",
       "High_Low_Range_Pct             0.316099\n",
       "Open_Close_Range_Pct           -0.26443\n",
       "RSI_x_Volume            47464966.868817\n",
       "Name: 2025-06-25 12:30:00-04:00, Length: 138, dtype: object"
      ]
     },
     "execution_count": 122,
     "metadata": {},
     "output_type": "execute_result"
    }
   ],
   "source": [
    "# last_real = last_week_df.iloc[-1]\n",
    "# last_real"
   ]
  },
  {
   "cell_type": "code",
   "execution_count": null,
   "id": "3d5193c3",
   "metadata": {},
   "outputs": [
    {
     "data": {
      "text/html": [
       "<div>\n",
       "<style scoped>\n",
       "    .dataframe tbody tr th:only-of-type {\n",
       "        vertical-align: middle;\n",
       "    }\n",
       "\n",
       "    .dataframe tbody tr th {\n",
       "        vertical-align: top;\n",
       "    }\n",
       "\n",
       "    .dataframe thead th {\n",
       "        text-align: right;\n",
       "    }\n",
       "</style>\n",
       "<table border=\"1\" class=\"dataframe\">\n",
       "  <thead>\n",
       "    <tr style=\"text-align: right;\">\n",
       "      <th></th>\n",
       "      <th>Open</th>\n",
       "      <th>High</th>\n",
       "      <th>Low</th>\n",
       "      <th>Close</th>\n",
       "      <th>Volume</th>\n",
       "    </tr>\n",
       "  </thead>\n",
       "  <tbody>\n",
       "    <tr>\n",
       "      <th>2025-06-25 13:30:00-04:00</th>\n",
       "      <td>490.329987</td>\n",
       "      <td>492.439514</td>\n",
       "      <td>489.829987</td>\n",
       "      <td>491.939514</td>\n",
       "      <td>0</td>\n",
       "    </tr>\n",
       "  </tbody>\n",
       "</table>\n",
       "</div>"
      ],
      "text/plain": [
       "                                 Open        High         Low       Close  \\\n",
       "2025-06-25 13:30:00-04:00  490.329987  492.439514  489.829987  491.939514   \n",
       "\n",
       "                           Volume  \n",
       "2025-06-25 13:30:00-04:00       0  "
      ]
     },
     "execution_count": 124,
     "metadata": {},
     "output_type": "execute_result"
    }
   ],
   "source": [
    "# last_real = last_week_df.iloc[-1]\n",
    "\n",
    "# # Simulate the predicted candlestick\n",
    "# next_hour = last_week_df.index[-1] + pd.Timedelta(hours=1)\n",
    "# predicted_candle = pd.DataFrame({\n",
    "#     'Open': [last_real['Close']],\n",
    "#     'High': [max(last_real['Close'], predicted_close) + 0.5],\n",
    "#     'Low': [min(last_real['Close'], predicted_close) - 0.5],\n",
    "#     'Close': [predicted_close],\n",
    "#     'Volume': [0]  # you can leave it 0 if unknown\n",
    "# }, index=[next_hour])\n",
    "\n",
    "# predicted_candle"
   ]
  },
  {
   "cell_type": "code",
   "execution_count": null,
   "id": "af7b7d8d",
   "metadata": {},
   "outputs": [
    {
     "data": {
      "text/html": [
       "<div>\n",
       "<style scoped>\n",
       "    .dataframe tbody tr th:only-of-type {\n",
       "        vertical-align: middle;\n",
       "    }\n",
       "\n",
       "    .dataframe tbody tr th {\n",
       "        vertical-align: top;\n",
       "    }\n",
       "\n",
       "    .dataframe thead th {\n",
       "        text-align: right;\n",
       "    }\n",
       "</style>\n",
       "<table border=\"1\" class=\"dataframe\">\n",
       "  <thead>\n",
       "    <tr style=\"text-align: right;\">\n",
       "      <th></th>\n",
       "      <th>Open</th>\n",
       "      <th>High</th>\n",
       "      <th>Low</th>\n",
       "      <th>Close</th>\n",
       "      <th>Volume</th>\n",
       "      <th>Dividends</th>\n",
       "      <th>Stock Splits</th>\n",
       "      <th>Open_price_lag_1H</th>\n",
       "      <th>Open_price_lag_2H</th>\n",
       "      <th>Open_price_lag_3H</th>\n",
       "      <th>...</th>\n",
       "      <th>Volume_SMA_28H</th>\n",
       "      <th>Volume_SMA_35H</th>\n",
       "      <th>Volume_Change</th>\n",
       "      <th>OBV</th>\n",
       "      <th>OBV_EMA_9H</th>\n",
       "      <th>High_Low_Range</th>\n",
       "      <th>Open_Close_Range</th>\n",
       "      <th>High_Low_Range_Pct</th>\n",
       "      <th>Open_Close_Range_Pct</th>\n",
       "      <th>RSI_x_Volume</th>\n",
       "    </tr>\n",
       "  </thead>\n",
       "  <tbody>\n",
       "    <tr>\n",
       "      <th>2025-06-18 12:30:00-04:00</th>\n",
       "      <td>478.970001</td>\n",
       "      <td>479.799988</td>\n",
       "      <td>478.429993</td>\n",
       "      <td>478.429993</td>\n",
       "      <td>816997</td>\n",
       "      <td>0.0</td>\n",
       "      <td>0.0</td>\n",
       "      <td>479.220001</td>\n",
       "      <td>478.380005</td>\n",
       "      <td>478.000000</td>\n",
       "      <td>...</td>\n",
       "      <td>1.681876e+06</td>\n",
       "      <td>1.727748e+06</td>\n",
       "      <td>-0.171931</td>\n",
       "      <td>238760534.0</td>\n",
       "      <td>2.363613e+08</td>\n",
       "      <td>1.369995</td>\n",
       "      <td>-0.540009</td>\n",
       "      <td>0.286352</td>\n",
       "      <td>-0.112744</td>\n",
       "      <td>4.519249e+07</td>\n",
       "    </tr>\n",
       "    <tr>\n",
       "      <th>2025-06-18 13:30:00-04:00</th>\n",
       "      <td>478.470001</td>\n",
       "      <td>480.339996</td>\n",
       "      <td>477.980011</td>\n",
       "      <td>479.315002</td>\n",
       "      <td>1352118</td>\n",
       "      <td>0.0</td>\n",
       "      <td>0.0</td>\n",
       "      <td>478.970001</td>\n",
       "      <td>479.220001</td>\n",
       "      <td>478.380005</td>\n",
       "      <td>...</td>\n",
       "      <td>1.676877e+06</td>\n",
       "      <td>1.728247e+06</td>\n",
       "      <td>0.654985</td>\n",
       "      <td>240112652.0</td>\n",
       "      <td>2.371115e+08</td>\n",
       "      <td>2.359985</td>\n",
       "      <td>0.845001</td>\n",
       "      <td>0.492366</td>\n",
       "      <td>0.176605</td>\n",
       "      <td>7.922364e+07</td>\n",
       "    </tr>\n",
       "    <tr>\n",
       "      <th>2025-06-18 14:30:00-04:00</th>\n",
       "      <td>479.195007</td>\n",
       "      <td>480.670013</td>\n",
       "      <td>477.850006</td>\n",
       "      <td>478.540009</td>\n",
       "      <td>1689336</td>\n",
       "      <td>0.0</td>\n",
       "      <td>0.0</td>\n",
       "      <td>478.470001</td>\n",
       "      <td>478.970001</td>\n",
       "      <td>479.220001</td>\n",
       "      <td>...</td>\n",
       "      <td>1.671258e+06</td>\n",
       "      <td>1.730464e+06</td>\n",
       "      <td>0.249400</td>\n",
       "      <td>238423316.0</td>\n",
       "      <td>2.373739e+08</td>\n",
       "      <td>2.820007</td>\n",
       "      <td>-0.654999</td>\n",
       "      <td>0.589294</td>\n",
       "      <td>-0.136687</td>\n",
       "      <td>9.257947e+07</td>\n",
       "    </tr>\n",
       "    <tr>\n",
       "      <th>2025-06-18 15:30:00-04:00</th>\n",
       "      <td>478.540009</td>\n",
       "      <td>481.000000</td>\n",
       "      <td>478.369995</td>\n",
       "      <td>480.239990</td>\n",
       "      <td>2982104</td>\n",
       "      <td>0.0</td>\n",
       "      <td>0.0</td>\n",
       "      <td>479.195007</td>\n",
       "      <td>478.470001</td>\n",
       "      <td>478.970001</td>\n",
       "      <td>...</td>\n",
       "      <td>1.695994e+06</td>\n",
       "      <td>1.768963e+06</td>\n",
       "      <td>0.765252</td>\n",
       "      <td>241405420.0</td>\n",
       "      <td>2.381802e+08</td>\n",
       "      <td>2.630005</td>\n",
       "      <td>1.699982</td>\n",
       "      <td>0.547644</td>\n",
       "      <td>0.355243</td>\n",
       "      <td>1.812914e+08</td>\n",
       "    </tr>\n",
       "    <tr>\n",
       "      <th>2025-06-20 09:30:00-04:00</th>\n",
       "      <td>482.100006</td>\n",
       "      <td>483.440002</td>\n",
       "      <td>479.140015</td>\n",
       "      <td>479.600006</td>\n",
       "      <td>9570529</td>\n",
       "      <td>0.0</td>\n",
       "      <td>0.0</td>\n",
       "      <td>478.540009</td>\n",
       "      <td>479.195007</td>\n",
       "      <td>478.470001</td>\n",
       "      <td>...</td>\n",
       "      <td>1.904258e+06</td>\n",
       "      <td>1.941973e+06</td>\n",
       "      <td>2.209321</td>\n",
       "      <td>231834891.0</td>\n",
       "      <td>2.369111e+08</td>\n",
       "      <td>4.299988</td>\n",
       "      <td>-2.500000</td>\n",
       "      <td>0.896578</td>\n",
       "      <td>-0.518565</td>\n",
       "      <td>5.521509e+08</td>\n",
       "    </tr>\n",
       "    <tr>\n",
       "      <th>2025-06-20 10:30:00-04:00</th>\n",
       "      <td>479.619995</td>\n",
       "      <td>480.730011</td>\n",
       "      <td>478.899994</td>\n",
       "      <td>479.869995</td>\n",
       "      <td>2405635</td>\n",
       "      <td>0.0</td>\n",
       "      <td>0.0</td>\n",
       "      <td>482.100006</td>\n",
       "      <td>478.540009</td>\n",
       "      <td>479.195007</td>\n",
       "      <td>...</td>\n",
       "      <td>1.928328e+06</td>\n",
       "      <td>1.956339e+06</td>\n",
       "      <td>-0.748641</td>\n",
       "      <td>234240526.0</td>\n",
       "      <td>2.363770e+08</td>\n",
       "      <td>1.830017</td>\n",
       "      <td>0.250000</td>\n",
       "      <td>0.381357</td>\n",
       "      <td>0.052125</td>\n",
       "      <td>1.410926e+08</td>\n",
       "    </tr>\n",
       "    <tr>\n",
       "      <th>2025-06-20 11:30:00-04:00</th>\n",
       "      <td>479.890015</td>\n",
       "      <td>481.010010</td>\n",
       "      <td>479.390015</td>\n",
       "      <td>479.760010</td>\n",
       "      <td>2377744</td>\n",
       "      <td>0.0</td>\n",
       "      <td>0.0</td>\n",
       "      <td>479.619995</td>\n",
       "      <td>482.100006</td>\n",
       "      <td>478.540009</td>\n",
       "      <td>...</td>\n",
       "      <td>1.967678e+06</td>\n",
       "      <td>1.981186e+06</td>\n",
       "      <td>-0.011594</td>\n",
       "      <td>231862782.0</td>\n",
       "      <td>2.354742e+08</td>\n",
       "      <td>1.619995</td>\n",
       "      <td>-0.130005</td>\n",
       "      <td>0.337668</td>\n",
       "      <td>-0.027091</td>\n",
       "      <td>1.380850e+08</td>\n",
       "    </tr>\n",
       "    <tr>\n",
       "      <th>2025-06-20 12:30:00-04:00</th>\n",
       "      <td>479.700012</td>\n",
       "      <td>481.359985</td>\n",
       "      <td>478.799988</td>\n",
       "      <td>478.859985</td>\n",
       "      <td>1642530</td>\n",
       "      <td>0.0</td>\n",
       "      <td>0.0</td>\n",
       "      <td>479.890015</td>\n",
       "      <td>479.619995</td>\n",
       "      <td>482.100006</td>\n",
       "      <td>...</td>\n",
       "      <td>1.986161e+06</td>\n",
       "      <td>1.974644e+06</td>\n",
       "      <td>-0.309207</td>\n",
       "      <td>230220252.0</td>\n",
       "      <td>2.344234e+08</td>\n",
       "      <td>2.559998</td>\n",
       "      <td>-0.840027</td>\n",
       "      <td>0.534603</td>\n",
       "      <td>-0.175115</td>\n",
       "      <td>8.777900e+07</td>\n",
       "    </tr>\n",
       "    <tr>\n",
       "      <th>2025-06-20 13:30:00-04:00</th>\n",
       "      <td>478.804993</td>\n",
       "      <td>479.189911</td>\n",
       "      <td>478.119995</td>\n",
       "      <td>478.734985</td>\n",
       "      <td>1722341</td>\n",
       "      <td>0.0</td>\n",
       "      <td>0.0</td>\n",
       "      <td>479.700012</td>\n",
       "      <td>479.890015</td>\n",
       "      <td>479.619995</td>\n",
       "      <td>...</td>\n",
       "      <td>2.000450e+06</td>\n",
       "      <td>1.981222e+06</td>\n",
       "      <td>0.048590</td>\n",
       "      <td>228497911.0</td>\n",
       "      <td>2.332383e+08</td>\n",
       "      <td>1.069916</td>\n",
       "      <td>-0.070007</td>\n",
       "      <td>0.223488</td>\n",
       "      <td>-0.014621</td>\n",
       "      <td>9.095896e+07</td>\n",
       "    </tr>\n",
       "    <tr>\n",
       "      <th>2025-06-20 14:30:00-04:00</th>\n",
       "      <td>478.795013</td>\n",
       "      <td>478.940002</td>\n",
       "      <td>477.149994</td>\n",
       "      <td>477.350006</td>\n",
       "      <td>1317608</td>\n",
       "      <td>0.0</td>\n",
       "      <td>0.0</td>\n",
       "      <td>478.804993</td>\n",
       "      <td>479.700012</td>\n",
       "      <td>479.890015</td>\n",
       "      <td>...</td>\n",
       "      <td>1.993023e+06</td>\n",
       "      <td>1.966106e+06</td>\n",
       "      <td>-0.234990</td>\n",
       "      <td>227180303.0</td>\n",
       "      <td>2.320267e+08</td>\n",
       "      <td>1.790009</td>\n",
       "      <td>-1.445007</td>\n",
       "      <td>0.374989</td>\n",
       "      <td>-0.301801</td>\n",
       "      <td>6.100233e+07</td>\n",
       "    </tr>\n",
       "    <tr>\n",
       "      <th>2025-06-20 15:30:00-04:00</th>\n",
       "      <td>477.390015</td>\n",
       "      <td>478.769989</td>\n",
       "      <td>476.869995</td>\n",
       "      <td>477.227509</td>\n",
       "      <td>2905206</td>\n",
       "      <td>0.0</td>\n",
       "      <td>0.0</td>\n",
       "      <td>478.795013</td>\n",
       "      <td>478.804993</td>\n",
       "      <td>479.700012</td>\n",
       "      <td>...</td>\n",
       "      <td>2.001186e+06</td>\n",
       "      <td>1.983698e+06</td>\n",
       "      <td>1.204909</td>\n",
       "      <td>224275097.0</td>\n",
       "      <td>2.304764e+08</td>\n",
       "      <td>1.899994</td>\n",
       "      <td>-0.162506</td>\n",
       "      <td>0.398132</td>\n",
       "      <td>-0.034041</td>\n",
       "      <td>1.329428e+08</td>\n",
       "    </tr>\n",
       "    <tr>\n",
       "      <th>2025-06-23 09:30:00-04:00</th>\n",
       "      <td>474.859985</td>\n",
       "      <td>476.809998</td>\n",
       "      <td>472.510010</td>\n",
       "      <td>475.649994</td>\n",
       "      <td>3994341</td>\n",
       "      <td>0.0</td>\n",
       "      <td>0.0</td>\n",
       "      <td>477.390015</td>\n",
       "      <td>478.795013</td>\n",
       "      <td>478.804993</td>\n",
       "      <td>...</td>\n",
       "      <td>1.996726e+06</td>\n",
       "      <td>1.990989e+06</td>\n",
       "      <td>0.374891</td>\n",
       "      <td>220280756.0</td>\n",
       "      <td>2.284373e+08</td>\n",
       "      <td>4.299988</td>\n",
       "      <td>0.790009</td>\n",
       "      <td>0.904024</td>\n",
       "      <td>0.166367</td>\n",
       "      <td>1.574305e+08</td>\n",
       "    </tr>\n",
       "    <tr>\n",
       "      <th>2025-06-23 10:30:00-04:00</th>\n",
       "      <td>475.649994</td>\n",
       "      <td>479.540009</td>\n",
       "      <td>475.269989</td>\n",
       "      <td>478.984985</td>\n",
       "      <td>2555313</td>\n",
       "      <td>0.0</td>\n",
       "      <td>0.0</td>\n",
       "      <td>474.859985</td>\n",
       "      <td>477.390015</td>\n",
       "      <td>478.795013</td>\n",
       "      <td>...</td>\n",
       "      <td>2.031669e+06</td>\n",
       "      <td>2.014522e+06</td>\n",
       "      <td>-0.360267</td>\n",
       "      <td>222836069.0</td>\n",
       "      <td>2.273170e+08</td>\n",
       "      <td>4.270020</td>\n",
       "      <td>3.334991</td>\n",
       "      <td>0.891473</td>\n",
       "      <td>0.701144</td>\n",
       "      <td>1.378683e+08</td>\n",
       "    </tr>\n",
       "    <tr>\n",
       "      <th>2025-06-23 11:30:00-04:00</th>\n",
       "      <td>478.994995</td>\n",
       "      <td>481.579987</td>\n",
       "      <td>478.940094</td>\n",
       "      <td>480.619995</td>\n",
       "      <td>2511957</td>\n",
       "      <td>0.0</td>\n",
       "      <td>0.0</td>\n",
       "      <td>475.649994</td>\n",
       "      <td>474.859985</td>\n",
       "      <td>477.390015</td>\n",
       "      <td>...</td>\n",
       "      <td>2.079996e+06</td>\n",
       "      <td>2.049837e+06</td>\n",
       "      <td>-0.016967</td>\n",
       "      <td>225348026.0</td>\n",
       "      <td>2.269232e+08</td>\n",
       "      <td>2.639893</td>\n",
       "      <td>1.625000</td>\n",
       "      <td>0.549268</td>\n",
       "      <td>0.339252</td>\n",
       "      <td>1.485367e+08</td>\n",
       "    </tr>\n",
       "    <tr>\n",
       "      <th>2025-06-23 12:30:00-04:00</th>\n",
       "      <td>480.600006</td>\n",
       "      <td>486.320007</td>\n",
       "      <td>478.700012</td>\n",
       "      <td>485.904999</td>\n",
       "      <td>3477553</td>\n",
       "      <td>0.0</td>\n",
       "      <td>0.0</td>\n",
       "      <td>478.994995</td>\n",
       "      <td>475.649994</td>\n",
       "      <td>474.859985</td>\n",
       "      <td>...</td>\n",
       "      <td>2.176890e+06</td>\n",
       "      <td>2.117052e+06</td>\n",
       "      <td>0.384400</td>\n",
       "      <td>228825579.0</td>\n",
       "      <td>2.273037e+08</td>\n",
       "      <td>7.619995</td>\n",
       "      <td>5.304993</td>\n",
       "      <td>1.568207</td>\n",
       "      <td>1.103827</td>\n",
       "      <td>2.456182e+08</td>\n",
       "    </tr>\n",
       "    <tr>\n",
       "      <th>2025-06-23 13:30:00-04:00</th>\n",
       "      <td>486.035004</td>\n",
       "      <td>487.750000</td>\n",
       "      <td>485.794006</td>\n",
       "      <td>486.769989</td>\n",
       "      <td>2640026</td>\n",
       "      <td>0.0</td>\n",
       "      <td>0.0</td>\n",
       "      <td>480.600006</td>\n",
       "      <td>478.994995</td>\n",
       "      <td>475.649994</td>\n",
       "      <td>...</td>\n",
       "      <td>2.238592e+06</td>\n",
       "      <td>2.154703e+06</td>\n",
       "      <td>-0.240838</td>\n",
       "      <td>231465605.0</td>\n",
       "      <td>2.281361e+08</td>\n",
       "      <td>1.955994</td>\n",
       "      <td>0.734985</td>\n",
       "      <td>0.401831</td>\n",
       "      <td>0.151221</td>\n",
       "      <td>1.901273e+08</td>\n",
       "    </tr>\n",
       "    <tr>\n",
       "      <th>2025-06-23 14:30:00-04:00</th>\n",
       "      <td>486.809998</td>\n",
       "      <td>487.489990</td>\n",
       "      <td>485.161499</td>\n",
       "      <td>486.470001</td>\n",
       "      <td>1904017</td>\n",
       "      <td>0.0</td>\n",
       "      <td>0.0</td>\n",
       "      <td>486.035004</td>\n",
       "      <td>480.600006</td>\n",
       "      <td>478.994995</td>\n",
       "      <td>...</td>\n",
       "      <td>2.263967e+06</td>\n",
       "      <td>2.165516e+06</td>\n",
       "      <td>-0.278789</td>\n",
       "      <td>229561588.0</td>\n",
       "      <td>2.284212e+08</td>\n",
       "      <td>2.328491</td>\n",
       "      <td>-0.339996</td>\n",
       "      <td>0.478651</td>\n",
       "      <td>-0.069842</td>\n",
       "      <td>1.347444e+08</td>\n",
       "    </tr>\n",
       "    <tr>\n",
       "      <th>2025-06-23 15:30:00-04:00</th>\n",
       "      <td>486.468506</td>\n",
       "      <td>487.099915</td>\n",
       "      <td>485.540009</td>\n",
       "      <td>485.920013</td>\n",
       "      <td>2320956</td>\n",
       "      <td>0.0</td>\n",
       "      <td>0.0</td>\n",
       "      <td>486.809998</td>\n",
       "      <td>486.035004</td>\n",
       "      <td>480.600006</td>\n",
       "      <td>...</td>\n",
       "      <td>2.273105e+06</td>\n",
       "      <td>2.155353e+06</td>\n",
       "      <td>0.218979</td>\n",
       "      <td>227240632.0</td>\n",
       "      <td>2.281851e+08</td>\n",
       "      <td>1.559906</td>\n",
       "      <td>-0.548492</td>\n",
       "      <td>0.321021</td>\n",
       "      <td>-0.112750</td>\n",
       "      <td>1.588135e+08</td>\n",
       "    </tr>\n",
       "    <tr>\n",
       "      <th>2025-06-24 09:30:00-04:00</th>\n",
       "      <td>488.630005</td>\n",
       "      <td>489.660004</td>\n",
       "      <td>486.795013</td>\n",
       "      <td>487.545013</td>\n",
       "      <td>3369979</td>\n",
       "      <td>0.0</td>\n",
       "      <td>0.0</td>\n",
       "      <td>486.468506</td>\n",
       "      <td>486.809998</td>\n",
       "      <td>486.035004</td>\n",
       "      <td>...</td>\n",
       "      <td>2.295067e+06</td>\n",
       "      <td>2.133947e+06</td>\n",
       "      <td>0.451979</td>\n",
       "      <td>230610611.0</td>\n",
       "      <td>2.286702e+08</td>\n",
       "      <td>2.864990</td>\n",
       "      <td>-1.084991</td>\n",
       "      <td>0.587636</td>\n",
       "      <td>-0.222048</td>\n",
       "      <td>2.407331e+08</td>\n",
       "    </tr>\n",
       "    <tr>\n",
       "      <th>2025-06-24 10:30:00-04:00</th>\n",
       "      <td>487.570007</td>\n",
       "      <td>490.549988</td>\n",
       "      <td>487.459991</td>\n",
       "      <td>490.447510</td>\n",
       "      <td>2911520</td>\n",
       "      <td>0.0</td>\n",
       "      <td>0.0</td>\n",
       "      <td>488.630005</td>\n",
       "      <td>486.468506</td>\n",
       "      <td>486.809998</td>\n",
       "      <td>...</td>\n",
       "      <td>2.357189e+06</td>\n",
       "      <td>2.172078e+06</td>\n",
       "      <td>-0.136042</td>\n",
       "      <td>233522131.0</td>\n",
       "      <td>2.296406e+08</td>\n",
       "      <td>3.089996</td>\n",
       "      <td>2.877502</td>\n",
       "      <td>0.630036</td>\n",
       "      <td>0.590172</td>\n",
       "      <td>2.208663e+08</td>\n",
       "    </tr>\n",
       "    <tr>\n",
       "      <th>2025-06-24 11:30:00-04:00</th>\n",
       "      <td>490.519989</td>\n",
       "      <td>491.489990</td>\n",
       "      <td>489.940002</td>\n",
       "      <td>490.700012</td>\n",
       "      <td>2263085</td>\n",
       "      <td>0.0</td>\n",
       "      <td>0.0</td>\n",
       "      <td>487.570007</td>\n",
       "      <td>488.630005</td>\n",
       "      <td>486.468506</td>\n",
       "      <td>...</td>\n",
       "      <td>2.395640e+06</td>\n",
       "      <td>2.203630e+06</td>\n",
       "      <td>-0.222714</td>\n",
       "      <td>235785216.0</td>\n",
       "      <td>2.308695e+08</td>\n",
       "      <td>1.549988</td>\n",
       "      <td>0.180023</td>\n",
       "      <td>0.315873</td>\n",
       "      <td>0.036700</td>\n",
       "      <td>1.724579e+08</td>\n",
       "    </tr>\n",
       "    <tr>\n",
       "      <th>2025-06-24 12:30:00-04:00</th>\n",
       "      <td>490.660004</td>\n",
       "      <td>491.410004</td>\n",
       "      <td>489.940002</td>\n",
       "      <td>490.470001</td>\n",
       "      <td>2121710</td>\n",
       "      <td>0.0</td>\n",
       "      <td>0.0</td>\n",
       "      <td>490.519989</td>\n",
       "      <td>487.570007</td>\n",
       "      <td>488.630005</td>\n",
       "      <td>...</td>\n",
       "      <td>2.431960e+06</td>\n",
       "      <td>2.242406e+06</td>\n",
       "      <td>-0.062470</td>\n",
       "      <td>233663506.0</td>\n",
       "      <td>2.314283e+08</td>\n",
       "      <td>1.470001</td>\n",
       "      <td>-0.190002</td>\n",
       "      <td>0.299713</td>\n",
       "      <td>-0.038724</td>\n",
       "      <td>1.594469e+08</td>\n",
       "    </tr>\n",
       "    <tr>\n",
       "      <th>2025-06-24 13:30:00-04:00</th>\n",
       "      <td>490.450012</td>\n",
       "      <td>491.848999</td>\n",
       "      <td>490.420013</td>\n",
       "      <td>491.239990</td>\n",
       "      <td>2371837</td>\n",
       "      <td>0.0</td>\n",
       "      <td>0.0</td>\n",
       "      <td>490.660004</td>\n",
       "      <td>490.519989</td>\n",
       "      <td>487.570007</td>\n",
       "      <td>...</td>\n",
       "      <td>2.473065e+06</td>\n",
       "      <td>2.284105e+06</td>\n",
       "      <td>0.117889</td>\n",
       "      <td>236035343.0</td>\n",
       "      <td>2.323497e+08</td>\n",
       "      <td>1.428986</td>\n",
       "      <td>0.789978</td>\n",
       "      <td>0.290894</td>\n",
       "      <td>0.161072</td>\n",
       "      <td>1.810448e+08</td>\n",
       "    </tr>\n",
       "    <tr>\n",
       "      <th>2025-06-24 14:30:00-04:00</th>\n",
       "      <td>491.209991</td>\n",
       "      <td>491.209991</td>\n",
       "      <td>490.329987</td>\n",
       "      <td>490.839996</td>\n",
       "      <td>1958058</td>\n",
       "      <td>0.0</td>\n",
       "      <td>0.0</td>\n",
       "      <td>490.450012</td>\n",
       "      <td>490.660004</td>\n",
       "      <td>490.519989</td>\n",
       "      <td>...</td>\n",
       "      <td>2.505509e+06</td>\n",
       "      <td>2.305949e+06</td>\n",
       "      <td>-0.174455</td>\n",
       "      <td>234077285.0</td>\n",
       "      <td>2.326952e+08</td>\n",
       "      <td>0.880005</td>\n",
       "      <td>-0.369995</td>\n",
       "      <td>0.179285</td>\n",
       "      <td>-0.075323</td>\n",
       "      <td>1.455902e+08</td>\n",
       "    </tr>\n",
       "    <tr>\n",
       "      <th>2025-06-24 15:30:00-04:00</th>\n",
       "      <td>490.820007</td>\n",
       "      <td>491.070007</td>\n",
       "      <td>489.510010</td>\n",
       "      <td>490.119995</td>\n",
       "      <td>2808087</td>\n",
       "      <td>0.0</td>\n",
       "      <td>0.0</td>\n",
       "      <td>491.209991</td>\n",
       "      <td>490.450012</td>\n",
       "      <td>490.660004</td>\n",
       "      <td>...</td>\n",
       "      <td>2.533730e+06</td>\n",
       "      <td>2.327178e+06</td>\n",
       "      <td>0.434118</td>\n",
       "      <td>231269198.0</td>\n",
       "      <td>2.324100e+08</td>\n",
       "      <td>1.559998</td>\n",
       "      <td>-0.700012</td>\n",
       "      <td>0.318289</td>\n",
       "      <td>-0.142621</td>\n",
       "      <td>1.988133e+08</td>\n",
       "    </tr>\n",
       "    <tr>\n",
       "      <th>2025-06-25 09:30:00-04:00</th>\n",
       "      <td>491.609985</td>\n",
       "      <td>494.555603</td>\n",
       "      <td>491.609985</td>\n",
       "      <td>493.535004</td>\n",
       "      <td>3820122</td>\n",
       "      <td>0.0</td>\n",
       "      <td>0.0</td>\n",
       "      <td>490.820007</td>\n",
       "      <td>491.209991</td>\n",
       "      <td>490.450012</td>\n",
       "      <td>...</td>\n",
       "      <td>2.575299e+06</td>\n",
       "      <td>2.357609e+06</td>\n",
       "      <td>0.360400</td>\n",
       "      <td>235089320.0</td>\n",
       "      <td>2.329459e+08</td>\n",
       "      <td>2.945618</td>\n",
       "      <td>1.925018</td>\n",
       "      <td>0.596841</td>\n",
       "      <td>0.391574</td>\n",
       "      <td>2.923558e+08</td>\n",
       "    </tr>\n",
       "    <tr>\n",
       "      <th>2025-06-25 10:30:00-04:00</th>\n",
       "      <td>493.619995</td>\n",
       "      <td>493.959991</td>\n",
       "      <td>492.440002</td>\n",
       "      <td>492.589996</td>\n",
       "      <td>1648889</td>\n",
       "      <td>0.0</td>\n",
       "      <td>0.0</td>\n",
       "      <td>491.609985</td>\n",
       "      <td>490.820007</td>\n",
       "      <td>491.209991</td>\n",
       "      <td>...</td>\n",
       "      <td>2.587365e+06</td>\n",
       "      <td>2.371231e+06</td>\n",
       "      <td>-0.568367</td>\n",
       "      <td>233440431.0</td>\n",
       "      <td>2.330448e+08</td>\n",
       "      <td>1.519989</td>\n",
       "      <td>-1.029999</td>\n",
       "      <td>0.308571</td>\n",
       "      <td>-0.208662</td>\n",
       "      <td>1.192182e+08</td>\n",
       "    </tr>\n",
       "    <tr>\n",
       "      <th>2025-06-25 11:30:00-04:00</th>\n",
       "      <td>492.570007</td>\n",
       "      <td>492.709991</td>\n",
       "      <td>491.149994</td>\n",
       "      <td>491.614990</td>\n",
       "      <td>1207466</td>\n",
       "      <td>0.0</td>\n",
       "      <td>0.0</td>\n",
       "      <td>493.619995</td>\n",
       "      <td>491.609985</td>\n",
       "      <td>490.820007</td>\n",
       "      <td>...</td>\n",
       "      <td>2.595252e+06</td>\n",
       "      <td>2.371831e+06</td>\n",
       "      <td>-0.267709</td>\n",
       "      <td>232232965.0</td>\n",
       "      <td>2.328824e+08</td>\n",
       "      <td>1.559998</td>\n",
       "      <td>-0.955017</td>\n",
       "      <td>0.317321</td>\n",
       "      <td>-0.193885</td>\n",
       "      <td>8.225291e+07</td>\n",
       "    </tr>\n",
       "    <tr>\n",
       "      <th>2025-06-25 12:30:00-04:00</th>\n",
       "      <td>491.630005</td>\n",
       "      <td>491.659912</td>\n",
       "      <td>490.109985</td>\n",
       "      <td>490.329987</td>\n",
       "      <td>753982</td>\n",
       "      <td>0.0</td>\n",
       "      <td>0.0</td>\n",
       "      <td>492.570007</td>\n",
       "      <td>493.619995</td>\n",
       "      <td>491.609985</td>\n",
       "      <td>...</td>\n",
       "      <td>2.593002e+06</td>\n",
       "      <td>2.361809e+06</td>\n",
       "      <td>-0.375567</td>\n",
       "      <td>231478983.0</td>\n",
       "      <td>2.326017e+08</td>\n",
       "      <td>1.549927</td>\n",
       "      <td>-1.300018</td>\n",
       "      <td>0.316099</td>\n",
       "      <td>-0.264430</td>\n",
       "      <td>4.746497e+07</td>\n",
       "    </tr>\n",
       "    <tr>\n",
       "      <th>2025-06-25 13:30:00-04:00</th>\n",
       "      <td>490.329987</td>\n",
       "      <td>492.439514</td>\n",
       "      <td>489.829987</td>\n",
       "      <td>491.939514</td>\n",
       "      <td>0</td>\n",
       "      <td>NaN</td>\n",
       "      <td>NaN</td>\n",
       "      <td>NaN</td>\n",
       "      <td>NaN</td>\n",
       "      <td>NaN</td>\n",
       "      <td>...</td>\n",
       "      <td>NaN</td>\n",
       "      <td>NaN</td>\n",
       "      <td>NaN</td>\n",
       "      <td>NaN</td>\n",
       "      <td>NaN</td>\n",
       "      <td>NaN</td>\n",
       "      <td>NaN</td>\n",
       "      <td>NaN</td>\n",
       "      <td>NaN</td>\n",
       "      <td>NaN</td>\n",
       "    </tr>\n",
       "  </tbody>\n",
       "</table>\n",
       "<p>30 rows × 138 columns</p>\n",
       "</div>"
      ],
      "text/plain": [
       "                                 Open        High         Low       Close  \\\n",
       "2025-06-18 12:30:00-04:00  478.970001  479.799988  478.429993  478.429993   \n",
       "2025-06-18 13:30:00-04:00  478.470001  480.339996  477.980011  479.315002   \n",
       "2025-06-18 14:30:00-04:00  479.195007  480.670013  477.850006  478.540009   \n",
       "2025-06-18 15:30:00-04:00  478.540009  481.000000  478.369995  480.239990   \n",
       "2025-06-20 09:30:00-04:00  482.100006  483.440002  479.140015  479.600006   \n",
       "2025-06-20 10:30:00-04:00  479.619995  480.730011  478.899994  479.869995   \n",
       "2025-06-20 11:30:00-04:00  479.890015  481.010010  479.390015  479.760010   \n",
       "2025-06-20 12:30:00-04:00  479.700012  481.359985  478.799988  478.859985   \n",
       "2025-06-20 13:30:00-04:00  478.804993  479.189911  478.119995  478.734985   \n",
       "2025-06-20 14:30:00-04:00  478.795013  478.940002  477.149994  477.350006   \n",
       "2025-06-20 15:30:00-04:00  477.390015  478.769989  476.869995  477.227509   \n",
       "2025-06-23 09:30:00-04:00  474.859985  476.809998  472.510010  475.649994   \n",
       "2025-06-23 10:30:00-04:00  475.649994  479.540009  475.269989  478.984985   \n",
       "2025-06-23 11:30:00-04:00  478.994995  481.579987  478.940094  480.619995   \n",
       "2025-06-23 12:30:00-04:00  480.600006  486.320007  478.700012  485.904999   \n",
       "2025-06-23 13:30:00-04:00  486.035004  487.750000  485.794006  486.769989   \n",
       "2025-06-23 14:30:00-04:00  486.809998  487.489990  485.161499  486.470001   \n",
       "2025-06-23 15:30:00-04:00  486.468506  487.099915  485.540009  485.920013   \n",
       "2025-06-24 09:30:00-04:00  488.630005  489.660004  486.795013  487.545013   \n",
       "2025-06-24 10:30:00-04:00  487.570007  490.549988  487.459991  490.447510   \n",
       "2025-06-24 11:30:00-04:00  490.519989  491.489990  489.940002  490.700012   \n",
       "2025-06-24 12:30:00-04:00  490.660004  491.410004  489.940002  490.470001   \n",
       "2025-06-24 13:30:00-04:00  490.450012  491.848999  490.420013  491.239990   \n",
       "2025-06-24 14:30:00-04:00  491.209991  491.209991  490.329987  490.839996   \n",
       "2025-06-24 15:30:00-04:00  490.820007  491.070007  489.510010  490.119995   \n",
       "2025-06-25 09:30:00-04:00  491.609985  494.555603  491.609985  493.535004   \n",
       "2025-06-25 10:30:00-04:00  493.619995  493.959991  492.440002  492.589996   \n",
       "2025-06-25 11:30:00-04:00  492.570007  492.709991  491.149994  491.614990   \n",
       "2025-06-25 12:30:00-04:00  491.630005  491.659912  490.109985  490.329987   \n",
       "2025-06-25 13:30:00-04:00  490.329987  492.439514  489.829987  491.939514   \n",
       "\n",
       "                            Volume  Dividends  Stock Splits  \\\n",
       "2025-06-18 12:30:00-04:00   816997        0.0           0.0   \n",
       "2025-06-18 13:30:00-04:00  1352118        0.0           0.0   \n",
       "2025-06-18 14:30:00-04:00  1689336        0.0           0.0   \n",
       "2025-06-18 15:30:00-04:00  2982104        0.0           0.0   \n",
       "2025-06-20 09:30:00-04:00  9570529        0.0           0.0   \n",
       "2025-06-20 10:30:00-04:00  2405635        0.0           0.0   \n",
       "2025-06-20 11:30:00-04:00  2377744        0.0           0.0   \n",
       "2025-06-20 12:30:00-04:00  1642530        0.0           0.0   \n",
       "2025-06-20 13:30:00-04:00  1722341        0.0           0.0   \n",
       "2025-06-20 14:30:00-04:00  1317608        0.0           0.0   \n",
       "2025-06-20 15:30:00-04:00  2905206        0.0           0.0   \n",
       "2025-06-23 09:30:00-04:00  3994341        0.0           0.0   \n",
       "2025-06-23 10:30:00-04:00  2555313        0.0           0.0   \n",
       "2025-06-23 11:30:00-04:00  2511957        0.0           0.0   \n",
       "2025-06-23 12:30:00-04:00  3477553        0.0           0.0   \n",
       "2025-06-23 13:30:00-04:00  2640026        0.0           0.0   \n",
       "2025-06-23 14:30:00-04:00  1904017        0.0           0.0   \n",
       "2025-06-23 15:30:00-04:00  2320956        0.0           0.0   \n",
       "2025-06-24 09:30:00-04:00  3369979        0.0           0.0   \n",
       "2025-06-24 10:30:00-04:00  2911520        0.0           0.0   \n",
       "2025-06-24 11:30:00-04:00  2263085        0.0           0.0   \n",
       "2025-06-24 12:30:00-04:00  2121710        0.0           0.0   \n",
       "2025-06-24 13:30:00-04:00  2371837        0.0           0.0   \n",
       "2025-06-24 14:30:00-04:00  1958058        0.0           0.0   \n",
       "2025-06-24 15:30:00-04:00  2808087        0.0           0.0   \n",
       "2025-06-25 09:30:00-04:00  3820122        0.0           0.0   \n",
       "2025-06-25 10:30:00-04:00  1648889        0.0           0.0   \n",
       "2025-06-25 11:30:00-04:00  1207466        0.0           0.0   \n",
       "2025-06-25 12:30:00-04:00   753982        0.0           0.0   \n",
       "2025-06-25 13:30:00-04:00        0        NaN           NaN   \n",
       "\n",
       "                           Open_price_lag_1H  Open_price_lag_2H  \\\n",
       "2025-06-18 12:30:00-04:00         479.220001         478.380005   \n",
       "2025-06-18 13:30:00-04:00         478.970001         479.220001   \n",
       "2025-06-18 14:30:00-04:00         478.470001         478.970001   \n",
       "2025-06-18 15:30:00-04:00         479.195007         478.470001   \n",
       "2025-06-20 09:30:00-04:00         478.540009         479.195007   \n",
       "2025-06-20 10:30:00-04:00         482.100006         478.540009   \n",
       "2025-06-20 11:30:00-04:00         479.619995         482.100006   \n",
       "2025-06-20 12:30:00-04:00         479.890015         479.619995   \n",
       "2025-06-20 13:30:00-04:00         479.700012         479.890015   \n",
       "2025-06-20 14:30:00-04:00         478.804993         479.700012   \n",
       "2025-06-20 15:30:00-04:00         478.795013         478.804993   \n",
       "2025-06-23 09:30:00-04:00         477.390015         478.795013   \n",
       "2025-06-23 10:30:00-04:00         474.859985         477.390015   \n",
       "2025-06-23 11:30:00-04:00         475.649994         474.859985   \n",
       "2025-06-23 12:30:00-04:00         478.994995         475.649994   \n",
       "2025-06-23 13:30:00-04:00         480.600006         478.994995   \n",
       "2025-06-23 14:30:00-04:00         486.035004         480.600006   \n",
       "2025-06-23 15:30:00-04:00         486.809998         486.035004   \n",
       "2025-06-24 09:30:00-04:00         486.468506         486.809998   \n",
       "2025-06-24 10:30:00-04:00         488.630005         486.468506   \n",
       "2025-06-24 11:30:00-04:00         487.570007         488.630005   \n",
       "2025-06-24 12:30:00-04:00         490.519989         487.570007   \n",
       "2025-06-24 13:30:00-04:00         490.660004         490.519989   \n",
       "2025-06-24 14:30:00-04:00         490.450012         490.660004   \n",
       "2025-06-24 15:30:00-04:00         491.209991         490.450012   \n",
       "2025-06-25 09:30:00-04:00         490.820007         491.209991   \n",
       "2025-06-25 10:30:00-04:00         491.609985         490.820007   \n",
       "2025-06-25 11:30:00-04:00         493.619995         491.609985   \n",
       "2025-06-25 12:30:00-04:00         492.570007         493.619995   \n",
       "2025-06-25 13:30:00-04:00                NaN                NaN   \n",
       "\n",
       "                           Open_price_lag_3H  ...  Volume_SMA_28H  \\\n",
       "2025-06-18 12:30:00-04:00         478.000000  ...    1.681876e+06   \n",
       "2025-06-18 13:30:00-04:00         478.380005  ...    1.676877e+06   \n",
       "2025-06-18 14:30:00-04:00         479.220001  ...    1.671258e+06   \n",
       "2025-06-18 15:30:00-04:00         478.970001  ...    1.695994e+06   \n",
       "2025-06-20 09:30:00-04:00         478.470001  ...    1.904258e+06   \n",
       "2025-06-20 10:30:00-04:00         479.195007  ...    1.928328e+06   \n",
       "2025-06-20 11:30:00-04:00         478.540009  ...    1.967678e+06   \n",
       "2025-06-20 12:30:00-04:00         482.100006  ...    1.986161e+06   \n",
       "2025-06-20 13:30:00-04:00         479.619995  ...    2.000450e+06   \n",
       "2025-06-20 14:30:00-04:00         479.890015  ...    1.993023e+06   \n",
       "2025-06-20 15:30:00-04:00         479.700012  ...    2.001186e+06   \n",
       "2025-06-23 09:30:00-04:00         478.804993  ...    1.996726e+06   \n",
       "2025-06-23 10:30:00-04:00         478.795013  ...    2.031669e+06   \n",
       "2025-06-23 11:30:00-04:00         477.390015  ...    2.079996e+06   \n",
       "2025-06-23 12:30:00-04:00         474.859985  ...    2.176890e+06   \n",
       "2025-06-23 13:30:00-04:00         475.649994  ...    2.238592e+06   \n",
       "2025-06-23 14:30:00-04:00         478.994995  ...    2.263967e+06   \n",
       "2025-06-23 15:30:00-04:00         480.600006  ...    2.273105e+06   \n",
       "2025-06-24 09:30:00-04:00         486.035004  ...    2.295067e+06   \n",
       "2025-06-24 10:30:00-04:00         486.809998  ...    2.357189e+06   \n",
       "2025-06-24 11:30:00-04:00         486.468506  ...    2.395640e+06   \n",
       "2025-06-24 12:30:00-04:00         488.630005  ...    2.431960e+06   \n",
       "2025-06-24 13:30:00-04:00         487.570007  ...    2.473065e+06   \n",
       "2025-06-24 14:30:00-04:00         490.519989  ...    2.505509e+06   \n",
       "2025-06-24 15:30:00-04:00         490.660004  ...    2.533730e+06   \n",
       "2025-06-25 09:30:00-04:00         490.450012  ...    2.575299e+06   \n",
       "2025-06-25 10:30:00-04:00         491.209991  ...    2.587365e+06   \n",
       "2025-06-25 11:30:00-04:00         490.820007  ...    2.595252e+06   \n",
       "2025-06-25 12:30:00-04:00         491.609985  ...    2.593002e+06   \n",
       "2025-06-25 13:30:00-04:00                NaN  ...             NaN   \n",
       "\n",
       "                           Volume_SMA_35H  Volume_Change          OBV  \\\n",
       "2025-06-18 12:30:00-04:00    1.727748e+06      -0.171931  238760534.0   \n",
       "2025-06-18 13:30:00-04:00    1.728247e+06       0.654985  240112652.0   \n",
       "2025-06-18 14:30:00-04:00    1.730464e+06       0.249400  238423316.0   \n",
       "2025-06-18 15:30:00-04:00    1.768963e+06       0.765252  241405420.0   \n",
       "2025-06-20 09:30:00-04:00    1.941973e+06       2.209321  231834891.0   \n",
       "2025-06-20 10:30:00-04:00    1.956339e+06      -0.748641  234240526.0   \n",
       "2025-06-20 11:30:00-04:00    1.981186e+06      -0.011594  231862782.0   \n",
       "2025-06-20 12:30:00-04:00    1.974644e+06      -0.309207  230220252.0   \n",
       "2025-06-20 13:30:00-04:00    1.981222e+06       0.048590  228497911.0   \n",
       "2025-06-20 14:30:00-04:00    1.966106e+06      -0.234990  227180303.0   \n",
       "2025-06-20 15:30:00-04:00    1.983698e+06       1.204909  224275097.0   \n",
       "2025-06-23 09:30:00-04:00    1.990989e+06       0.374891  220280756.0   \n",
       "2025-06-23 10:30:00-04:00    2.014522e+06      -0.360267  222836069.0   \n",
       "2025-06-23 11:30:00-04:00    2.049837e+06      -0.016967  225348026.0   \n",
       "2025-06-23 12:30:00-04:00    2.117052e+06       0.384400  228825579.0   \n",
       "2025-06-23 13:30:00-04:00    2.154703e+06      -0.240838  231465605.0   \n",
       "2025-06-23 14:30:00-04:00    2.165516e+06      -0.278789  229561588.0   \n",
       "2025-06-23 15:30:00-04:00    2.155353e+06       0.218979  227240632.0   \n",
       "2025-06-24 09:30:00-04:00    2.133947e+06       0.451979  230610611.0   \n",
       "2025-06-24 10:30:00-04:00    2.172078e+06      -0.136042  233522131.0   \n",
       "2025-06-24 11:30:00-04:00    2.203630e+06      -0.222714  235785216.0   \n",
       "2025-06-24 12:30:00-04:00    2.242406e+06      -0.062470  233663506.0   \n",
       "2025-06-24 13:30:00-04:00    2.284105e+06       0.117889  236035343.0   \n",
       "2025-06-24 14:30:00-04:00    2.305949e+06      -0.174455  234077285.0   \n",
       "2025-06-24 15:30:00-04:00    2.327178e+06       0.434118  231269198.0   \n",
       "2025-06-25 09:30:00-04:00    2.357609e+06       0.360400  235089320.0   \n",
       "2025-06-25 10:30:00-04:00    2.371231e+06      -0.568367  233440431.0   \n",
       "2025-06-25 11:30:00-04:00    2.371831e+06      -0.267709  232232965.0   \n",
       "2025-06-25 12:30:00-04:00    2.361809e+06      -0.375567  231478983.0   \n",
       "2025-06-25 13:30:00-04:00             NaN            NaN          NaN   \n",
       "\n",
       "                             OBV_EMA_9H  High_Low_Range  Open_Close_Range  \\\n",
       "2025-06-18 12:30:00-04:00  2.363613e+08        1.369995         -0.540009   \n",
       "2025-06-18 13:30:00-04:00  2.371115e+08        2.359985          0.845001   \n",
       "2025-06-18 14:30:00-04:00  2.373739e+08        2.820007         -0.654999   \n",
       "2025-06-18 15:30:00-04:00  2.381802e+08        2.630005          1.699982   \n",
       "2025-06-20 09:30:00-04:00  2.369111e+08        4.299988         -2.500000   \n",
       "2025-06-20 10:30:00-04:00  2.363770e+08        1.830017          0.250000   \n",
       "2025-06-20 11:30:00-04:00  2.354742e+08        1.619995         -0.130005   \n",
       "2025-06-20 12:30:00-04:00  2.344234e+08        2.559998         -0.840027   \n",
       "2025-06-20 13:30:00-04:00  2.332383e+08        1.069916         -0.070007   \n",
       "2025-06-20 14:30:00-04:00  2.320267e+08        1.790009         -1.445007   \n",
       "2025-06-20 15:30:00-04:00  2.304764e+08        1.899994         -0.162506   \n",
       "2025-06-23 09:30:00-04:00  2.284373e+08        4.299988          0.790009   \n",
       "2025-06-23 10:30:00-04:00  2.273170e+08        4.270020          3.334991   \n",
       "2025-06-23 11:30:00-04:00  2.269232e+08        2.639893          1.625000   \n",
       "2025-06-23 12:30:00-04:00  2.273037e+08        7.619995          5.304993   \n",
       "2025-06-23 13:30:00-04:00  2.281361e+08        1.955994          0.734985   \n",
       "2025-06-23 14:30:00-04:00  2.284212e+08        2.328491         -0.339996   \n",
       "2025-06-23 15:30:00-04:00  2.281851e+08        1.559906         -0.548492   \n",
       "2025-06-24 09:30:00-04:00  2.286702e+08        2.864990         -1.084991   \n",
       "2025-06-24 10:30:00-04:00  2.296406e+08        3.089996          2.877502   \n",
       "2025-06-24 11:30:00-04:00  2.308695e+08        1.549988          0.180023   \n",
       "2025-06-24 12:30:00-04:00  2.314283e+08        1.470001         -0.190002   \n",
       "2025-06-24 13:30:00-04:00  2.323497e+08        1.428986          0.789978   \n",
       "2025-06-24 14:30:00-04:00  2.326952e+08        0.880005         -0.369995   \n",
       "2025-06-24 15:30:00-04:00  2.324100e+08        1.559998         -0.700012   \n",
       "2025-06-25 09:30:00-04:00  2.329459e+08        2.945618          1.925018   \n",
       "2025-06-25 10:30:00-04:00  2.330448e+08        1.519989         -1.029999   \n",
       "2025-06-25 11:30:00-04:00  2.328824e+08        1.559998         -0.955017   \n",
       "2025-06-25 12:30:00-04:00  2.326017e+08        1.549927         -1.300018   \n",
       "2025-06-25 13:30:00-04:00           NaN             NaN               NaN   \n",
       "\n",
       "                           High_Low_Range_Pct  Open_Close_Range_Pct  \\\n",
       "2025-06-18 12:30:00-04:00            0.286352             -0.112744   \n",
       "2025-06-18 13:30:00-04:00            0.492366              0.176605   \n",
       "2025-06-18 14:30:00-04:00            0.589294             -0.136687   \n",
       "2025-06-18 15:30:00-04:00            0.547644              0.355243   \n",
       "2025-06-20 09:30:00-04:00            0.896578             -0.518565   \n",
       "2025-06-20 10:30:00-04:00            0.381357              0.052125   \n",
       "2025-06-20 11:30:00-04:00            0.337668             -0.027091   \n",
       "2025-06-20 12:30:00-04:00            0.534603             -0.175115   \n",
       "2025-06-20 13:30:00-04:00            0.223488             -0.014621   \n",
       "2025-06-20 14:30:00-04:00            0.374989             -0.301801   \n",
       "2025-06-20 15:30:00-04:00            0.398132             -0.034041   \n",
       "2025-06-23 09:30:00-04:00            0.904024              0.166367   \n",
       "2025-06-23 10:30:00-04:00            0.891473              0.701144   \n",
       "2025-06-23 11:30:00-04:00            0.549268              0.339252   \n",
       "2025-06-23 12:30:00-04:00            1.568207              1.103827   \n",
       "2025-06-23 13:30:00-04:00            0.401831              0.151221   \n",
       "2025-06-23 14:30:00-04:00            0.478651             -0.069842   \n",
       "2025-06-23 15:30:00-04:00            0.321021             -0.112750   \n",
       "2025-06-24 09:30:00-04:00            0.587636             -0.222048   \n",
       "2025-06-24 10:30:00-04:00            0.630036              0.590172   \n",
       "2025-06-24 11:30:00-04:00            0.315873              0.036700   \n",
       "2025-06-24 12:30:00-04:00            0.299713             -0.038724   \n",
       "2025-06-24 13:30:00-04:00            0.290894              0.161072   \n",
       "2025-06-24 14:30:00-04:00            0.179285             -0.075323   \n",
       "2025-06-24 15:30:00-04:00            0.318289             -0.142621   \n",
       "2025-06-25 09:30:00-04:00            0.596841              0.391574   \n",
       "2025-06-25 10:30:00-04:00            0.308571             -0.208662   \n",
       "2025-06-25 11:30:00-04:00            0.317321             -0.193885   \n",
       "2025-06-25 12:30:00-04:00            0.316099             -0.264430   \n",
       "2025-06-25 13:30:00-04:00                 NaN                   NaN   \n",
       "\n",
       "                           RSI_x_Volume  \n",
       "2025-06-18 12:30:00-04:00  4.519249e+07  \n",
       "2025-06-18 13:30:00-04:00  7.922364e+07  \n",
       "2025-06-18 14:30:00-04:00  9.257947e+07  \n",
       "2025-06-18 15:30:00-04:00  1.812914e+08  \n",
       "2025-06-20 09:30:00-04:00  5.521509e+08  \n",
       "2025-06-20 10:30:00-04:00  1.410926e+08  \n",
       "2025-06-20 11:30:00-04:00  1.380850e+08  \n",
       "2025-06-20 12:30:00-04:00  8.777900e+07  \n",
       "2025-06-20 13:30:00-04:00  9.095896e+07  \n",
       "2025-06-20 14:30:00-04:00  6.100233e+07  \n",
       "2025-06-20 15:30:00-04:00  1.329428e+08  \n",
       "2025-06-23 09:30:00-04:00  1.574305e+08  \n",
       "2025-06-23 10:30:00-04:00  1.378683e+08  \n",
       "2025-06-23 11:30:00-04:00  1.485367e+08  \n",
       "2025-06-23 12:30:00-04:00  2.456182e+08  \n",
       "2025-06-23 13:30:00-04:00  1.901273e+08  \n",
       "2025-06-23 14:30:00-04:00  1.347444e+08  \n",
       "2025-06-23 15:30:00-04:00  1.588135e+08  \n",
       "2025-06-24 09:30:00-04:00  2.407331e+08  \n",
       "2025-06-24 10:30:00-04:00  2.208663e+08  \n",
       "2025-06-24 11:30:00-04:00  1.724579e+08  \n",
       "2025-06-24 12:30:00-04:00  1.594469e+08  \n",
       "2025-06-24 13:30:00-04:00  1.810448e+08  \n",
       "2025-06-24 14:30:00-04:00  1.455902e+08  \n",
       "2025-06-24 15:30:00-04:00  1.988133e+08  \n",
       "2025-06-25 09:30:00-04:00  2.923558e+08  \n",
       "2025-06-25 10:30:00-04:00  1.192182e+08  \n",
       "2025-06-25 11:30:00-04:00  8.225291e+07  \n",
       "2025-06-25 12:30:00-04:00  4.746497e+07  \n",
       "2025-06-25 13:30:00-04:00           NaN  \n",
       "\n",
       "[30 rows x 138 columns]"
      ]
     },
     "execution_count": 125,
     "metadata": {},
     "output_type": "execute_result"
    }
   ],
   "source": [
    "# combined_df = pd.concat([last_week_df, predicted_candle])\n",
    "# combined_df"
   ]
  },
  {
   "cell_type": "code",
   "execution_count": null,
   "id": "f8f70ad5",
   "metadata": {},
   "outputs": [
    {
     "data": {
      "image/png": "[encoded data removed]",
      "text/plain": [
       "<Figure size 1150x575 with 4 Axes>"
      ]
     },
     "metadata": {},
     "output_type": "display_data"
    }
   ],
   "source": [
    "# from matplotlib.patches import Circle\n",
    "# from matplotlib.dates import date2num\n",
    "\n",
    "# # Step 1: Convert timestamp to x-axis value\n",
    "# x_coord = combined_df.index.get_loc(next_hour)\n",
    "# y_coord = predicted_close  # or combined_df.loc[next_hour, 'Close']\n",
    "\n",
    "\n",
    "# # Step 2: Draw the circle\n",
    "# circle = Circle(\n",
    "#     (x_coord, y_coord),\n",
    "#     radius=0.25,\n",
    "#     edgecolor='red',\n",
    "#     facecolor='none',\n",
    "#     linewidth=2,\n",
    "#     linestyle='--',\n",
    "#     zorder=10  # this brings it to the front\n",
    "# )\n",
    "\n",
    "\n",
    "# # Step 3: Add to the plot\n",
    "# fig, axlist = mpf.plot(\n",
    "#     combined_df,\n",
    "#     type='candle',\n",
    "#     style='charles',\n",
    "#     volume=True,\n",
    "#     returnfig=True,\n",
    "#     figratio=(12,6)\n",
    "# )\n",
    "\n",
    "# price_ax = axlist[0]\n",
    "# price_ax.add_patch(circle)\n",
    "\n",
    "# plt.show()\n"
   ]
  },
  {
   "cell_type": "code",
   "execution_count": null,
   "id": "10f12843",
   "metadata": {},
   "outputs": [
    {
     "data": {
      "image/png": "[encoded data removed]",
      "text/plain": [
       "<Figure size 1150x575 with 4 Axes>"
      ]
     },
     "metadata": {},
     "output_type": "display_data"
    }
   ],
   "source": [
    "# highlight = mpf.make_addplot(\n",
    "#     combined_df['Close'].iloc[-1:],  # Only the predicted candle\n",
    "#     type='scatter',\n",
    "#     markersize=120,\n",
    "#     marker='v',\n",
    "#     color='gold'\n",
    "# )\n",
    "\n",
    "\n",
    "# mpf.plot(\n",
    "#     combined_df,\n",
    "#     type='candle',\n",
    "#     style='charles',\n",
    "#     volume=True,\n",
    "#     title='Last Week + Predicted Next Hour',\n",
    "#     figratio=(12,6)\n",
    "# )\n",
    "\n",
    "# # plt.plot(prediction_df.index, prediction_df['Close'], linestyle='dashed', marker='o', color='red')\n",
    "# # plt.title('Predicted Close Price for Next Hour')\n",
    "# # plt.show()"
   ]
  }
 ],
 "metadata": {
  "kernelspec": {
   "display_name": "stock_predictions",
   "language": "python",
   "name": "python3"
  },
  "language_info": {
   "codemirror_mode": {
    "name": "ipython",
    "version": 3
   },
   "file_extension": ".py",
   "mimetype": "text/x-python",
   "name": "python",
   "nbconvert_exporter": "python",
   "pygments_lexer": "ipython3",
   "version": "3.12.11"
  }
 },
 "nbformat": 4,
 "nbformat_minor": 5
}
