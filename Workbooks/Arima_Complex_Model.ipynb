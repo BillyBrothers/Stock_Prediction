{
 "cells": [
  {
   "cell_type": "code",
   "execution_count": 1,
   "id": "d0f5caeb",
   "metadata": {},
   "outputs": [],
   "source": [
    "# !pip install seaborn\n",
    "# !pip install keras\n",
    "# !pip install tensorflow\n",
    "# !pip install xgboost\n"
   ]
  },
  {
   "cell_type": "code",
   "execution_count": 2,
   "id": "bd9fa235",
   "metadata": {},
   "outputs": [],
   "source": [
    "import yfinance as yf\n",
    "import pandas as pd\n",
    "from datetime import datetime, timedelta\n",
    "import pandas as pd\n",
    "import matplotlib.pyplot as plt\n",
    "import numpy as np\n",
    "\n",
    "from statsmodels.tsa.stattools import adfuller\n",
    "from statsmodels.graphics.tsaplots import plot_acf, plot_pacf\n",
    "from statsmodels.tsa.arima.model import ARIMA\n",
    "from sklearn.metrics import mean_squared_error, mean_absolute_error, mean_absolute_percentage_error\n",
    "from statsmodels.tsa.stattools import adfuller\n",
    "from statsmodels.tsa.seasonal import seasonal_decompose\n",
    "import pmdarima as pm\n",
    "from pmdarima.arima import auto_arima\n",
    "from pylab import rcParams\n",
    "import requests\n",
    "import json\n",
    "from sklearn.model_selection import TimeSeriesSplit\n",
    "from sklearn.preprocessing import MinMaxScaler\n",
    "import seaborn as sns\n",
    "from xgboost import XGBRegressor"
   ]
  },
  {
   "cell_type": "code",
   "execution_count": 3,
   "id": "9cd00093",
   "metadata": {},
   "outputs": [],
   "source": [
    "# with open(\"tingo_api.json\", \"r\") as file:\n",
    "#     tingo_api = json.load(file)\n",
    "# api_key = tingo_api['api_key']"
   ]
  },
  {
   "cell_type": "code",
   "execution_count": 4,
   "id": "ca690e90",
   "metadata": {},
   "outputs": [],
   "source": [
    "# headers = {\n",
    "#     'Content-Type': 'application/json',\n",
    "#     'Authorization': f'Token {api_key}'\n",
    "# }\n",
    "# url =  \"https://api.tiingo.com/tiingo/daily/MSFT/prices?startDate=2017-06-13&endDate=2025-06-13&resampleFreq=1min\"\n",
    "\n",
    "\n",
    "# response = requests.get(url, headers=headers)\n",
    "# data = response.json()"
   ]
  },
  {
   "cell_type": "markdown",
   "id": "fffaf90a",
   "metadata": {},
   "source": [
    "# ARIMA"
   ]
  },
  {
   "cell_type": "code",
   "execution_count": 5,
   "id": "52554ba4",
   "metadata": {},
   "outputs": [
    {
     "name": "stdout",
     "output_type": "stream",
     "text": [
      "                                 Open        High         Low       Close  \\\n",
      "Datetime                                                                    \n",
      "2023-06-27 09:30:00-04:00  331.859985  334.114410  331.119995  332.000000   \n",
      "2023-06-27 10:30:00-04:00  331.989990  332.107300  329.299988  331.873413   \n",
      "2023-06-27 11:30:00-04:00  331.920013  332.839996  331.269989  331.970001   \n",
      "2023-06-27 12:30:00-04:00  331.970001  333.510010  331.700012  333.312897   \n",
      "2023-06-27 13:30:00-04:00  333.320007  335.815002  333.320007  335.480011   \n",
      "\n",
      "                            Volume  Dividends  Stock Splits  \n",
      "Datetime                                                     \n",
      "2023-06-27 09:30:00-04:00  4718321        0.0           0.0  \n",
      "2023-06-27 10:30:00-04:00  2911379        0.0           0.0  \n",
      "2023-06-27 11:30:00-04:00  1904459        0.0           0.0  \n",
      "2023-06-27 12:30:00-04:00  2752173        0.0           0.0  \n",
      "2023-06-27 13:30:00-04:00  2018662        0.0           0.0  \n"
     ]
    }
   ],
   "source": [
    "msft = yf.Ticker(\"MSFT\")\n",
    "msft_df = msft.history(\n",
    "    period=\"max\", \n",
    "    interval=\"1h\",\n",
    ")\n",
    "\n",
    "print(msft_df.head())"
   ]
  },
  {
   "cell_type": "code",
   "execution_count": null,
   "id": "90f3f966",
   "metadata": {},
   "outputs": [],
   "source": [
    "plt.figure(figsize=(14, 7))\n",
    "plt.plot(msft_df.index, msft_df['Close'], label='MSFT Close Price')\n",
    "plt.title('Microsoft (MSFT) Close Price over 60 Days with 5-Minute Interval')\n",
    "plt.xlabel('Date')\n",
    "plt.ylabel('Price (USD)')\n",
    "plt.legend();"
   ]
  },
  {
   "cell_type": "markdown",
   "id": "69d335a0",
   "metadata": {},
   "source": [
    "# Testing For Stationarity"
   ]
  },
  {
   "cell_type": "code",
   "execution_count": null,
   "id": "fd4af5bb",
   "metadata": {},
   "outputs": [],
   "source": [
    "def test_stationarity(timeseries):\n",
    "   \n",
    "    rolmean = timeseries.rolling(50).mean()\n",
    "    rolstd = timeseries.rolling(50).std()\n",
    " \n",
    "    plt.plot(timeseries, color='blue',label='Original')\n",
    "    plt.plot(rolmean, color='red', label='Rolling Mean')\n",
    "    plt.plot(rolstd, color='black', label = 'Rolling Std')\n",
    "    plt.legend(loc='best')\n",
    "    plt.title('Rolling Mean and Standard Deviation')\n",
    "    print(\"Results of dickey fuller test\")\n",
    "    adft = adfuller(timeseries)\n",
    "    output = pd.Series(adft[0:4],index=['Test Statistics','p-value','No. of lags used','Number of observations used'])\n",
    "    for key,values in adft[4].items():\n",
    "        output['critical value (%s)'%key] =  values\n",
    "    print(output)\n",
    "test_stationarity(msft_df['Close'])"
   ]
  },
  {
   "cell_type": "markdown",
   "id": "4d4a580a",
   "metadata": {},
   "source": [
    "Interpretation: \n",
    "* Null Hypothesis: The time series is non-stationary.\n",
    "* Alternative Hypothesis: The time series is stationary."
   ]
  },
  {
   "cell_type": "code",
   "execution_count": null,
   "id": "a7c4b65a",
   "metadata": {},
   "outputs": [],
   "source": [
    "msft_df['Close'].plot(kind='kde');"
   ]
  },
  {
   "cell_type": "code",
   "execution_count": null,
   "id": "30b4a74f",
   "metadata": {},
   "outputs": [],
   "source": [
    "result = seasonal_decompose(msft_df['Close'], model='multiplicative', period = 78)\n",
    "fig = plt.figure()  \n",
    "fig = result.plot()  \n",
    "fig.set_size_inches(16, 9);"
   ]
  },
  {
   "cell_type": "markdown",
   "id": "2bfb06b3",
   "metadata": {},
   "source": [
    "# Reducing Trend"
   ]
  },
  {
   "cell_type": "code",
   "execution_count": null,
   "id": "99c3785b",
   "metadata": {},
   "outputs": [],
   "source": [
    "rcParams['figure.figsize'] = 10, 6\n",
    "msft_df['Log_Close'] = np.log(msft_df['Close'])\n",
    "msft_df['Rolling_Log_Avg'] = msft_df['Log_Close'].rolling(7).mean()\n",
    "msft_df['Rolling_Log_Std'] = msft_df['Log_Close'].rolling(7).std()\n",
    "plt.legend(loc='best')\n",
    "plt.title('Moving Average')\n",
    "plt.plot(msft_df['Log_Close'], color='blue', label = 'Log Price')\n",
    "plt.plot(msft_df['Rolling_Log_Avg'], color=\"red\", label = \"Rolling Log Mean\")\n",
    "plt.plot(msft_df['Rolling_Log_Std'], color = \"black\", label = \"Rolling Log Standard Deviation\")\n",
    "plt.xlabel('Dates')\n",
    "plt.ylabel('Log Price')\n",
    "plt.legend()\n",
    "plt.show()"
   ]
  },
  {
   "cell_type": "markdown",
   "id": "c3c3cf1d",
   "metadata": {},
   "source": [
    "# Train/Test "
   ]
  },
  {
   "cell_type": "code",
   "execution_count": null,
   "id": "11525b62",
   "metadata": {},
   "outputs": [],
   "source": [
    "msft_df.dropna(inplace=True)\n",
    "train_size = int(len(msft_df) * 0.99)\n",
    "train_data, test_data =  msft_df['Rolling_Log_Avg'].iloc[:train_size], msft_df['Rolling_Log_Avg'].iloc[train_size:]\n",
    "plt.figure(figsize=(10,6))\n",
    "plt.grid(True)\n",
    "plt.xlabel('Dates')\n",
    "plt.ylabel('Rolling Log Closing Prices')\n",
    "plt.plot(train_data, 'green', label='Train data')\n",
    "plt.plot(test_data, 'blue', label='Test data')\n",
    "plt.legend();"
   ]
  },
  {
   "cell_type": "markdown",
   "id": "3f8b3f11",
   "metadata": {},
   "source": [
    "# HyperParameter Tuning: P, D, Q"
   ]
  },
  {
   "cell_type": "code",
   "execution_count": null,
   "id": "92644632",
   "metadata": {},
   "outputs": [],
   "source": [
    "model_autoARIMA = auto_arima(train_data, start_p=0, start_q=0,\n",
    "                      test='adf',\n",
    "                      max_p=3, max_q=3, \n",
    "                      m=1,              \n",
    "                      d=None,           \n",
    "                      seasonal=False,   \n",
    "                      start_P=0, \n",
    "                      D=0, \n",
    "                      trace=True,\n",
    "                      error_action='ignore',  \n",
    "                      suppress_warnings=True, \n",
    "                      stepwise=True)\n",
    "print(model_autoARIMA.summary())\n",
    "model_autoARIMA.plot_diagnostics(figsize=(15,8))\n",
    "plt.show()"
   ]
  },
  {
   "cell_type": "markdown",
   "id": "b1b147a3",
   "metadata": {},
   "source": [
    "## Test residual autocorrelation"
   ]
  },
  {
   "cell_type": "code",
   "execution_count": null,
   "id": "69d3ca85",
   "metadata": {},
   "outputs": [],
   "source": [
    "residuals = model_autoARIMA.resid()\n",
    "plt.figure(figsize=(10,5))\n",
    "plt.plot(residuals, label=\"Residuals\")\n",
    "plt.legend()\n",
    "plt.title(\"Residuals Over Time\")\n",
    "plt.show()"
   ]
  },
  {
   "cell_type": "markdown",
   "id": "05350034",
   "metadata": {},
   "source": [
    "Ljung-Box Test Hypothesis test\n",
    "* Null Hypothesis: - The residuals are independently distributed (i.e., no autocorrelation).\n",
    "* Alternative: The residuals are not independent (i.e., they're autocorrelated)"
   ]
  },
  {
   "cell_type": "code",
   "execution_count": null,
   "id": "8dd4e358",
   "metadata": {},
   "outputs": [],
   "source": [
    "from statsmodels.stats.diagnostic import acorr_ljungbox\n",
    "\n",
    "ljung_box_results = acorr_ljungbox(residuals, lags=[1], return_df=True)\n",
    "print(ljung_box_results)"
   ]
  },
  {
   "cell_type": "markdown",
   "id": "11487ecd",
   "metadata": {},
   "source": [
    "# Fit Model with Optimal Parameters"
   ]
  },
  {
   "cell_type": "code",
   "execution_count": null,
   "id": "e93a2ecc",
   "metadata": {},
   "outputs": [],
   "source": [
    "tscv = TimeSeriesSplit(n_splits=100)\n",
    "best_p, best_d, bestq = model_autoARIMA.order\n",
    "\n",
    "actual_values = []\n",
    "predicted_values = []\n",
    "simple_values = []\n",
    "\n",
    "\n",
    "for i, (train_idx, test_idx) in enumerate(tscv.split(msft_df)):\n",
    "    print(\"fold:\", i)\n",
    "    print(\"Train dates:\", msft_df.index[train_idx][[0, -1]])\n",
    "    print(\"Test dates:\", msft_df.index[test_idx][[0, -1]])\n",
    "    train, test = msft_df['Rolling_Log_Avg'].iloc[train_idx], msft_df['Rolling_Log_Avg'].iloc[test_idx]\n",
    "    arima = ARIMA(train, order =(best_p, best_d, bestq))\n",
    "    arima_fit = arima.fit()\n",
    "    forecast = arima_fit.forecast()\n",
    "    actual_values.append(test[0])\n",
    "    predicted_values.append(forecast.values[0])\n",
    "    simple_values.append(train[-1])\n",
    "print(\"Actual Vs Predicted:\", mean_squared_error(actual_values, predicted_values))\n",
    "print(\"Actual Vs Simple:\", mean_squared_error(actual_values, simple_values))\n"
   ]
  },
  {
   "cell_type": "markdown",
   "id": "ddcc522c",
   "metadata": {},
   "source": [
    "### Arima Results"
   ]
  },
  {
   "cell_type": "code",
   "execution_count": 16,
   "id": "95283d13",
   "metadata": {},
   "outputs": [
    {
     "data": {
      "text/html": [
       "<div>\n",
       "<style scoped>\n",
       "    .dataframe tbody tr th:only-of-type {\n",
       "        vertical-align: middle;\n",
       "    }\n",
       "\n",
       "    .dataframe tbody tr th {\n",
       "        vertical-align: top;\n",
       "    }\n",
       "\n",
       "    .dataframe thead th {\n",
       "        text-align: right;\n",
       "    }\n",
       "</style>\n",
       "<table border=\"1\" class=\"dataframe\">\n",
       "  <thead>\n",
       "    <tr style=\"text-align: right;\">\n",
       "      <th></th>\n",
       "      <th>Actual_vs_Predicted</th>\n",
       "      <th>Actual_Vs_Simple</th>\n",
       "    </tr>\n",
       "  </thead>\n",
       "  <tbody>\n",
       "    <tr>\n",
       "      <th>0</th>\n",
       "      <td>8.230505e-08</td>\n",
       "      <td>7.346659e-07</td>\n",
       "    </tr>\n",
       "  </tbody>\n",
       "</table>\n",
       "</div>"
      ],
      "text/plain": [
       "   Actual_vs_Predicted  Actual_Vs_Simple\n",
       "0         8.230505e-08      7.346659e-07"
      ]
     },
     "execution_count": 16,
     "metadata": {},
     "output_type": "execute_result"
    }
   ],
   "source": [
    "results_df = pd.DataFrame({\n",
    "    \"Actual_vs_Predicted\": [mean_squared_error(actual_values, predicted_values)],\n",
    "    \"Actual_Vs_Simple\": [mean_squared_error(actual_values, simple_values)]\n",
    "})\n",
    "results_df"
   ]
  },
  {
   "cell_type": "code",
   "execution_count": 17,
   "id": "fd0d11bc",
   "metadata": {},
   "outputs": [],
   "source": [
    "# plt.figure(figsize=(14,7))\n",
    "# plt.plot(train_data.index, train_data,  label='training data')\n",
    "# plt.plot(test_data.index, test_data, color = 'blue', label='Actual Stock Price')\n",
    "# plt.plot(test_data.index, forecast, color = 'orange',label='Predicted Stock Price')\n",
    "# plt.title('Microsoft Stock Price Prediction')\n",
    "# plt.xlabel('Time')\n",
    "# plt.ylabel('MSFT Stock Price')\n",
    "# plt.legend(loc='upper left', fontsize=8)\n",
    "# #plt.savefig(\"3mo.png\", dpi=300, bbox_inches=\"tight\")\n",
    "# plt.show()"
   ]
  },
  {
   "cell_type": "code",
   "execution_count": 18,
   "id": "03bd0016",
   "metadata": {},
   "outputs": [],
   "source": [
    "# forecast = arima_fitted.forecast(steps=len(test_data))\n",
    "# plt.figure(figsize=(20,10))\n",
    "# plt.plot(train_data.index, train_data,  label='training data')\n",
    "# plt.plot(test_data.index, test_data, color = 'blue', label='Actual Stock Price')\n",
    "# plt.plot(test_data.index, forecast, color = 'orange',label='Predicted Stock Price')\n",
    "# plt.title('Microsoft Stock Price Prediction')\n",
    "# plt.xlabel('Time')\n",
    "# plt.ylabel('MSFT Stock Price')\n",
    "# plt.legend(loc='upper left', fontsize=8)\n",
    "# #plt.savefig(\"3mo.png\", dpi=300, bbox_inches=\"tight\")\n",
    "# plt.show()"
   ]
  },
  {
   "cell_type": "code",
   "execution_count": 19,
   "id": "417933cc",
   "metadata": {},
   "outputs": [],
   "source": [
    "# print(\"Mean Squared Error:\", mean_squared_error(test_data, forecast))\n",
    "# print(\"Root Mean Square Error:\", np.sqrt(mean_squared_error(test_data, forecast)))\n",
    "# print(\"Mean Absolute Error:\", mean_absolute_error(test_data, forecast))\n",
    "# print(\"Mean Absolute Percentage Error:\", mean_absolute_percentage_error(test_data, forecast))"
   ]
  },
  {
   "cell_type": "code",
   "execution_count": 20,
   "id": "2f84ab68",
   "metadata": {},
   "outputs": [],
   "source": [
    "# timestamps = test_data.index[-4:]  \n",
    "# actual_values = np.exp(test_data.iloc[-4:])\n",
    "# predicted_values = np.exp(forecast[-4:])\n",
    "\n",
    "# df_results = pd.DataFrame({\n",
    "#     'Timestamp': timestamps,\n",
    "#     'Actual Value': actual_values.values, \n",
    "#     'Predicted Value': predicted_values\n",
    "# })\n",
    "\n",
    "# print(df_results)"
   ]
  },
  {
   "cell_type": "code",
   "execution_count": 21,
   "id": "581dfb5d",
   "metadata": {},
   "outputs": [],
   "source": [
    "# msft_df['price_lag_1hour'] = msft_df['Close'].shift(1)\n",
    "# msft_df['price_lag_2hour'] = msft_df['Close'].shift(2)\n",
    "# msft_df['price_lag_3hour'] = msft_df['Close'].shift(3)\n",
    "# msft_df['price_lag_4hour'] = msft_df['Close'].shift(4)\n",
    "# msft_df['price_lag_1day'] = msft_df['Close'].shift(24)\n",
    "# msft_df['price_lag_2day'] = msft_df['Close'].shift(48)\n",
    "# msft_df['price_lag_2day'] = msft_df['Close'].shift(72)\n",
    "# msft_df['price_lag_1week'] = msft_df['Close'].shift(168)"
   ]
  }
 ],
 "metadata": {
  "kernelspec": {
   "display_name": "stock_predictions",
   "language": "python",
   "name": "python3"
  },
  "language_info": {
   "codemirror_mode": {
    "name": "ipython",
    "version": 3
   },
   "file_extension": ".py",
   "mimetype": "text/x-python",
   "name": "python",
   "nbconvert_exporter": "python",
   "pygments_lexer": "ipython3",
   "version": "3.12.11"
  }
 },
 "nbformat": 4,
 "nbformat_minor": 5
}
