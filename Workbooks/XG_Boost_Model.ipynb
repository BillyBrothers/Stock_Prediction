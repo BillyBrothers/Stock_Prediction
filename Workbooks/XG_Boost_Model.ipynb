{
 "cells": [
  {
   "cell_type": "code",
   "execution_count": 2,
   "id": "a741fa41",
   "metadata": {},
   "outputs": [],
   "source": [
    "import yfinance as yf\n",
    "import pandas as pd\n",
    "from datetime import datetime, timedelta\n",
    "import pandas as pd\n",
    "import matplotlib.pyplot as plt\n",
    "import numpy as np\n",
    "\n",
    "from statsmodels.tsa.stattools import adfuller\n",
    "from statsmodels.graphics.tsaplots import plot_acf, plot_pacf\n",
    "from statsmodels.tsa.arima.model import ARIMA\n",
    "from sklearn.metrics import mean_squared_error, mean_absolute_error, mean_absolute_percentage_error\n",
    "from statsmodels.tsa.stattools import adfuller\n",
    "from statsmodels.tsa.seasonal import seasonal_decompose\n",
    "import pmdarima as pm\n",
    "from pmdarima.arima import auto_arima\n",
    "from pylab import rcParams\n",
    "import requests\n",
    "import json\n",
    "from sklearn.model_selection import TimeSeriesSplit\n",
    "from sklearn.preprocessing import MinMaxScaler\n",
    "import seaborn as sns\n",
    "from xgboost import XGBRegressor"
   ]
  },
  {
   "cell_type": "code",
   "execution_count": 3,
   "id": "4e10d2e2",
   "metadata": {},
   "outputs": [
    {
     "name": "stdout",
     "output_type": "stream",
     "text": [
      "                                 Open        High         Low       Close  \\\n",
      "Datetime                                                                    \n",
      "2023-06-20 09:30:00-04:00  339.695801  342.079987  336.239990  336.380005   \n",
      "2023-06-20 10:30:00-04:00  336.399994  337.799988  335.859985  336.940002   \n",
      "2023-06-20 11:30:00-04:00  337.000000  338.565002  336.054901  338.230011   \n",
      "2023-06-20 12:30:00-04:00  338.239990  339.698608  338.190002  339.095001   \n",
      "2023-06-20 13:30:00-04:00  339.109985  339.320007  338.246887  339.130005   \n",
      "\n",
      "                            Volume  Dividends  Stock Splits  \n",
      "Datetime                                                     \n",
      "2023-06-20 09:30:00-04:00  6650745        0.0           0.0  \n",
      "2023-06-20 10:30:00-04:00  3641713        0.0           0.0  \n",
      "2023-06-20 11:30:00-04:00  2611871        0.0           0.0  \n",
      "2023-06-20 12:30:00-04:00  1933145        0.0           0.0  \n",
      "2023-06-20 13:30:00-04:00  1812231        0.0           0.0  \n"
     ]
    }
   ],
   "source": [
    "msft = yf.Ticker(\"MSFT\")\n",
    "msft_df = msft.history(\n",
    "    period=\"max\", \n",
    "    interval=\"1h\",\n",
    ")\n",
    "\n",
    "print(msft_df.head())"
   ]
  },
  {
   "cell_type": "markdown",
   "id": "d03026b1",
   "metadata": {},
   "source": [
    "## Feature Engineering"
   ]
  },
  {
   "cell_type": "markdown",
   "id": "cfdc6349",
   "metadata": {},
   "source": [
    "### Lagged Prices"
   ]
  },
  {
   "cell_type": "code",
   "execution_count": 4,
   "id": "4f4cb4e6",
   "metadata": {},
   "outputs": [],
   "source": [
    "lag_periods = [1, 2, 3, 4, 5, 6, 24, 48, 72]\n",
    "for lag in lag_periods:\n",
    "    msft_df[f'Price_lag_{lag}H'] = msft_df['Close'].shift(lag)"
   ]
  },
  {
   "cell_type": "markdown",
   "id": "b19c8e8c",
   "metadata": {},
   "source": [
    "### Lagged Returns"
   ]
  },
  {
   "cell_type": "code",
   "execution_count": 5,
   "id": "b0b342bf",
   "metadata": {},
   "outputs": [],
   "source": [
    "msft_df['Hourly_return'] = msft_df['Close'].pct_change(periods=1)\n",
    "msft_df['Daily_return'] = msft_df['Close'].pct_change(periods=24)\n",
    "msft_df['Weekly_return'] = msft_df['Close'].pct_change(periods=168)"
   ]
  },
  {
   "cell_type": "code",
   "execution_count": 6,
   "id": "c62fc5ac",
   "metadata": {},
   "outputs": [],
   "source": [
    "lag_returns_hourly = [1,2,3,4,5,6,]\n",
    "for lag in lag_returns_hourly:\n",
    "    msft_df[f'Hourly_return_lag_{lag}H'] = msft_df['Hourly_return'].shift(lag)"
   ]
  },
  {
   "cell_type": "code",
   "execution_count": 7,
   "id": "27962b35",
   "metadata": {},
   "outputs": [],
   "source": [
    "lag_returns_daily = [24,48,74]\n",
    "for lag in lag_returns_daily:\n",
    "    msft_df[f'Daily_return_lag_{lag}H'] = msft_df['Daily_return'].shift(lag)"
   ]
  },
  {
   "cell_type": "code",
   "execution_count": 8,
   "id": "38ce85bc",
   "metadata": {},
   "outputs": [],
   "source": [
    "lag_returns_weekly = [168, 336]\n",
    "for lag in lag_returns_weekly:\n",
    "    msft_df[f'Weekly_return_lag_{lag}H'] = msft_df['Weekly_return'].shift(lag)"
   ]
  }
 ],
 "metadata": {
  "kernelspec": {
   "display_name": "stock_predictions",
   "language": "python",
   "name": "python3"
  },
  "language_info": {
   "codemirror_mode": {
    "name": "ipython",
    "version": 3
   },
   "file_extension": ".py",
   "mimetype": "text/x-python",
   "name": "python",
   "nbconvert_exporter": "python",
   "pygments_lexer": "ipython3",
   "version": "3.12.11"
  }
 },
 "nbformat": 4,
 "nbformat_minor": 5
}
