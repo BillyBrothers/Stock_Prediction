{
 "cells": [
  {
   "cell_type": "code",
   "execution_count": 1,
   "id": "7f4ae837",
   "metadata": {},
   "outputs": [],
   "source": [
    "# !pip install ta\n",
    "# !pip install pandas pandas_ta"
   ]
  },
  {
   "cell_type": "code",
   "execution_count": 2,
   "id": "a741fa41",
   "metadata": {},
   "outputs": [],
   "source": [
    "import yfinance as yf\n",
    "import pandas as pd\n",
    "from datetime import datetime, timedelta\n",
    "import pandas as pd\n",
    "import matplotlib.pyplot as plt\n",
    "import numpy as np\n",
    "import ta\n",
    "import pandas_ta as ta\n",
    "\n",
    "from statsmodels.tsa.stattools import adfuller\n",
    "from statsmodels.graphics.tsaplots import plot_acf, plot_pacf\n",
    "from statsmodels.tsa.arima.model import ARIMA\n",
    "from sklearn.metrics import mean_squared_error, mean_absolute_error, mean_absolute_percentage_error\n",
    "from statsmodels.tsa.stattools import adfuller\n",
    "from statsmodels.tsa.seasonal import seasonal_decompose\n",
    "import pmdarima as pm\n",
    "from pmdarima.arima import auto_arima\n",
    "from pylab import rcParams\n",
    "import requests\n",
    "import json\n",
    "from sklearn.model_selection import TimeSeriesSplit\n",
    "from sklearn.preprocessing import MinMaxScaler\n",
    "import seaborn as sns\n",
    "from xgboost import XGBRegressor"
   ]
  },
  {
   "cell_type": "code",
   "execution_count": 3,
   "id": "4e10d2e2",
   "metadata": {},
   "outputs": [
    {
     "name": "stdout",
     "output_type": "stream",
     "text": [
      "                                 Open        High         Low       Close  \\\n",
      "Datetime                                                                    \n",
      "2023-06-21 09:30:00-04:00  336.369995  337.730011  333.630005  334.320007   \n",
      "2023-06-21 10:30:00-04:00  334.329987  334.825989  332.070007  332.980103   \n",
      "2023-06-21 11:30:00-04:00  332.980011  334.480011  332.299988  333.690002   \n",
      "2023-06-21 12:30:00-04:00  333.660004  334.570007  333.480011  333.669891   \n",
      "2023-06-21 13:30:00-04:00  333.640015  335.220001  333.579987  335.209991   \n",
      "\n",
      "                            Volume  Dividends  Stock Splits  \n",
      "Datetime                                                     \n",
      "2023-06-21 09:30:00-04:00  5706332        0.0           0.0  \n",
      "2023-06-21 10:30:00-04:00  3318595        0.0           0.0  \n",
      "2023-06-21 11:30:00-04:00  2518807        0.0           0.0  \n",
      "2023-06-21 12:30:00-04:00  1501630        0.0           0.0  \n",
      "2023-06-21 13:30:00-04:00  1314182        0.0           0.0  \n"
     ]
    }
   ],
   "source": [
    "msft = yf.Ticker(\"MSFT\")\n",
    "msft_df = msft.history(\n",
    "    period=\"max\", \n",
    "    interval=\"1h\",\n",
    ")\n",
    "print(msft_df.head())"
   ]
  },
  {
   "cell_type": "code",
   "execution_count": 4,
   "id": "58010948",
   "metadata": {},
   "outputs": [
    {
     "data": {
      "text/html": [
       "<div>\n",
       "<style scoped>\n",
       "    .dataframe tbody tr th:only-of-type {\n",
       "        vertical-align: middle;\n",
       "    }\n",
       "\n",
       "    .dataframe tbody tr th {\n",
       "        vertical-align: top;\n",
       "    }\n",
       "\n",
       "    .dataframe thead th {\n",
       "        text-align: right;\n",
       "    }\n",
       "</style>\n",
       "<table border=\"1\" class=\"dataframe\">\n",
       "  <thead>\n",
       "    <tr style=\"text-align: right;\">\n",
       "      <th></th>\n",
       "      <th>Open</th>\n",
       "      <th>High</th>\n",
       "      <th>Low</th>\n",
       "      <th>Close</th>\n",
       "      <th>Volume</th>\n",
       "      <th>Dividends</th>\n",
       "      <th>Stock Splits</th>\n",
       "    </tr>\n",
       "    <tr>\n",
       "      <th>Datetime</th>\n",
       "      <th></th>\n",
       "      <th></th>\n",
       "      <th></th>\n",
       "      <th></th>\n",
       "      <th></th>\n",
       "      <th></th>\n",
       "      <th></th>\n",
       "    </tr>\n",
       "  </thead>\n",
       "  <tbody>\n",
       "    <tr>\n",
       "      <th>2023-06-21 09:30:00-04:00</th>\n",
       "      <td>336.369995</td>\n",
       "      <td>337.730011</td>\n",
       "      <td>333.630005</td>\n",
       "      <td>334.320007</td>\n",
       "      <td>5706332</td>\n",
       "      <td>0.0</td>\n",
       "      <td>0.0</td>\n",
       "    </tr>\n",
       "    <tr>\n",
       "      <th>2023-06-21 10:30:00-04:00</th>\n",
       "      <td>334.329987</td>\n",
       "      <td>334.825989</td>\n",
       "      <td>332.070007</td>\n",
       "      <td>332.980103</td>\n",
       "      <td>3318595</td>\n",
       "      <td>0.0</td>\n",
       "      <td>0.0</td>\n",
       "    </tr>\n",
       "    <tr>\n",
       "      <th>2023-06-21 11:30:00-04:00</th>\n",
       "      <td>332.980011</td>\n",
       "      <td>334.480011</td>\n",
       "      <td>332.299988</td>\n",
       "      <td>333.690002</td>\n",
       "      <td>2518807</td>\n",
       "      <td>0.0</td>\n",
       "      <td>0.0</td>\n",
       "    </tr>\n",
       "    <tr>\n",
       "      <th>2023-06-21 12:30:00-04:00</th>\n",
       "      <td>333.660004</td>\n",
       "      <td>334.570007</td>\n",
       "      <td>333.480011</td>\n",
       "      <td>333.669891</td>\n",
       "      <td>1501630</td>\n",
       "      <td>0.0</td>\n",
       "      <td>0.0</td>\n",
       "    </tr>\n",
       "    <tr>\n",
       "      <th>2023-06-21 13:30:00-04:00</th>\n",
       "      <td>333.640015</td>\n",
       "      <td>335.220001</td>\n",
       "      <td>333.579987</td>\n",
       "      <td>335.209991</td>\n",
       "      <td>1314182</td>\n",
       "      <td>0.0</td>\n",
       "      <td>0.0</td>\n",
       "    </tr>\n",
       "    <tr>\n",
       "      <th>...</th>\n",
       "      <td>...</td>\n",
       "      <td>...</td>\n",
       "      <td>...</td>\n",
       "      <td>...</td>\n",
       "      <td>...</td>\n",
       "      <td>...</td>\n",
       "      <td>...</td>\n",
       "    </tr>\n",
       "    <tr>\n",
       "      <th>2025-06-18 11:30:00-04:00</th>\n",
       "      <td>479.220001</td>\n",
       "      <td>479.690002</td>\n",
       "      <td>478.779999</td>\n",
       "      <td>478.989990</td>\n",
       "      <td>986629</td>\n",
       "      <td>0.0</td>\n",
       "      <td>0.0</td>\n",
       "    </tr>\n",
       "    <tr>\n",
       "      <th>2025-06-18 12:30:00-04:00</th>\n",
       "      <td>478.970001</td>\n",
       "      <td>479.799988</td>\n",
       "      <td>478.429993</td>\n",
       "      <td>478.429993</td>\n",
       "      <td>816997</td>\n",
       "      <td>0.0</td>\n",
       "      <td>0.0</td>\n",
       "    </tr>\n",
       "    <tr>\n",
       "      <th>2025-06-18 13:30:00-04:00</th>\n",
       "      <td>478.470001</td>\n",
       "      <td>480.339996</td>\n",
       "      <td>477.980011</td>\n",
       "      <td>479.315002</td>\n",
       "      <td>1352118</td>\n",
       "      <td>0.0</td>\n",
       "      <td>0.0</td>\n",
       "    </tr>\n",
       "    <tr>\n",
       "      <th>2025-06-18 14:30:00-04:00</th>\n",
       "      <td>479.195007</td>\n",
       "      <td>480.670013</td>\n",
       "      <td>477.850006</td>\n",
       "      <td>478.540009</td>\n",
       "      <td>1689336</td>\n",
       "      <td>0.0</td>\n",
       "      <td>0.0</td>\n",
       "    </tr>\n",
       "    <tr>\n",
       "      <th>2025-06-18 15:30:00-04:00</th>\n",
       "      <td>478.540009</td>\n",
       "      <td>481.000000</td>\n",
       "      <td>478.369995</td>\n",
       "      <td>480.239990</td>\n",
       "      <td>2982104</td>\n",
       "      <td>0.0</td>\n",
       "      <td>0.0</td>\n",
       "    </tr>\n",
       "  </tbody>\n",
       "</table>\n",
       "<p>3487 rows × 7 columns</p>\n",
       "</div>"
      ],
      "text/plain": [
       "                                 Open        High         Low       Close  \\\n",
       "Datetime                                                                    \n",
       "2023-06-21 09:30:00-04:00  336.369995  337.730011  333.630005  334.320007   \n",
       "2023-06-21 10:30:00-04:00  334.329987  334.825989  332.070007  332.980103   \n",
       "2023-06-21 11:30:00-04:00  332.980011  334.480011  332.299988  333.690002   \n",
       "2023-06-21 12:30:00-04:00  333.660004  334.570007  333.480011  333.669891   \n",
       "2023-06-21 13:30:00-04:00  333.640015  335.220001  333.579987  335.209991   \n",
       "...                               ...         ...         ...         ...   \n",
       "2025-06-18 11:30:00-04:00  479.220001  479.690002  478.779999  478.989990   \n",
       "2025-06-18 12:30:00-04:00  478.970001  479.799988  478.429993  478.429993   \n",
       "2025-06-18 13:30:00-04:00  478.470001  480.339996  477.980011  479.315002   \n",
       "2025-06-18 14:30:00-04:00  479.195007  480.670013  477.850006  478.540009   \n",
       "2025-06-18 15:30:00-04:00  478.540009  481.000000  478.369995  480.239990   \n",
       "\n",
       "                            Volume  Dividends  Stock Splits  \n",
       "Datetime                                                     \n",
       "2023-06-21 09:30:00-04:00  5706332        0.0           0.0  \n",
       "2023-06-21 10:30:00-04:00  3318595        0.0           0.0  \n",
       "2023-06-21 11:30:00-04:00  2518807        0.0           0.0  \n",
       "2023-06-21 12:30:00-04:00  1501630        0.0           0.0  \n",
       "2023-06-21 13:30:00-04:00  1314182        0.0           0.0  \n",
       "...                            ...        ...           ...  \n",
       "2025-06-18 11:30:00-04:00   986629        0.0           0.0  \n",
       "2025-06-18 12:30:00-04:00   816997        0.0           0.0  \n",
       "2025-06-18 13:30:00-04:00  1352118        0.0           0.0  \n",
       "2025-06-18 14:30:00-04:00  1689336        0.0           0.0  \n",
       "2025-06-18 15:30:00-04:00  2982104        0.0           0.0  \n",
       "\n",
       "[3487 rows x 7 columns]"
      ]
     },
     "execution_count": 4,
     "metadata": {},
     "output_type": "execute_result"
    }
   ],
   "source": [
    "msft_df"
   ]
  },
  {
   "cell_type": "markdown",
   "id": "78f1f11b",
   "metadata": {},
   "source": [
    "google sites or sights"
   ]
  },
  {
   "cell_type": "markdown",
   "id": "d03026b1",
   "metadata": {},
   "source": [
    "# Feature Engineering"
   ]
  },
  {
   "cell_type": "markdown",
   "id": "cfdc6349",
   "metadata": {},
   "source": [
    "## Lagged Prices"
   ]
  },
  {
   "cell_type": "code",
   "execution_count": 5,
   "id": "4f4cb4e6",
   "metadata": {},
   "outputs": [],
   "source": [
    "for col in ['Open', 'High', 'Low', 'Close', 'Volume']:\n",
    "    lag_periods = [1, 2, 3, 4, 5, 6] # within 1 day range\n",
    "    for lag in lag_periods:\n",
    "        msft_df[f'{col}_price_lag_{lag}H'] = msft_df[col].shift(lag)"
   ]
  },
  {
   "cell_type": "markdown",
   "id": "b19c8e8c",
   "metadata": {},
   "source": [
    "## Lagged Returns"
   ]
  },
  {
   "cell_type": "markdown",
   "id": "281c80e3",
   "metadata": {},
   "source": [
    "#### Hourly"
   ]
  },
  {
   "cell_type": "code",
   "execution_count": 6,
   "id": "74ebf75e",
   "metadata": {},
   "outputs": [],
   "source": [
    "msft_df['Hourly_return'] = msft_df['Close'].pct_change(periods=1)\n",
    "lag_returns_hourly = [1, 2, 3, 4, 5, 6] # range within 1 day\n",
    "for lag in lag_returns_hourly:\n",
    "    msft_df[f'Hourly_return_lag_{lag}H'] = msft_df['Hourly_return'].shift(lag)"
   ]
  },
  {
   "cell_type": "markdown",
   "id": "d75b3df7",
   "metadata": {},
   "source": [
    "#### Daily"
   ]
  },
  {
   "cell_type": "code",
   "execution_count": 7,
   "id": "b1f48127",
   "metadata": {},
   "outputs": [],
   "source": [
    "msft_df['Daily_return'] = msft_df['Close'].pct_change(periods=7)\n",
    "lag_returns_daily = [7,14,21,28] # 1-4 day range\n",
    "for lag in lag_returns_daily:\n",
    "    msft_df[f'Daily_return_lag_{lag}H'] = msft_df['Daily_return'].shift(lag)"
   ]
  },
  {
   "cell_type": "markdown",
   "id": "a93cc31d",
   "metadata": {},
   "source": [
    "#### Weekly"
   ]
  },
  {
   "cell_type": "code",
   "execution_count": 8,
   "id": "b0b342bf",
   "metadata": {},
   "outputs": [],
   "source": [
    "msft_df['Weekly_return'] = msft_df['Close'].pct_change(periods=35)\n",
    "lag_returns_weekly = [35,70,105] # range within 3 weeks\n",
    "for lag in lag_returns_weekly:\n",
    "    msft_df[f'weekly_return_lag_{lag}H'] = msft_df['Weekly_return'].shift(lag)"
   ]
  },
  {
   "cell_type": "markdown",
   "id": "e1a96d8e",
   "metadata": {},
   "source": [
    "## Moving Averages"
   ]
  },
  {
   "cell_type": "markdown",
   "id": "89cd17cd",
   "metadata": {},
   "source": [
    "#### Simple"
   ]
  },
  {
   "cell_type": "code",
   "execution_count": 9,
   "id": "06acfa50",
   "metadata": {},
   "outputs": [],
   "source": [
    "sma_windows = [5, 7, 10, 21, 35, 50, 105, 140]\n",
    "for window in sma_windows:\n",
    "    msft_df[f'SMA_{window}H'] = msft_df['Close'].rolling(window=window).mean()"
   ]
  },
  {
   "cell_type": "markdown",
   "id": "f787ba37",
   "metadata": {},
   "source": [
    "#### Exponential"
   ]
  },
  {
   "cell_type": "code",
   "execution_count": 10,
   "id": "86d14202",
   "metadata": {},
   "outputs": [],
   "source": [
    "ema_windows = [5, 7, 10, 21, 35, 50, 105, 140]\n",
    "for window in ema_windows:\n",
    "    msft_df[f'EMA_{window}H'] = msft_df['Close'].ewm(span=window, adjust=False).mean()"
   ]
  },
  {
   "cell_type": "markdown",
   "id": "3774d240",
   "metadata": {},
   "source": [
    "#### Golden Crosses (Bullish Signals)"
   ]
  },
  {
   "cell_type": "markdown",
   "id": "7554476f",
   "metadata": {},
   "source": [
    "Using EMA for intra-day pricing. If using daily, weekly, monthly, SMA is preferred method."
   ]
  },
  {
   "cell_type": "code",
   "execution_count": 11,
   "id": "7bd153ea",
   "metadata": {},
   "outputs": [],
   "source": [
    "msft_df['Golden_Cross'] = ((msft_df['EMA_21H'] > msft_df['EMA_50H']) & (msft_df['EMA_21H'].shift(1) <= msft_df['EMA_50H'].shift(1))).astype(int)"
   ]
  },
  {
   "cell_type": "markdown",
   "id": "3f708779",
   "metadata": {},
   "source": [
    "#### Death Crosses (Bearish Signal)"
   ]
  },
  {
   "cell_type": "code",
   "execution_count": 12,
   "id": "4cc9a579",
   "metadata": {},
   "outputs": [],
   "source": [
    "msft_df['Death_Cross'] = ((msft_df['EMA_21H'] < msft_df['EMA_50H']) & (msft_df['EMA_21H'].shift(1) <= msft_df['EMA_50H'].shift(1))).astype(int)"
   ]
  },
  {
   "cell_type": "markdown",
   "id": "83f9e889",
   "metadata": {},
   "source": [
    "## Volatility"
   ]
  },
  {
   "cell_type": "markdown",
   "id": "f48438b1",
   "metadata": {},
   "source": [
    "#### Standard Deviation"
   ]
  },
  {
   "cell_type": "markdown",
   "id": "2875c1b8",
   "metadata": {},
   "source": [
    "Use returns rather than raw price for STD due to returns having stationarity."
   ]
  },
  {
   "cell_type": "code",
   "execution_count": 13,
   "id": "a45088fc",
   "metadata": {},
   "outputs": [],
   "source": [
    "volatility_window = [3, 7, 14, 35]\n",
    "\n",
    "for window in volatility_window:\n",
    "    msft_df[f'Volatility_StdDEV_{window}H'] = msft_df['Hourly_return'].rolling(window=window).std()"
   ]
  },
  {
   "cell_type": "markdown",
   "id": "48a2b4bb",
   "metadata": {},
   "source": [
    "The 'true' stock prices volatility over the window using EMA."
   ]
  },
  {
   "cell_type": "markdown",
   "id": "e15ce10a",
   "metadata": {},
   "source": [
    "## Technical Indicators"
   ]
  },
  {
   "cell_type": "markdown",
   "id": "ccb52653",
   "metadata": {},
   "source": [
    "#### Average True Range (Volatility)"
   ]
  },
  {
   "cell_type": "code",
   "execution_count": 14,
   "id": "16d22e1b",
   "metadata": {},
   "outputs": [],
   "source": [
    "atr_periods = [7, 14, 35, 70]\n",
    "for period in atr_periods:\n",
    "    msft_df[f'ATR_{period}H'] = ta.atr(\n",
    "        high = msft_df['High'],\n",
    "        low = msft_df['Low'],\n",
    "        close = msft_df['Close'].shift(1),\n",
    "        window=period\n",
    "    )"
   ]
  },
  {
   "cell_type": "markdown",
   "id": "2fda7d3f",
   "metadata": {},
   "source": [
    "#### RSI (Momentum Indicator)"
   ]
  },
  {
   "cell_type": "code",
   "execution_count": 15,
   "id": "e177d9d0",
   "metadata": {},
   "outputs": [],
   "source": [
    "msft_df['RSI_14'] = ta.rsi(msft_df['Close'], length=14)\n",
    "msft_df['RSI_Overbought'] = (msft_df['RSI_14'] > 70).astype(int)\n",
    "msft_df['RSI_Oversold'] = (msft_df['RSI_14'] < 30).astype(int)"
   ]
  },
  {
   "cell_type": "markdown",
   "id": "8a02c740",
   "metadata": {},
   "source": [
    "#### MACD (Momentum Indicator)"
   ]
  },
  {
   "cell_type": "code",
   "execution_count": 16,
   "id": "c4946783",
   "metadata": {},
   "outputs": [],
   "source": [
    "macd_results = ta.macd(msft_df['Close'], fast=12, slow=26, signal=9)\n",
    "msft_df['MACD'] = macd_results[macd_results.columns[0]]\n",
    "msft_df['MACD_Histogram'] = macd_results[macd_results.columns[1]]\n",
    "msft_df['MACD_Signal'] = macd_results[macd_results.columns[2]]"
   ]
  },
  {
   "cell_type": "code",
   "execution_count": 17,
   "id": "803542f0",
   "metadata": {},
   "outputs": [],
   "source": [
    "msft_df['MACD_Prev'] = msft_df['MACD'].shift(1)\n",
    "msft_df['MACD_Signal_Prev'] = msft_df['MACD_Signal'].shift(1)\n",
    "msft_df['MACD_Cross_Up'] = ((msft_df['MACD'] > msft_df['MACD_Signal']) & (msft_df['MACD_Prev'] <= msft_df['MACD_Signal_Prev'])).astype(int)\n",
    "msft_df['MACD_Cross_Down'] = ((msft_df['MACD'] < msft_df['MACD_Signal']) & (msft_df['MACD_Prev'] >= msft_df['MACD_Signal_Prev'])).astype(int)"
   ]
  },
  {
   "cell_type": "markdown",
   "id": "e9e17a80",
   "metadata": {},
   "source": [
    "#### Bollinger Bands (Volatility Indicator)"
   ]
  },
  {
   "cell_type": "code",
   "execution_count": 18,
   "id": "b49031b9",
   "metadata": {},
   "outputs": [],
   "source": [
    "bbands_results = ta.bbands(msft_df['Close'], length=2, std=2)\n",
    "msft_df['Bollinger_Lower'] = bbands_results[bbands_results.columns[0]]\n",
    "msft_df['Bollinger_Middle'] = bbands_results[bbands_results.columns[1]]\n",
    "msft_df['Bollinger_Upper'] = bbands_results[bbands_results.columns[2]]\n",
    "msft_df['Bollinger_Bandwidth_Raw'] = bbands_results[bbands_results.columns[3]]\n",
    "msft_df['Bollinger_PercentageB'] = bbands_results[bbands_results.columns[4]]"
   ]
  },
  {
   "cell_type": "code",
   "execution_count": 19,
   "id": "e8cf1cb8",
   "metadata": {},
   "outputs": [],
   "source": [
    "msft_df['Bollinger_Bandwidth'] = msft_df['Bollinger_Bandwidth_Raw'] / 100\n",
    "msft_df['Price_Above_Upper_BB'] = (msft_df['Close'] > msft_df['Bollinger_Upper']).astype(int)\n",
    "msft_df['Price_Below_Lower_BB'] = (msft_df['Close'] < msft_df['Bollinger_Lower']).astype(int)"
   ]
  },
  {
   "cell_type": "markdown",
   "id": "abb3037a",
   "metadata": {},
   "source": [
    "#### Stochastic Oscillator (Momentum Indicator)"
   ]
  },
  {
   "cell_type": "code",
   "execution_count": 20,
   "id": "666cc278",
   "metadata": {},
   "outputs": [],
   "source": [
    "stoch_results = ta.stoch(msft_df['High'], msft_df['Low'], msft_df['Close'], k=14, d=3)\n",
    "msft_df['Stochastic_K'] = stoch_results[stoch_results.columns[0]]\n",
    "msft_df['Stochastic_D'] = stoch_results[stoch_results.columns[1]]\n",
    "\n",
    "msft_df['Stochsatic_Overbought'] = (msft_df['Stochastic_K'] > 80).astype(int)\n",
    "msft_df['Stochastic_Oversold'] = (msft_df['Stochastic_K'] < 20).astype(int)"
   ]
  },
  {
   "cell_type": "markdown",
   "id": "869ffcb0",
   "metadata": {},
   "source": [
    "#### ADX (Trend/Momentum Indicator)"
   ]
  },
  {
   "cell_type": "code",
   "execution_count": 21,
   "id": "2fe410a7",
   "metadata": {},
   "outputs": [
    {
     "name": "stderr",
     "output_type": "stream",
     "text": [
      "C:\\Users\\billy\\AppData\\Local\\Temp\\ipykernel_17576\\1246314810.py:2: PerformanceWarning: DataFrame is highly fragmented.  This is usually the result of calling `frame.insert` many times, which has poor performance.  Consider joining all columns at once using pd.concat(axis=1) instead. To get a de-fragmented frame, use `newframe = frame.copy()`\n",
      "  msft_df['ADX_14'] = adx_results[adx_results.columns[0]]\n",
      "C:\\Users\\billy\\AppData\\Local\\Temp\\ipykernel_17576\\1246314810.py:3: PerformanceWarning: DataFrame is highly fragmented.  This is usually the result of calling `frame.insert` many times, which has poor performance.  Consider joining all columns at once using pd.concat(axis=1) instead. To get a de-fragmented frame, use `newframe = frame.copy()`\n",
      "  msft_df['Positive_DI'] = adx_results[adx_results.columns[1]]\n",
      "C:\\Users\\billy\\AppData\\Local\\Temp\\ipykernel_17576\\1246314810.py:4: PerformanceWarning: DataFrame is highly fragmented.  This is usually the result of calling `frame.insert` many times, which has poor performance.  Consider joining all columns at once using pd.concat(axis=1) instead. To get a de-fragmented frame, use `newframe = frame.copy()`\n",
      "  msft_df['Negative_DI'] = adx_results[adx_results.columns[2]]\n",
      "C:\\Users\\billy\\AppData\\Local\\Temp\\ipykernel_17576\\1246314810.py:5: PerformanceWarning: DataFrame is highly fragmented.  This is usually the result of calling `frame.insert` many times, which has poor performance.  Consider joining all columns at once using pd.concat(axis=1) instead. To get a de-fragmented frame, use `newframe = frame.copy()`\n",
      "  msft_df['Trend_Strong_ADX'] = (msft_df['ADX_14'] > 25).astype(int)\n"
     ]
    }
   ],
   "source": [
    "adx_results = ta.adx(msft_df['High'], msft_df['Low'], msft_df['Close'], length=14)\n",
    "msft_df['ADX_14'] = adx_results[adx_results.columns[0]]\n",
    "msft_df['Positive_DI'] = adx_results[adx_results.columns[1]]\n",
    "msft_df['Negative_DI'] = adx_results[adx_results.columns[2]]\n",
    "msft_df['Trend_Strong_ADX'] = (msft_df['ADX_14'] > 25).astype(int)\n"
   ]
  },
  {
   "cell_type": "markdown",
   "id": "66ecbc97",
   "metadata": {},
   "source": [
    "## Time Stamps"
   ]
  },
  {
   "cell_type": "code",
   "execution_count": 22,
   "id": "f4209917",
   "metadata": {},
   "outputs": [
    {
     "name": "stderr",
     "output_type": "stream",
     "text": [
      "C:\\Users\\billy\\AppData\\Local\\Temp\\ipykernel_17576\\2403176649.py:1: PerformanceWarning: DataFrame is highly fragmented.  This is usually the result of calling `frame.insert` many times, which has poor performance.  Consider joining all columns at once using pd.concat(axis=1) instead. To get a de-fragmented frame, use `newframe = frame.copy()`\n",
      "  msft_df['Hour'] = msft_df.index.hour\n",
      "C:\\Users\\billy\\AppData\\Local\\Temp\\ipykernel_17576\\2403176649.py:2: PerformanceWarning: DataFrame is highly fragmented.  This is usually the result of calling `frame.insert` many times, which has poor performance.  Consider joining all columns at once using pd.concat(axis=1) instead. To get a de-fragmented frame, use `newframe = frame.copy()`\n",
      "  msft_df['Day_of_Week'] = msft_df.index.dayofweek\n",
      "C:\\Users\\billy\\AppData\\Local\\Temp\\ipykernel_17576\\2403176649.py:3: PerformanceWarning: DataFrame is highly fragmented.  This is usually the result of calling `frame.insert` many times, which has poor performance.  Consider joining all columns at once using pd.concat(axis=1) instead. To get a de-fragmented frame, use `newframe = frame.copy()`\n",
      "  msft_df['Day_of_Month'] = msft_df.index.day\n",
      "C:\\Users\\billy\\AppData\\Local\\Temp\\ipykernel_17576\\2403176649.py:4: PerformanceWarning: DataFrame is highly fragmented.  This is usually the result of calling `frame.insert` many times, which has poor performance.  Consider joining all columns at once using pd.concat(axis=1) instead. To get a de-fragmented frame, use `newframe = frame.copy()`\n",
      "  msft_df['Month'] = msft_df.index.month\n",
      "C:\\Users\\billy\\AppData\\Local\\Temp\\ipykernel_17576\\2403176649.py:5: PerformanceWarning: DataFrame is highly fragmented.  This is usually the result of calling `frame.insert` many times, which has poor performance.  Consider joining all columns at once using pd.concat(axis=1) instead. To get a de-fragmented frame, use `newframe = frame.copy()`\n",
      "  msft_df['Year'] = msft_df.index.year\n",
      "C:\\Users\\billy\\AppData\\Local\\Temp\\ipykernel_17576\\2403176649.py:6: PerformanceWarning: DataFrame is highly fragmented.  This is usually the result of calling `frame.insert` many times, which has poor performance.  Consider joining all columns at once using pd.concat(axis=1) instead. To get a de-fragmented frame, use `newframe = frame.copy()`\n",
      "  msft_df['Week_of_Year'] = msft_df.index.isocalendar().week.astype(int)\n"
     ]
    }
   ],
   "source": [
    "msft_df['Hour'] = msft_df.index.hour\n",
    "msft_df['Day_of_Week'] = msft_df.index.dayofweek\n",
    "msft_df['Day_of_Month'] = msft_df.index.day\n",
    "msft_df['Month'] = msft_df.index.month\n",
    "msft_df['Year'] = msft_df.index.year\n",
    "msft_df['Week_of_Year'] = msft_df.index.isocalendar().week.astype(int)"
   ]
  },
  {
   "cell_type": "code",
   "execution_count": null,
   "id": "096ef41b",
   "metadata": {},
   "outputs": [
    {
     "name": "stderr",
     "output_type": "stream",
     "text": [
      "C:\\Users\\billy\\AppData\\Local\\Temp\\ipykernel_17576\\2492229156.py:1: PerformanceWarning: DataFrame is highly fragmented.  This is usually the result of calling `frame.insert` many times, which has poor performance.  Consider joining all columns at once using pd.concat(axis=1) instead. To get a de-fragmented frame, use `newframe = frame.copy()`\n",
      "  msft_df['Hour_sin'] = np.sin(2 * np.pi * msft_df['Hour'] / 24)\n",
      "C:\\Users\\billy\\AppData\\Local\\Temp\\ipykernel_17576\\2492229156.py:2: PerformanceWarning: DataFrame is highly fragmented.  This is usually the result of calling `frame.insert` many times, which has poor performance.  Consider joining all columns at once using pd.concat(axis=1) instead. To get a de-fragmented frame, use `newframe = frame.copy()`\n",
      "  msft_df['Hour_cos'] = np.cos(2 * np.pi * msft_df['Hour'] / 24)\n",
      "C:\\Users\\billy\\AppData\\Local\\Temp\\ipykernel_17576\\2492229156.py:3: PerformanceWarning: DataFrame is highly fragmented.  This is usually the result of calling `frame.insert` many times, which has poor performance.  Consider joining all columns at once using pd.concat(axis=1) instead. To get a de-fragmented frame, use `newframe = frame.copy()`\n",
      "  msft_df['Day_of_Week_sin'] = np.sin(2 * np.pi * msft_df['Day_of_Week'] / 7)\n",
      "C:\\Users\\billy\\AppData\\Local\\Temp\\ipykernel_17576\\2492229156.py:4: PerformanceWarning: DataFrame is highly fragmented.  This is usually the result of calling `frame.insert` many times, which has poor performance.  Consider joining all columns at once using pd.concat(axis=1) instead. To get a de-fragmented frame, use `newframe = frame.copy()`\n",
      "  msft_df['Day_of_Week_cos'] = np.cos(2 * np.pi * msft_df['Day_of_Week'] / 7)\n"
     ]
    }
   ],
   "source": [
    "msft_df['Hour_sin'] = np.sin(2 * np.pi * msft_df['Hour'] / 24)\n",
    "msft_df['Hour_cos'] = np.cos(2 * np.pi * msft_df['Hour'] / 24)\n",
    "msft_df['Day_of_Week_sin'] = np.sin(2 * np.pi * msft_df['Day_of_Week'] / 7)\n",
    "msft_df['Day_of_Week_cos'] = np.cos(2 * np.pi * msft_df['Day_of_Week'] / 7)\n",
    "msft_df = pd.get_dummies(msft_df, columns=['Day_of_Week'], prefix='Day', drop_first=False)\n",
    "msft_df = pd.get_dummies(msft_df, columns=['Month'], prefix='Month', drop_first=False)"
   ]
  },
  {
   "cell_type": "markdown",
   "id": "6861b769",
   "metadata": {},
   "source": [
    "## Volume Based"
   ]
  },
  {
   "cell_type": "markdown",
   "id": "d841181c",
   "metadata": {},
   "source": [
    "#### Moving Average"
   ]
  },
  {
   "cell_type": "code",
   "execution_count": 26,
   "id": "422fcd8f",
   "metadata": {},
   "outputs": [],
   "source": [
    "for window in [5, 10, 20]:\n",
    "    msft_df[f'Volume_SMA_{window}H'] = msft_df['Volume'].rolling(window=window).mean()\n",
    "msft_df['Volume_Change'] = msft_df['Volume'].pct_change()\n",
    "msft_df['Volume_Ratio_20H'] = msft_df['Volume'] / msft_df[f'Volume_SMA_20H']"
   ]
  },
  {
   "cell_type": "markdown",
   "id": "623b3d97",
   "metadata": {},
   "source": [
    "#### On-Balanced Volume (Momentum Indicator)"
   ]
  },
  {
   "cell_type": "code",
   "execution_count": null,
   "id": "0e08412e",
   "metadata": {},
   "outputs": [],
   "source": [
    "msft_df['OBV'] = ta.obv(msft_df['Close'], msft_df['Volume'])\n",
    "msft_df[f'OBV_EMA_9H'] = msft_df['OBV'].ewm(span=9, adjust=False).mean()"
   ]
  },
  {
   "cell_type": "markdown",
   "id": "91e472e5",
   "metadata": {},
   "source": [
    "#### Price Action Patterns"
   ]
  },
  {
   "cell_type": "code",
   "execution_count": null,
   "id": "3d3292ed",
   "metadata": {},
   "outputs": [],
   "source": [
    "msft_df['High_Low_Range'] = msft_df['High'] - msft_df['Low']\n",
    "msft_df['Open_Close_Range'] = msft_df['Close'] - msft_df['Open']\n",
    "msft_df['High_Low_Range_Pct'] = (msft_df['High'] - msft_df['Low']) / msft_df['Close'] * 100\n",
    "msft_df['Open_Close_Range_Pct'] = (msft_df['Close'] -  msft_df['Open']) / msft_df['Open'] * 100"
   ]
  },
  {
   "cell_type": "markdown",
   "id": "26c72d3d",
   "metadata": {},
   "source": [
    "### Other"
   ]
  },
  {
   "cell_type": "code",
   "execution_count": 30,
   "id": "531ea4d3",
   "metadata": {},
   "outputs": [],
   "source": [
    "msft_df['RSI_x_Volume'] = msft_df['RSI_14'] * msft_df['Volume']"
   ]
  },
  {
   "cell_type": "code",
   "execution_count": 31,
   "id": "45fb07ac",
   "metadata": {},
   "outputs": [
    {
     "data": {
      "text/plain": [
       "(3487, 138)"
      ]
     },
     "execution_count": 31,
     "metadata": {},
     "output_type": "execute_result"
    }
   ],
   "source": [
    "msft_df.shape"
   ]
  },
  {
   "cell_type": "code",
   "execution_count": 34,
   "id": "c9dc65a8",
   "metadata": {},
   "outputs": [
    {
     "data": {
      "text/plain": [
       "(3347, 138)"
      ]
     },
     "execution_count": 34,
     "metadata": {},
     "output_type": "execute_result"
    }
   ],
   "source": [
    "msft_df.dropna().shape"
   ]
  },
  {
   "cell_type": "code",
   "execution_count": null,
   "id": "ed5bff02",
   "metadata": {},
   "outputs": [
    {
     "ename": "SyntaxError",
     "evalue": "invalid syntax (2139997356.py, line 1)",
     "output_type": "error",
     "traceback": [
      "  \u001b[36mCell\u001b[39m\u001b[36m \u001b[39m\u001b[32mIn[25]\u001b[39m\u001b[32m, line 1\u001b[39m\n\u001b[31m    \u001b[39m\u001b[31mdecision tree - for feature importance\u001b[39m\n             ^\n\u001b[31mSyntaxError\u001b[39m\u001b[31m:\u001b[39m invalid syntax\n"
     ]
    }
   ],
   "source": [
    "# decision tree - for feature importance \n",
    "# humance intelligence - "
   ]
  },
  {
   "cell_type": "code",
   "execution_count": null,
   "id": "0b130c08",
   "metadata": {},
   "outputs": [],
   "source": []
  }
 ],
 "metadata": {
  "kernelspec": {
   "display_name": "stock_predictions",
   "language": "python",
   "name": "python3"
  },
  "language_info": {
   "codemirror_mode": {
    "name": "ipython",
    "version": 3
   },
   "file_extension": ".py",
   "mimetype": "text/x-python",
   "name": "python",
   "nbconvert_exporter": "python",
   "pygments_lexer": "ipython3",
   "version": "3.12.11"
  }
 },
 "nbformat": 4,
 "nbformat_minor": 5
}
